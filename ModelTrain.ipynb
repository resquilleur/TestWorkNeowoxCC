{
  "nbformat": 4,
  "nbformat_minor": 0,
  "metadata": {
    "colab": {
      "name": "Egor Zhukov Test Work for Neovox Contact Center.ipynb",
      "provenance": [],
      "collapsed_sections": [],
      "machine_shape": "hm",
      "include_colab_link": true
    },
    "kernelspec": {
      "name": "python3",
      "display_name": "Python 3"
    },
    "accelerator": "GPU"
  },
  "cells": [
    {
      "cell_type": "markdown",
      "metadata": {
        "id": "view-in-github",
        "colab_type": "text"
      },
      "source": [
        "<a href=\"https://colab.research.google.com/github/resquilleur/TestWorkNeowoxCC/blob/master/ModelTrain.ipynb\" target=\"_parent\"><img src=\"https://colab.research.google.com/assets/colab-badge.svg\" alt=\"Open In Colab\"/></a>"
      ]
    },
    {
      "cell_type": "code",
      "metadata": {
        "id": "RoLBxe0IGH7n",
        "outputId": "741a1f1d-a38f-427b-9183-dcd13ceff3cf",
        "colab": {
          "base_uri": "https://localhost:8080/"
        }
      },
      "source": [
        "!git pull"
      ],
      "execution_count": 53,
      "outputs": [
        {
          "output_type": "stream",
          "text": [
            "remote: Enumerating objects: 7, done.\u001b[K\n",
            "remote: Counting objects:  14% (1/7)\u001b[K\rremote: Counting objects:  28% (2/7)\u001b[K\rremote: Counting objects:  42% (3/7)\u001b[K\rremote: Counting objects:  57% (4/7)\u001b[K\rremote: Counting objects:  71% (5/7)\u001b[K\rremote: Counting objects:  85% (6/7)\u001b[K\rremote: Counting objects: 100% (7/7)\u001b[K\rremote: Counting objects: 100% (7/7), done.\u001b[K\n",
            "remote: Compressing objects:  50% (1/2)\u001b[K\rremote: Compressing objects: 100% (2/2)\u001b[K\rremote: Compressing objects: 100% (2/2), done.\u001b[K\n",
            "remote: Total 4 (delta 2), reused 4 (delta 2), pack-reused 0\u001b[K\n",
            "Unpacking objects:  25% (1/4)   \rUnpacking objects:  50% (2/4)   \rUnpacking objects:  75% (3/4)   \rUnpacking objects: 100% (4/4)   \rUnpacking objects: 100% (4/4), done.\n",
            "From https://github.com/resquilleur/TestWorkNeowoxCC\n",
            "   ef7768d..cabc9c2  master     -> origin/master\n",
            "Updating ef7768d..cabc9c2\n",
            "Fast-forward\n",
            " model_pack/model.py | 6 \u001b[31m------\u001b[m\n",
            " 1 file changed, 6 deletions(-)\n"
          ],
          "name": "stdout"
        }
      ]
    },
    {
      "cell_type": "markdown",
      "metadata": {
        "id": "4cbgwZWWfWpp"
      },
      "source": [
        "# Импорт библиотек"
      ]
    },
    {
      "cell_type": "code",
      "metadata": {
        "id": "tAb77yZ9fzMG"
      },
      "source": [
        "from TestWorkNeowoxCC.model_pack.model import *\n",
        "\n",
        "import pandas as pd\n",
        "import numpy as np\n",
        "\n",
        "from tensorflow.keras.callbacks import ModelCheckpoint\n",
        "# from tensorflow.keras.optimizers import Adam, RMSprop\n",
        "# from tensorflow.keras.layers import Input, Dense, BatchNormalization, Conv1D, LSTM, Activation, Flatten, Embedding\n",
        "# from tensorflow.keras.layers import Bidirectional, SpatialDropout1D, GlobalAvgPool1D, MaxPooling1D, Dropout, Conv1DTranspose\n",
        "# from tensorflow.keras.preprocessing.text import Tokenizer\n",
        "# from tensorflow.keras.preprocessing.sequence import pad_sequences"
      ],
      "execution_count": 54,
      "outputs": []
    },
    {
      "cell_type": "markdown",
      "metadata": {
        "id": "ZkGXMKzbXRlp"
      },
      "source": [
        "## Загрузка обработанных данных"
      ]
    },
    {
      "cell_type": "markdown",
      "metadata": {
        "id": "FxYuqz1A43HF"
      },
      "source": [
        "x_train, x_test, y_train, y_test - это аугментированные, но не нормализованные наборы\n",
        "\n",
        "x_train_norm, x_test_norm, y_train_norm, y_test_norm - это аугментированные, нормализованные наборы"
      ]
    },
    {
      "cell_type": "code",
      "metadata": {
        "id": "TPvOsPdJ7jlp",
        "colab": {
          "base_uri": "https://localhost:8080/"
        },
        "outputId": "97d6a9d0-7360-440c-8ea5-5630bf1f1412"
      },
      "source": [
        "%cd TestWorkNeowoxCC"
      ],
      "execution_count": 17,
      "outputs": [
        {
          "output_type": "stream",
          "text": [
            "[Errno 2] No such file or directory: 'TestWorkNeowoxCC'\n",
            "/content/TestWorkNeowoxCC\n"
          ],
          "name": "stdout"
        }
      ]
    },
    {
      "cell_type": "code",
      "metadata": {
        "id": "3SWT1KEr4eg6"
      },
      "source": [
        "numpy_data_list = []\n",
        "list_name = ['x_train', 'x_test', 'y_train', 'y_test', 'x_train_norm', 'x_test_norm', 'y_train_norm', 'y_test_norm']\n",
        "\n",
        "# функция загрузки\n",
        "def numpy_load(name):\n",
        "    with open(f'data/{name}.npy', 'rb') as f:\n",
        "        data = np.load(f)\n",
        "    return data\n",
        "\n",
        "for name in list_name:\n",
        "    numpy_data_list.append(numpy_load(name))\n",
        "\n",
        "x_train, x_test, y_train, y_test= numpy_data_list[0], numpy_data_list[1], numpy_data_list[2], numpy_data_list[3]\n",
        "x_train_norm, x_test_norm, y_train_norm, y_test_norm = numpy_data_list[4], numpy_data_list[5], numpy_data_list[6], numpy_data_list[7]\n",
        "\n",
        "with open(f'data/vocabulary_len.pickle', 'rb') as f:\n",
        "        vocab_len_list = np.load(f, allow_pickle=True)"
      ],
      "execution_count": 18,
      "outputs": []
    },
    {
      "cell_type": "markdown",
      "metadata": {
        "id": "-eY-9QT7WRUw"
      },
      "source": [
        "## Создание сети"
      ]
    },
    {
      "cell_type": "code",
      "metadata": {
        "id": "RPTy_dxg_pA1"
      },
      "source": [
        "fabric = ModelFabric()\n",
        "model_lstm = fabric.create_model('lstm')\n",
        "model_conv = fabric.create_model('conv')"
      ],
      "execution_count": 55,
      "outputs": []
    },
    {
      "cell_type": "code",
      "metadata": {
        "id": "rPauhENMS9EJ",
        "outputId": "c31452e6-938e-4833-fca9-d8c2eeee2d1a",
        "colab": {
          "base_uri": "https://localhost:8080/"
        }
      },
      "source": [
        "model_lstm.fit"
      ],
      "execution_count": 61,
      "outputs": [
        {
          "output_type": "execute_result",
          "data": {
            "text/plain": [
              "<TestWorkNeowoxCC.model_pack.model.NetLSTM at 0x7f3266855450>"
            ]
          },
          "metadata": {
            "tags": []
          },
          "execution_count": 61
        }
      ]
    },
    {
      "cell_type": "code",
      "metadata": {
        "id": "0L5xKt1NSy8F"
      },
      "source": [
        "model_name = ''"
      ],
      "execution_count": 59,
      "outputs": []
    },
    {
      "cell_type": "code",
      "metadata": {
        "id": "MxJOzrBYPx-t",
        "outputId": "f71c8a86-3f97-42aa-ce52-4b323a2cf210",
        "colab": {
          "base_uri": "https://localhost:8080/",
          "height": 229
        }
      },
      "source": [
        "model_checkpoint_callback = ModelCheckpoint(\n",
        "    filepath=f'data/best_weights{model_name}.h5',\n",
        "    save_weights_only=True,\n",
        "    monitor='val_loss',\n",
        "    mode='min',\n",
        "    save_best_only=True)\n",
        "\n",
        "model_lstm64 = model_lstm.make_architecture(vocab_len_list[0], 6, 1, 7, 7)\n",
        "model_lstm64.compile(optimizer=Adam(learning_rate=0.001, decay=1e-6), loss='categorical_crossentropy', metrics=['accuracy'])\n",
        "model_lstm64.fit(\n",
        "    x_train,\n",
        "    y_train,\n",
        "    batch_size=32,\n",
        "    epochs=30,\n",
        "    validation_data=(x_test, y_test),\n",
        "    callbacks=model_checkpoint_callback\n",
        ")"
      ],
      "execution_count": 60,
      "outputs": [
        {
          "output_type": "error",
          "ename": "AttributeError",
          "evalue": "ignored",
          "traceback": [
            "\u001b[0;31m---------------------------------------------------------------------------\u001b[0m",
            "\u001b[0;31mAttributeError\u001b[0m                            Traceback (most recent call last)",
            "\u001b[0;32m<ipython-input-60-b95b188d43de>\u001b[0m in \u001b[0;36m<module>\u001b[0;34m()\u001b[0m\n\u001b[1;32m      6\u001b[0m     save_best_only=True)\n\u001b[1;32m      7\u001b[0m \u001b[0;34m\u001b[0m\u001b[0m\n\u001b[0;32m----> 8\u001b[0;31m \u001b[0mmodel_lstm64\u001b[0m \u001b[0;34m=\u001b[0m \u001b[0mmodel_lstm\u001b[0m\u001b[0;34m.\u001b[0m\u001b[0mcopy\u001b[0m\u001b[0;34m(\u001b[0m\u001b[0;34m)\u001b[0m\u001b[0;34m.\u001b[0m\u001b[0mmake_architecture\u001b[0m\u001b[0;34m(\u001b[0m\u001b[0mvocab_len_list\u001b[0m\u001b[0;34m[\u001b[0m\u001b[0;36m0\u001b[0m\u001b[0;34m]\u001b[0m\u001b[0;34m,\u001b[0m \u001b[0;36m6\u001b[0m\u001b[0;34m,\u001b[0m \u001b[0;36m1\u001b[0m\u001b[0;34m,\u001b[0m \u001b[0;36m7\u001b[0m\u001b[0;34m,\u001b[0m \u001b[0;36m7\u001b[0m\u001b[0;34m)\u001b[0m\u001b[0;34m\u001b[0m\u001b[0;34m\u001b[0m\u001b[0m\n\u001b[0m\u001b[1;32m      9\u001b[0m \u001b[0mmodel_lstm64\u001b[0m\u001b[0;34m.\u001b[0m\u001b[0mcompile\u001b[0m\u001b[0;34m(\u001b[0m\u001b[0moptimizer\u001b[0m\u001b[0;34m=\u001b[0m\u001b[0mAdam\u001b[0m\u001b[0;34m(\u001b[0m\u001b[0mlearning_rate\u001b[0m\u001b[0;34m=\u001b[0m\u001b[0;36m0.001\u001b[0m\u001b[0;34m,\u001b[0m \u001b[0mdecay\u001b[0m\u001b[0;34m=\u001b[0m\u001b[0;36m1e-6\u001b[0m\u001b[0;34m)\u001b[0m\u001b[0;34m,\u001b[0m \u001b[0mloss\u001b[0m\u001b[0;34m=\u001b[0m\u001b[0;34m'categorical_crossentropy'\u001b[0m\u001b[0;34m,\u001b[0m \u001b[0mmetrics\u001b[0m\u001b[0;34m=\u001b[0m\u001b[0;34m[\u001b[0m\u001b[0;34m'accuracy'\u001b[0m\u001b[0;34m]\u001b[0m\u001b[0;34m)\u001b[0m\u001b[0;34m\u001b[0m\u001b[0;34m\u001b[0m\u001b[0m\n\u001b[1;32m     10\u001b[0m model_lstm64.fit(\n",
            "\u001b[0;31mAttributeError\u001b[0m: 'NetLSTM' object has no attribute 'copy'"
          ]
        }
      ]
    },
    {
      "cell_type": "code",
      "metadata": {
        "id": "CiqzzUgZ_pFQ",
        "outputId": "62f18ca5-bcab-435b-c195-a4db9362a03e",
        "colab": {
          "base_uri": "https://localhost:8080/",
          "height": 558
        }
      },
      "source": [
        "model_lstm128 = model_lstm.model_lstm.copy().make_architecture(vocab_len_list[0], 6, 1, 7, 7)\n",
        "model_lstm128.compile(optimizer=Adam(learning_rate=0.001, decay=1e-6), loss='categorical_crossentropy', metrics=['accuracy'])\n",
        "model_lstm128.fit(\n",
        "    x_train,\n",
        "    y_train,\n",
        "    batch_size=32,\n",
        "    epochs=30,\n",
        "    validation_data=(x_test, y_test),\n",
        "    callbacks=model_checkpoint_callback\n",
        ")"
      ],
      "execution_count": 57,
      "outputs": [
        {
          "output_type": "stream",
          "text": [
            "WARNING:tensorflow:Layer lstm_19 will not use cuDNN kernel since it doesn't meet the cuDNN kernel criteria. It will use generic GPU kernel as fallback when running on GPU\n",
            "Epoch 1/30\n",
            "WARNING:tensorflow:Gradients do not exist for variables ['embedding_18/embeddings:0', 'batch_normalization_18/gamma:0', 'batch_normalization_18/beta:0', 'lstm_18/lstm_cell_18/kernel:0', 'lstm_18/lstm_cell_18/recurrent_kernel:0', 'lstm_18/lstm_cell_18/bias:0', 'dense_18/kernel:0', 'dense_18/bias:0'] when minimizing the loss.\n",
            "WARNING:tensorflow:Gradients do not exist for variables ['embedding_18/embeddings:0', 'batch_normalization_18/gamma:0', 'batch_normalization_18/beta:0', 'lstm_18/lstm_cell_18/kernel:0', 'lstm_18/lstm_cell_18/recurrent_kernel:0', 'lstm_18/lstm_cell_18/bias:0', 'dense_18/kernel:0', 'dense_18/bias:0'] when minimizing the loss.\n",
            "28/28 [==============================] - 5s 65ms/step - loss: 1.8488 - accuracy: 0.1557 - val_loss: 1.7859 - val_accuracy: 0.1794\n",
            "Epoch 2/30\n",
            "28/28 [==============================] - 1s 44ms/step - loss: 1.8135 - accuracy: 0.2032 - val_loss: 1.7825 - val_accuracy: 0.1794\n",
            "Epoch 3/30\n",
            "28/28 [==============================] - 1s 40ms/step - loss: 1.8234 - accuracy: 0.2045 - val_loss: 1.7807 - val_accuracy: 0.1794\n",
            "Epoch 4/30\n",
            "11/28 [==========>...................] - ETA: 0s - loss: 1.8319 - accuracy: 0.2141"
          ],
          "name": "stdout"
        },
        {
          "output_type": "error",
          "ename": "KeyboardInterrupt",
          "evalue": "ignored",
          "traceback": [
            "\u001b[0;31m---------------------------------------------------------------------------\u001b[0m",
            "\u001b[0;31mKeyboardInterrupt\u001b[0m                         Traceback (most recent call last)",
            "\u001b[0;32m<ipython-input-57-a01d49b68173>\u001b[0m in \u001b[0;36m<module>\u001b[0;34m()\u001b[0m\n\u001b[1;32m      7\u001b[0m     \u001b[0mepochs\u001b[0m\u001b[0;34m=\u001b[0m\u001b[0;36m30\u001b[0m\u001b[0;34m,\u001b[0m\u001b[0;34m\u001b[0m\u001b[0;34m\u001b[0m\u001b[0m\n\u001b[1;32m      8\u001b[0m     \u001b[0mvalidation_data\u001b[0m\u001b[0;34m=\u001b[0m\u001b[0;34m(\u001b[0m\u001b[0mx_test\u001b[0m\u001b[0;34m,\u001b[0m \u001b[0my_test\u001b[0m\u001b[0;34m)\u001b[0m\u001b[0;34m,\u001b[0m\u001b[0;34m\u001b[0m\u001b[0;34m\u001b[0m\u001b[0m\n\u001b[0;32m----> 9\u001b[0;31m     \u001b[0mcallbacks\u001b[0m\u001b[0;34m=\u001b[0m\u001b[0mmodel_checkpoint_callback\u001b[0m\u001b[0;34m\u001b[0m\u001b[0;34m\u001b[0m\u001b[0m\n\u001b[0m\u001b[1;32m     10\u001b[0m )\n",
            "\u001b[0;32m/usr/local/lib/python3.7/dist-packages/tensorflow/python/keras/engine/training.py\u001b[0m in \u001b[0;36mfit\u001b[0;34m(self, x, y, batch_size, epochs, verbose, callbacks, validation_split, validation_data, shuffle, class_weight, sample_weight, initial_epoch, steps_per_epoch, validation_steps, validation_batch_size, validation_freq, max_queue_size, workers, use_multiprocessing)\u001b[0m\n\u001b[1;32m   1098\u001b[0m                 _r=1):\n\u001b[1;32m   1099\u001b[0m               \u001b[0mcallbacks\u001b[0m\u001b[0;34m.\u001b[0m\u001b[0mon_train_batch_begin\u001b[0m\u001b[0;34m(\u001b[0m\u001b[0mstep\u001b[0m\u001b[0;34m)\u001b[0m\u001b[0;34m\u001b[0m\u001b[0;34m\u001b[0m\u001b[0m\n\u001b[0;32m-> 1100\u001b[0;31m               \u001b[0mtmp_logs\u001b[0m \u001b[0;34m=\u001b[0m \u001b[0mself\u001b[0m\u001b[0;34m.\u001b[0m\u001b[0mtrain_function\u001b[0m\u001b[0;34m(\u001b[0m\u001b[0miterator\u001b[0m\u001b[0;34m)\u001b[0m\u001b[0;34m\u001b[0m\u001b[0;34m\u001b[0m\u001b[0m\n\u001b[0m\u001b[1;32m   1101\u001b[0m               \u001b[0;32mif\u001b[0m \u001b[0mdata_handler\u001b[0m\u001b[0;34m.\u001b[0m\u001b[0mshould_sync\u001b[0m\u001b[0;34m:\u001b[0m\u001b[0;34m\u001b[0m\u001b[0;34m\u001b[0m\u001b[0m\n\u001b[1;32m   1102\u001b[0m                 \u001b[0mcontext\u001b[0m\u001b[0;34m.\u001b[0m\u001b[0masync_wait\u001b[0m\u001b[0;34m(\u001b[0m\u001b[0;34m)\u001b[0m\u001b[0;34m\u001b[0m\u001b[0;34m\u001b[0m\u001b[0m\n",
            "\u001b[0;32m/usr/local/lib/python3.7/dist-packages/tensorflow/python/eager/def_function.py\u001b[0m in \u001b[0;36m__call__\u001b[0;34m(self, *args, **kwds)\u001b[0m\n\u001b[1;32m    826\u001b[0m     \u001b[0mtracing_count\u001b[0m \u001b[0;34m=\u001b[0m \u001b[0mself\u001b[0m\u001b[0;34m.\u001b[0m\u001b[0mexperimental_get_tracing_count\u001b[0m\u001b[0;34m(\u001b[0m\u001b[0;34m)\u001b[0m\u001b[0;34m\u001b[0m\u001b[0;34m\u001b[0m\u001b[0m\n\u001b[1;32m    827\u001b[0m     \u001b[0;32mwith\u001b[0m \u001b[0mtrace\u001b[0m\u001b[0;34m.\u001b[0m\u001b[0mTrace\u001b[0m\u001b[0;34m(\u001b[0m\u001b[0mself\u001b[0m\u001b[0;34m.\u001b[0m\u001b[0m_name\u001b[0m\u001b[0;34m)\u001b[0m \u001b[0;32mas\u001b[0m \u001b[0mtm\u001b[0m\u001b[0;34m:\u001b[0m\u001b[0;34m\u001b[0m\u001b[0;34m\u001b[0m\u001b[0m\n\u001b[0;32m--> 828\u001b[0;31m       \u001b[0mresult\u001b[0m \u001b[0;34m=\u001b[0m \u001b[0mself\u001b[0m\u001b[0;34m.\u001b[0m\u001b[0m_call\u001b[0m\u001b[0;34m(\u001b[0m\u001b[0;34m*\u001b[0m\u001b[0margs\u001b[0m\u001b[0;34m,\u001b[0m \u001b[0;34m**\u001b[0m\u001b[0mkwds\u001b[0m\u001b[0;34m)\u001b[0m\u001b[0;34m\u001b[0m\u001b[0;34m\u001b[0m\u001b[0m\n\u001b[0m\u001b[1;32m    829\u001b[0m       \u001b[0mcompiler\u001b[0m \u001b[0;34m=\u001b[0m \u001b[0;34m\"xla\"\u001b[0m \u001b[0;32mif\u001b[0m \u001b[0mself\u001b[0m\u001b[0;34m.\u001b[0m\u001b[0m_experimental_compile\u001b[0m \u001b[0;32melse\u001b[0m \u001b[0;34m\"nonXla\"\u001b[0m\u001b[0;34m\u001b[0m\u001b[0;34m\u001b[0m\u001b[0m\n\u001b[1;32m    830\u001b[0m       \u001b[0mnew_tracing_count\u001b[0m \u001b[0;34m=\u001b[0m \u001b[0mself\u001b[0m\u001b[0;34m.\u001b[0m\u001b[0mexperimental_get_tracing_count\u001b[0m\u001b[0;34m(\u001b[0m\u001b[0;34m)\u001b[0m\u001b[0;34m\u001b[0m\u001b[0;34m\u001b[0m\u001b[0m\n",
            "\u001b[0;32m/usr/local/lib/python3.7/dist-packages/tensorflow/python/eager/def_function.py\u001b[0m in \u001b[0;36m_call\u001b[0;34m(self, *args, **kwds)\u001b[0m\n\u001b[1;32m    853\u001b[0m       \u001b[0;31m# In this case we have created variables on the first call, so we run the\u001b[0m\u001b[0;34m\u001b[0m\u001b[0;34m\u001b[0m\u001b[0;34m\u001b[0m\u001b[0m\n\u001b[1;32m    854\u001b[0m       \u001b[0;31m# defunned version which is guaranteed to never create variables.\u001b[0m\u001b[0;34m\u001b[0m\u001b[0;34m\u001b[0m\u001b[0;34m\u001b[0m\u001b[0m\n\u001b[0;32m--> 855\u001b[0;31m       \u001b[0;32mreturn\u001b[0m \u001b[0mself\u001b[0m\u001b[0;34m.\u001b[0m\u001b[0m_stateless_fn\u001b[0m\u001b[0;34m(\u001b[0m\u001b[0;34m*\u001b[0m\u001b[0margs\u001b[0m\u001b[0;34m,\u001b[0m \u001b[0;34m**\u001b[0m\u001b[0mkwds\u001b[0m\u001b[0;34m)\u001b[0m  \u001b[0;31m# pylint: disable=not-callable\u001b[0m\u001b[0;34m\u001b[0m\u001b[0;34m\u001b[0m\u001b[0m\n\u001b[0m\u001b[1;32m    856\u001b[0m     \u001b[0;32melif\u001b[0m \u001b[0mself\u001b[0m\u001b[0;34m.\u001b[0m\u001b[0m_stateful_fn\u001b[0m \u001b[0;32mis\u001b[0m \u001b[0;32mnot\u001b[0m \u001b[0;32mNone\u001b[0m\u001b[0;34m:\u001b[0m\u001b[0;34m\u001b[0m\u001b[0;34m\u001b[0m\u001b[0m\n\u001b[1;32m    857\u001b[0m       \u001b[0;31m# Release the lock early so that multiple threads can perform the call\u001b[0m\u001b[0;34m\u001b[0m\u001b[0;34m\u001b[0m\u001b[0;34m\u001b[0m\u001b[0m\n",
            "\u001b[0;32m/usr/local/lib/python3.7/dist-packages/tensorflow/python/eager/function.py\u001b[0m in \u001b[0;36m__call__\u001b[0;34m(self, *args, **kwargs)\u001b[0m\n\u001b[1;32m   2941\u001b[0m        filtered_flat_args) = self._maybe_define_function(args, kwargs)\n\u001b[1;32m   2942\u001b[0m     return graph_function._call_flat(\n\u001b[0;32m-> 2943\u001b[0;31m         filtered_flat_args, captured_inputs=graph_function.captured_inputs)  # pylint: disable=protected-access\n\u001b[0m\u001b[1;32m   2944\u001b[0m \u001b[0;34m\u001b[0m\u001b[0m\n\u001b[1;32m   2945\u001b[0m   \u001b[0;34m@\u001b[0m\u001b[0mproperty\u001b[0m\u001b[0;34m\u001b[0m\u001b[0;34m\u001b[0m\u001b[0m\n",
            "\u001b[0;32m/usr/local/lib/python3.7/dist-packages/tensorflow/python/eager/function.py\u001b[0m in \u001b[0;36m_call_flat\u001b[0;34m(self, args, captured_inputs, cancellation_manager)\u001b[0m\n\u001b[1;32m   1917\u001b[0m       \u001b[0;31m# No tape is watching; skip to running the function.\u001b[0m\u001b[0;34m\u001b[0m\u001b[0;34m\u001b[0m\u001b[0;34m\u001b[0m\u001b[0m\n\u001b[1;32m   1918\u001b[0m       return self._build_call_outputs(self._inference_function.call(\n\u001b[0;32m-> 1919\u001b[0;31m           ctx, args, cancellation_manager=cancellation_manager))\n\u001b[0m\u001b[1;32m   1920\u001b[0m     forward_backward = self._select_forward_and_backward_functions(\n\u001b[1;32m   1921\u001b[0m         \u001b[0margs\u001b[0m\u001b[0;34m,\u001b[0m\u001b[0;34m\u001b[0m\u001b[0;34m\u001b[0m\u001b[0m\n",
            "\u001b[0;32m/usr/local/lib/python3.7/dist-packages/tensorflow/python/eager/function.py\u001b[0m in \u001b[0;36mcall\u001b[0;34m(self, ctx, args, cancellation_manager)\u001b[0m\n\u001b[1;32m    558\u001b[0m               \u001b[0minputs\u001b[0m\u001b[0;34m=\u001b[0m\u001b[0margs\u001b[0m\u001b[0;34m,\u001b[0m\u001b[0;34m\u001b[0m\u001b[0;34m\u001b[0m\u001b[0m\n\u001b[1;32m    559\u001b[0m               \u001b[0mattrs\u001b[0m\u001b[0;34m=\u001b[0m\u001b[0mattrs\u001b[0m\u001b[0;34m,\u001b[0m\u001b[0;34m\u001b[0m\u001b[0;34m\u001b[0m\u001b[0m\n\u001b[0;32m--> 560\u001b[0;31m               ctx=ctx)\n\u001b[0m\u001b[1;32m    561\u001b[0m         \u001b[0;32melse\u001b[0m\u001b[0;34m:\u001b[0m\u001b[0;34m\u001b[0m\u001b[0;34m\u001b[0m\u001b[0m\n\u001b[1;32m    562\u001b[0m           outputs = execute.execute_with_cancellation(\n",
            "\u001b[0;32m/usr/local/lib/python3.7/dist-packages/tensorflow/python/eager/execute.py\u001b[0m in \u001b[0;36mquick_execute\u001b[0;34m(op_name, num_outputs, inputs, attrs, ctx, name)\u001b[0m\n\u001b[1;32m     58\u001b[0m     \u001b[0mctx\u001b[0m\u001b[0;34m.\u001b[0m\u001b[0mensure_initialized\u001b[0m\u001b[0;34m(\u001b[0m\u001b[0;34m)\u001b[0m\u001b[0;34m\u001b[0m\u001b[0;34m\u001b[0m\u001b[0m\n\u001b[1;32m     59\u001b[0m     tensors = pywrap_tfe.TFE_Py_Execute(ctx._handle, device_name, op_name,\n\u001b[0;32m---> 60\u001b[0;31m                                         inputs, attrs, num_outputs)\n\u001b[0m\u001b[1;32m     61\u001b[0m   \u001b[0;32mexcept\u001b[0m \u001b[0mcore\u001b[0m\u001b[0;34m.\u001b[0m\u001b[0m_NotOkStatusException\u001b[0m \u001b[0;32mas\u001b[0m \u001b[0me\u001b[0m\u001b[0;34m:\u001b[0m\u001b[0;34m\u001b[0m\u001b[0;34m\u001b[0m\u001b[0m\n\u001b[1;32m     62\u001b[0m     \u001b[0;32mif\u001b[0m \u001b[0mname\u001b[0m \u001b[0;32mis\u001b[0m \u001b[0;32mnot\u001b[0m \u001b[0;32mNone\u001b[0m\u001b[0;34m:\u001b[0m\u001b[0;34m\u001b[0m\u001b[0;34m\u001b[0m\u001b[0m\n",
            "\u001b[0;31mKeyboardInterrupt\u001b[0m: "
          ]
        }
      ]
    },
    {
      "cell_type": "code",
      "metadata": {
        "id": "ncUvZ5jWICty"
      },
      "source": [
        ""
      ],
      "execution_count": 21,
      "outputs": []
    },
    {
      "cell_type": "code",
      "metadata": {
        "id": "OlQd_3iT_pI_",
        "outputId": "14e5152f-1ef3-4d94-e420-0955b14e177c",
        "colab": {
          "base_uri": "https://localhost:8080/"
        }
      },
      "source": [
        ""
      ],
      "execution_count": 24,
      "outputs": [
        {
          "output_type": "stream",
          "text": [
            "Epoch 1/30\n",
            "56/56 [==============================] - 8s 51ms/step - loss: 1.7957 - accuracy: 0.2148 - val_loss: 1.7587 - val_accuracy: 0.2870\n",
            "Epoch 2/30\n",
            "56/56 [==============================] - 2s 43ms/step - loss: 1.6597 - accuracy: 0.3333 - val_loss: 1.7163 - val_accuracy: 0.2332\n",
            "Epoch 3/30\n",
            "56/56 [==============================] - 2s 43ms/step - loss: 1.4442 - accuracy: 0.4527 - val_loss: 1.6857 - val_accuracy: 0.2197\n",
            "Epoch 4/30\n",
            "56/56 [==============================] - 2s 44ms/step - loss: 1.2510 - accuracy: 0.5524 - val_loss: 1.5644 - val_accuracy: 0.3408\n",
            "Epoch 5/30\n",
            "56/56 [==============================] - 3s 47ms/step - loss: 1.0285 - accuracy: 0.6300 - val_loss: 1.3980 - val_accuracy: 0.4439\n",
            "Epoch 6/30\n",
            "56/56 [==============================] - 3s 46ms/step - loss: 0.9025 - accuracy: 0.6717 - val_loss: 1.2799 - val_accuracy: 0.4843\n",
            "Epoch 7/30\n",
            "56/56 [==============================] - 2s 43ms/step - loss: 0.7773 - accuracy: 0.7495 - val_loss: 0.8775 - val_accuracy: 0.6502\n",
            "Epoch 8/30\n",
            "56/56 [==============================] - 2s 40ms/step - loss: 0.6536 - accuracy: 0.7634 - val_loss: 0.5742 - val_accuracy: 0.7758\n",
            "Epoch 9/30\n",
            "56/56 [==============================] - 2s 42ms/step - loss: 0.5888 - accuracy: 0.7741 - val_loss: 0.4123 - val_accuracy: 0.8475\n",
            "Epoch 10/30\n",
            "56/56 [==============================] - 3s 46ms/step - loss: 0.4845 - accuracy: 0.8510 - val_loss: 0.3676 - val_accuracy: 0.8520\n",
            "Epoch 11/30\n",
            "56/56 [==============================] - 3s 47ms/step - loss: 0.4040 - accuracy: 0.8712 - val_loss: 0.3565 - val_accuracy: 0.8565\n",
            "Epoch 12/30\n",
            "56/56 [==============================] - 3s 46ms/step - loss: 0.3837 - accuracy: 0.8803 - val_loss: 0.3474 - val_accuracy: 0.8744\n",
            "Epoch 13/30\n",
            "56/56 [==============================] - 2s 39ms/step - loss: 0.3217 - accuracy: 0.9015 - val_loss: 0.3581 - val_accuracy: 0.8834\n",
            "Epoch 14/30\n",
            "56/56 [==============================] - 2s 42ms/step - loss: 0.3402 - accuracy: 0.8697 - val_loss: 0.3687 - val_accuracy: 0.8879\n",
            "Epoch 15/30\n",
            "56/56 [==============================] - 2s 41ms/step - loss: 0.2849 - accuracy: 0.8996 - val_loss: 0.3670 - val_accuracy: 0.8879\n",
            "Epoch 16/30\n",
            "56/56 [==============================] - 2s 39ms/step - loss: 0.2450 - accuracy: 0.9250 - val_loss: 0.3731 - val_accuracy: 0.8924\n",
            "Epoch 17/30\n",
            "56/56 [==============================] - 2s 41ms/step - loss: 0.2165 - accuracy: 0.9307 - val_loss: 0.3836 - val_accuracy: 0.8834\n",
            "Epoch 18/30\n",
            "56/56 [==============================] - 3s 46ms/step - loss: 0.1959 - accuracy: 0.9280 - val_loss: 0.3840 - val_accuracy: 0.8969\n",
            "Epoch 19/30\n",
            "56/56 [==============================] - 2s 43ms/step - loss: 0.2437 - accuracy: 0.9222 - val_loss: 0.4045 - val_accuracy: 0.8789\n",
            "Epoch 20/30\n",
            "56/56 [==============================] - 2s 41ms/step - loss: 0.1967 - accuracy: 0.9367 - val_loss: 0.3777 - val_accuracy: 0.8969\n",
            "Epoch 21/30\n",
            "56/56 [==============================] - 3s 47ms/step - loss: 0.1921 - accuracy: 0.9364 - val_loss: 0.4113 - val_accuracy: 0.8879\n",
            "Epoch 22/30\n",
            "56/56 [==============================] - 3s 46ms/step - loss: 0.1285 - accuracy: 0.9667 - val_loss: 0.3964 - val_accuracy: 0.8924\n",
            "Epoch 23/30\n",
            "56/56 [==============================] - 2s 38ms/step - loss: 0.1359 - accuracy: 0.9618 - val_loss: 0.4058 - val_accuracy: 0.8969\n",
            "Epoch 24/30\n",
            "56/56 [==============================] - 2s 39ms/step - loss: 0.1449 - accuracy: 0.9520 - val_loss: 0.3960 - val_accuracy: 0.9013\n",
            "Epoch 25/30\n",
            "56/56 [==============================] - 3s 45ms/step - loss: 0.1249 - accuracy: 0.9660 - val_loss: 0.4303 - val_accuracy: 0.9013\n",
            "Epoch 26/30\n",
            "56/56 [==============================] - 3s 50ms/step - loss: 0.1124 - accuracy: 0.9628 - val_loss: 0.4317 - val_accuracy: 0.8879\n",
            "Epoch 27/30\n",
            "56/56 [==============================] - 3s 55ms/step - loss: 0.1236 - accuracy: 0.9721 - val_loss: 0.4404 - val_accuracy: 0.9013\n",
            "Epoch 28/30\n",
            "56/56 [==============================] - 2s 45ms/step - loss: 0.1066 - accuracy: 0.9612 - val_loss: 0.4507 - val_accuracy: 0.8879\n",
            "Epoch 29/30\n",
            "56/56 [==============================] - 3s 46ms/step - loss: 0.1061 - accuracy: 0.9621 - val_loss: 0.4575 - val_accuracy: 0.8969\n",
            "Epoch 30/30\n",
            "56/56 [==============================] - 2s 41ms/step - loss: 0.0797 - accuracy: 0.9768 - val_loss: 0.4523 - val_accuracy: 0.8924\n"
          ],
          "name": "stdout"
        },
        {
          "output_type": "execute_result",
          "data": {
            "text/plain": [
              "<tensorflow.python.keras.callbacks.History at 0x7f3283f71410>"
            ]
          },
          "metadata": {
            "tags": []
          },
          "execution_count": 24
        }
      ]
    },
    {
      "cell_type": "code",
      "metadata": {
        "id": "cavEijxc_pMG"
      },
      "source": [
        ""
      ],
      "execution_count": null,
      "outputs": []
    },
    {
      "cell_type": "code",
      "metadata": {
        "id": "JKRHy72k_pPa"
      },
      "source": [
        ""
      ],
      "execution_count": null,
      "outputs": []
    },
    {
      "cell_type": "code",
      "metadata": {
        "colab": {
          "base_uri": "https://localhost:8080/"
        },
        "id": "due5AlsVwkrf",
        "outputId": "f9074a4a-d00d-42fe-912b-f75e5087db97"
      },
      "source": [
        "model2 = Sequential()\n",
        "model2.add(Embedding(len(vocabulary)+1, 100))\n",
        "model2.add(SpatialDropout1D(0.7))\n",
        "model2.add(BatchNormalization())\n",
        "model2.add(LSTM(64, dropout=0.7, recurrent_dropout=0.7))\n",
        "model2.add(Dense(y_train.shape[1], activation='softmax'))\n",
        "model2.compile(optimizer=Adam(learning_rate=0.001, decay=1e-6), loss='categorical_crossentropy', metrics=['accuracy'])"
      ],
      "execution_count": null,
      "outputs": [
        {
          "output_type": "stream",
          "text": [
            "WARNING:tensorflow:Layer lstm_13 will not use cuDNN kernel since it doesn't meet the cuDNN kernel criteria. It will use generic GPU kernel as fallback when running on GPU\n"
          ],
          "name": "stdout"
        }
      ]
    },
    {
      "cell_type": "code",
      "metadata": {
        "colab": {
          "base_uri": "https://localhost:8080/"
        },
        "id": "k5JZWDH8xsub",
        "outputId": "e7296201-c106-48d5-f52f-bb781a1b68bc"
      },
      "source": [
        "history = model2.fit(\n",
        "    x_train,\n",
        "    y_train,\n",
        "    batch_size=16,\n",
        "    epochs=30,\n",
        "    validation_data=(x_test, y_test),\n",
        "    callbacks=model_checkpoint_callback\n",
        ")"
      ],
      "execution_count": null,
      "outputs": [
        {
          "output_type": "stream",
          "text": [
            "Epoch 1/30\n",
            "56/56 [==============================] - 5s 47ms/step - loss: 1.8282 - accuracy: 0.2177 - val_loss: 1.7641 - val_accuracy: 0.3857\n",
            "Epoch 2/30\n",
            "56/56 [==============================] - 2s 41ms/step - loss: 1.7028 - accuracy: 0.3051 - val_loss: 1.7240 - val_accuracy: 0.4395\n",
            "Epoch 3/30\n",
            "56/56 [==============================] - 2s 39ms/step - loss: 1.6129 - accuracy: 0.3932 - val_loss: 1.6610 - val_accuracy: 0.3722\n",
            "Epoch 4/30\n",
            "56/56 [==============================] - 2s 39ms/step - loss: 1.4696 - accuracy: 0.4795 - val_loss: 1.5751 - val_accuracy: 0.3677\n",
            "Epoch 5/30\n",
            "56/56 [==============================] - 2s 44ms/step - loss: 1.2839 - accuracy: 0.5710 - val_loss: 1.4250 - val_accuracy: 0.4529\n",
            "Epoch 6/30\n",
            "56/56 [==============================] - 2s 41ms/step - loss: 1.1072 - accuracy: 0.6329 - val_loss: 1.2479 - val_accuracy: 0.5067\n",
            "Epoch 7/30\n",
            "56/56 [==============================] - 2s 41ms/step - loss: 0.9876 - accuracy: 0.6586 - val_loss: 0.9642 - val_accuracy: 0.6278\n",
            "Epoch 8/30\n",
            "56/56 [==============================] - 2s 41ms/step - loss: 0.8818 - accuracy: 0.6923 - val_loss: 0.7276 - val_accuracy: 0.7175\n",
            "Epoch 9/30\n",
            "56/56 [==============================] - 2s 40ms/step - loss: 0.7401 - accuracy: 0.7367 - val_loss: 0.5574 - val_accuracy: 0.7892\n",
            "Epoch 10/30\n",
            "56/56 [==============================] - 2s 41ms/step - loss: 0.6861 - accuracy: 0.7602 - val_loss: 0.4948 - val_accuracy: 0.7982\n",
            "Epoch 11/30\n",
            "56/56 [==============================] - 2s 41ms/step - loss: 0.5564 - accuracy: 0.8102 - val_loss: 0.4497 - val_accuracy: 0.8430\n",
            "Epoch 12/30\n",
            "56/56 [==============================] - 2s 40ms/step - loss: 0.5725 - accuracy: 0.8027 - val_loss: 0.4234 - val_accuracy: 0.8610\n",
            "Epoch 13/30\n",
            "56/56 [==============================] - 2s 42ms/step - loss: 0.4908 - accuracy: 0.8170 - val_loss: 0.3980 - val_accuracy: 0.8700\n",
            "Epoch 14/30\n",
            "56/56 [==============================] - 2s 41ms/step - loss: 0.4170 - accuracy: 0.8595 - val_loss: 0.3877 - val_accuracy: 0.8700\n",
            "Epoch 15/30\n",
            "56/56 [==============================] - 2s 41ms/step - loss: 0.3854 - accuracy: 0.8774 - val_loss: 0.3786 - val_accuracy: 0.8789\n",
            "Epoch 16/30\n",
            "56/56 [==============================] - 2s 42ms/step - loss: 0.3620 - accuracy: 0.8801 - val_loss: 0.3893 - val_accuracy: 0.8879\n",
            "Epoch 17/30\n",
            "56/56 [==============================] - 2s 41ms/step - loss: 0.3684 - accuracy: 0.8525 - val_loss: 0.3878 - val_accuracy: 0.8879\n",
            "Epoch 18/30\n",
            "56/56 [==============================] - 2s 42ms/step - loss: 0.3143 - accuracy: 0.9083 - val_loss: 0.3758 - val_accuracy: 0.8924\n",
            "Epoch 19/30\n",
            "56/56 [==============================] - 2s 41ms/step - loss: 0.2974 - accuracy: 0.9126 - val_loss: 0.3713 - val_accuracy: 0.8969\n",
            "Epoch 20/30\n",
            "56/56 [==============================] - 2s 41ms/step - loss: 0.2891 - accuracy: 0.8957 - val_loss: 0.3837 - val_accuracy: 0.9013\n",
            "Epoch 21/30\n",
            "56/56 [==============================] - 2s 41ms/step - loss: 0.2571 - accuracy: 0.9143 - val_loss: 0.3648 - val_accuracy: 0.9058\n",
            "Epoch 22/30\n",
            "56/56 [==============================] - 2s 42ms/step - loss: 0.2276 - accuracy: 0.9333 - val_loss: 0.3716 - val_accuracy: 0.9013\n",
            "Epoch 23/30\n",
            "56/56 [==============================] - 2s 41ms/step - loss: 0.2308 - accuracy: 0.9234 - val_loss: 0.3683 - val_accuracy: 0.9058\n",
            "Epoch 24/30\n",
            "56/56 [==============================] - 2s 41ms/step - loss: 0.2069 - accuracy: 0.9341 - val_loss: 0.3627 - val_accuracy: 0.9103\n",
            "Epoch 25/30\n",
            "56/56 [==============================] - 2s 42ms/step - loss: 0.1972 - accuracy: 0.9278 - val_loss: 0.3625 - val_accuracy: 0.9058\n",
            "Epoch 26/30\n",
            "56/56 [==============================] - 2s 41ms/step - loss: 0.1924 - accuracy: 0.9381 - val_loss: 0.3704 - val_accuracy: 0.9103\n",
            "Epoch 27/30\n",
            "56/56 [==============================] - 2s 43ms/step - loss: 0.1658 - accuracy: 0.9427 - val_loss: 0.3694 - val_accuracy: 0.9103\n",
            "Epoch 28/30\n",
            "56/56 [==============================] - 2s 40ms/step - loss: 0.1602 - accuracy: 0.9369 - val_loss: 0.3900 - val_accuracy: 0.9058\n",
            "Epoch 29/30\n",
            "56/56 [==============================] - 2s 40ms/step - loss: 0.1487 - accuracy: 0.9407 - val_loss: 0.3774 - val_accuracy: 0.9103\n",
            "Epoch 30/30\n",
            "56/56 [==============================] - 2s 42ms/step - loss: 0.1432 - accuracy: 0.9509 - val_loss: 0.3875 - val_accuracy: 0.9103\n"
          ],
          "name": "stdout"
        }
      ]
    },
    {
      "cell_type": "code",
      "metadata": {
        "colab": {
          "base_uri": "https://localhost:8080/",
          "height": 296
        },
        "id": "fNLXAHunfPk2",
        "outputId": "6ad8bcdd-733d-4529-b3c5-f995f9ec540b"
      },
      "source": [
        "  import matplotlib.pyplot as plt\n",
        "  print('Накопительный график loss по эпохам')\n",
        "  plt.plot(history.history['loss'], \n",
        "          label='loss на обучающем наборе')\n",
        "  plt.plot(history.history['val_loss'], \n",
        "          label='loss на проверочном наборе')\n",
        "  plt.xlabel('Эпоха обучения')\n",
        "  plt.ylabel('loss')\n",
        "  plt.legend()\n",
        "  plt.show()"
      ],
      "execution_count": null,
      "outputs": [
        {
          "output_type": "stream",
          "text": [
            "Накопительный график loss по эпохам\n"
          ],
          "name": "stdout"
        },
        {
          "output_type": "display_data",
          "data": {
            "image/png": "[encoded data removed]",
            "text/plain": [
              "<Figure size 432x288 with 1 Axes>"
            ]
          },
          "metadata": {
            "tags": [],
            "needs_background": "light"
          }
        }
      ]
    },
    {
      "cell_type": "markdown",
      "metadata": {
        "id": "S-ZD0okcXmCr"
      },
      "source": [
        "## Вывод результатов"
      ]
    },
    {
      "cell_type": "code",
      "metadata": {
        "id": "EIpTNL-6daXk"
      },
      "source": [
        "# загрузим лучшие веса\n",
        "model2.load_weights(path+'best_weights.h5')"
      ],
      "execution_count": null,
      "outputs": []
    },
    {
      "cell_type": "code",
      "metadata": {
        "id": "H3I0tePQXlIR"
      },
      "source": [
        "# функция вывода результатов получает на вход модель x_test, y_test\n",
        "def getResults(model, x_test, y_test):\n",
        "    pred = model.predict(x_test) # получаем предсказание модели\n",
        "    pred = np.argmax(pred, axis=1) # получаем метку класса с максимальным значением\n",
        "    result = np.zeros((y_test.shape[1], 2)) # сделаем пустой numpy массив для записи результатов\n",
        "\n",
        "    # проходимся по всей длине предсказаний\n",
        "    for i in range(pred.shape[0]):\n",
        "        # получаем индекс элемента, где у нас 1\n",
        "        y_true_class_indx = list(y_test[i]).index(max(list(y_test[i])))\n",
        "        if pred[i] == y_true_class_indx: # если предсказание верно, то увеличиваем счетчик в первом столбце, в строке номера индекса\n",
        "            result[y_true_class_indx, 0] += 1\n",
        "        else: # если не верно, то увеличиваем счетчик второго столбца\n",
        "            result[y_true_class_indx, 1] += 1\n",
        "    \n",
        "    # готовим датафрейм с результатами\n",
        "    result_test_df = pd.DataFrame(result, columns=['true', 'false'])\n",
        "    result_test_df['percent_true'] = result_test_df['true'] / (result_test_df['true'] + result_test_df['false']) * 100 # считаем процент правильных предсказаний\n",
        "    result_test_df['tag_name'] = [x[3:] for x in ohe_ytrain.get_feature_names()]\n",
        "    result_mean = result_test_df['percent_true'].mean()\n",
        "    print(f'Средний процент правильных предсказаний по всем классам составил: {result_mean}')\n",
        "    print(result_test_df)"
      ],
      "execution_count": null,
      "outputs": []
    },
    {
      "cell_type": "code",
      "metadata": {
        "colab": {
          "base_uri": "https://localhost:8080/"
        },
        "id": "bamxqBu1UYvB",
        "outputId": "0fc849bd-c346-4f58-e457-4fe2aa8d7d12"
      },
      "source": [
        "# результат на изначальном наборе (с 6 классами)\n",
        "getResults(model2, x_train_pad_seq_not_aug, y_train_not_aug)"
      ],
      "execution_count": null,
      "outputs": [
        {
          "output_type": "stream",
          "text": [
            "Средний процент правильных предсказаний по всем классам составил: 95.2651148348791\n",
            "    true  false  percent_true          tag_name\n",
            "0   84.0    1.0     98.823529   tag_do_not_call\n",
            "1  103.0   19.0     84.426230            tag_no\n",
            "2   67.0    1.0     98.529412       tag_not_now\n",
            "3   36.0    0.0    100.000000  tag_what_company\n",
            "4   47.0    3.0     94.000000        tag_who_is\n",
            "5  183.0    8.0     95.811518           tag_yes\n"
          ],
          "name": "stdout"
        }
      ]
    },
    {
      "cell_type": "markdown",
      "metadata": {
        "id": "p0j_1SdabPjp"
      },
      "source": [
        "## Формируем табличку с предсказанием классов для проверочного набора"
      ]
    },
    {
      "cell_type": "code",
      "metadata": {
        "colab": {
          "base_uri": "https://localhost:8080/",
          "height": 935
        },
        "id": "8W3VRtm339Hs",
        "outputId": "338262a9-0fdf-4170-d976-8763019ba8ef"
      },
      "source": [
        "x_valid_data = data_valid['message'].values\n",
        "\n",
        "# x_valid_normal = []\n",
        "\n",
        "# for frase in x_valid_data:\n",
        "#     new_frase = ''\n",
        "#     words = frase.split()\n",
        "#     for word in words:\n",
        "#         word = word.replace('!', '').replace(',', '').replace('?', '')\n",
        "#         new_frase += f' {ma.normal_forms(word)[0]}'\n",
        "#     x_valid_normal.append(new_frase)   \n",
        "\n",
        "x_valid = tokenizer.texts_to_sequences(x_valid_data)\n",
        "x_valid = pad_sequences(x_valid, padding='pre')\n",
        "valid_pred = model2.predict(x_valid)\n",
        "\n",
        "valid_df = pd.DataFrame()\n",
        "valid_df['massege'] = list(x_valid_data)\n",
        "valid_df['softmax'] = list(valid_pred.round(2))\n",
        "valid_df['class'] = list(np.argmax(valid_pred, axis=1))\n",
        "\n",
        "valid_df['class'] = np.array([x[3:] for x in ohe_ytrain.get_feature_names()])[valid_df['class']]\n",
        "valid_df"
      ],
      "execution_count": null,
      "outputs": [
        {
          "output_type": "execute_result",
          "data": {
            "text/html": [
              "<div>\n",
              "<style scoped>\n",
              "    .dataframe tbody tr th:only-of-type {\n",
              "        vertical-align: middle;\n",
              "    }\n",
              "\n",
              "    .dataframe tbody tr th {\n",
              "        vertical-align: top;\n",
              "    }\n",
              "\n",
              "    .dataframe thead th {\n",
              "        text-align: right;\n",
              "    }\n",
              "</style>\n",
              "<table border=\"1\" class=\"dataframe\">\n",
              "  <thead>\n",
              "    <tr style=\"text-align: right;\">\n",
              "      <th></th>\n",
              "      <th>massege</th>\n",
              "      <th>softmax</th>\n",
              "      <th>class</th>\n",
              "    </tr>\n",
              "  </thead>\n",
              "  <tbody>\n",
              "    <tr>\n",
              "      <th>0</th>\n",
              "      <td>зачем это надо</td>\n",
              "      <td>[0.0, 0.0, 0.0, 0.0, 0.36, 0.63]</td>\n",
              "      <td>tag_yes</td>\n",
              "    </tr>\n",
              "    <tr>\n",
              "      <th>1</th>\n",
              "      <td>ну</td>\n",
              "      <td>[0.0, 0.0, 0.0, 0.0, 0.0, 1.0]</td>\n",
              "      <td>tag_yes</td>\n",
              "    </tr>\n",
              "    <tr>\n",
              "      <th>2</th>\n",
              "      <td>какая организация?</td>\n",
              "      <td>[0.02, 0.33, 0.0, 0.26, 0.01, 0.38]</td>\n",
              "      <td>tag_yes</td>\n",
              "    </tr>\n",
              "    <tr>\n",
              "      <th>3</th>\n",
              "      <td>во имя чего?</td>\n",
              "      <td>[0.0, 0.0, 0.0, 0.0, 0.0, 1.0]</td>\n",
              "      <td>tag_yes</td>\n",
              "    </tr>\n",
              "    <tr>\n",
              "      <th>4</th>\n",
              "      <td>вы тут?</td>\n",
              "      <td>[0.01, 0.08, 0.0, 0.0, 0.0, 0.9]</td>\n",
              "      <td>tag_yes</td>\n",
              "    </tr>\n",
              "    <tr>\n",
              "      <th>5</th>\n",
              "      <td>да ну вас!</td>\n",
              "      <td>[0.01, 0.01, 0.0, 0.0, 0.0, 0.98]</td>\n",
              "      <td>tag_yes</td>\n",
              "    </tr>\n",
              "    <tr>\n",
              "      <th>6</th>\n",
              "      <td>приветствую, а что за организация?</td>\n",
              "      <td>[0.0, 0.03, 0.0, 0.95, 0.01, 0.01]</td>\n",
              "      <td>tag_what_company</td>\n",
              "    </tr>\n",
              "    <tr>\n",
              "      <th>7</th>\n",
              "      <td>да хорошо</td>\n",
              "      <td>[0.0, 0.0, 0.0, 0.0, 0.0, 1.0]</td>\n",
              "      <td>tag_yes</td>\n",
              "    </tr>\n",
              "    <tr>\n",
              "      <th>8</th>\n",
              "      <td>с какой радости?</td>\n",
              "      <td>[0.0, 0.0, 0.0, 0.0, 0.0, 1.0]</td>\n",
              "      <td>tag_yes</td>\n",
              "    </tr>\n",
              "    <tr>\n",
              "      <th>9</th>\n",
              "      <td>и что дальше?</td>\n",
              "      <td>[0.0, 0.03, 0.0, 0.0, 0.01, 0.96]</td>\n",
              "      <td>tag_yes</td>\n",
              "    </tr>\n",
              "    <tr>\n",
              "      <th>10</th>\n",
              "      <td>скажите вторично</td>\n",
              "      <td>[0.0, 0.03, 0.0, 0.0, 0.96, 0.01]</td>\n",
              "      <td>tag_who_is</td>\n",
              "    </tr>\n",
              "    <tr>\n",
              "      <th>11</th>\n",
              "      <td>вне всяких сомнений</td>\n",
              "      <td>[0.0, 0.0, 0.0, 0.0, 0.0, 1.0]</td>\n",
              "      <td>tag_yes</td>\n",
              "    </tr>\n",
              "    <tr>\n",
              "      <th>12</th>\n",
              "      <td>не понял</td>\n",
              "      <td>[0.0, 0.0, 0.0, 0.0, 1.0, 0.0]</td>\n",
              "      <td>tag_who_is</td>\n",
              "    </tr>\n",
              "    <tr>\n",
              "      <th>13</th>\n",
              "      <td>да нет наверное</td>\n",
              "      <td>[0.0, 0.87, 0.0, 0.0, 0.0, 0.12]</td>\n",
              "      <td>tag_no</td>\n",
              "    </tr>\n",
              "    <tr>\n",
              "      <th>14</th>\n",
              "      <td>алло, я больше не хочу получать звонки от вас!</td>\n",
              "      <td>[0.89, 0.08, 0.0, 0.01, 0.02, 0.0]</td>\n",
              "      <td>tag_do_not_call</td>\n",
              "    </tr>\n",
              "    <tr>\n",
              "      <th>15</th>\n",
              "      <td>сыт по горло</td>\n",
              "      <td>[0.15, 0.04, 0.0, 0.0, 0.0, 0.81]</td>\n",
              "      <td>tag_yes</td>\n",
              "    </tr>\n",
              "    <tr>\n",
              "      <th>16</th>\n",
              "      <td>скорее всего</td>\n",
              "      <td>[0.04, 0.76, 0.0, 0.0, 0.0, 0.2]</td>\n",
              "      <td>tag_no</td>\n",
              "    </tr>\n",
              "    <tr>\n",
              "      <th>17</th>\n",
              "      <td>не, не годится</td>\n",
              "      <td>[0.21, 0.78, 0.01, 0.0, 0.0, 0.0]</td>\n",
              "      <td>tag_no</td>\n",
              "    </tr>\n",
              "    <tr>\n",
              "      <th>18</th>\n",
              "      <td>а какая цель звонка?</td>\n",
              "      <td>[0.0, 0.03, 0.0, 0.0, 0.01, 0.95]</td>\n",
              "      <td>tag_yes</td>\n",
              "    </tr>\n",
              "    <tr>\n",
              "      <th>19</th>\n",
              "      <td>допустимо</td>\n",
              "      <td>[0.01, 0.03, 0.0, 0.0, 0.0, 0.96]</td>\n",
              "      <td>tag_yes</td>\n",
              "    </tr>\n",
              "    <tr>\n",
              "      <th>20</th>\n",
              "      <td>зачем</td>\n",
              "      <td>[0.0, 0.0, 0.0, 0.0, 0.0, 1.0]</td>\n",
              "      <td>tag_yes</td>\n",
              "    </tr>\n",
              "    <tr>\n",
              "      <th>21</th>\n",
              "      <td>вероятно</td>\n",
              "      <td>[0.01, 0.03, 0.0, 0.0, 0.0, 0.96]</td>\n",
              "      <td>tag_yes</td>\n",
              "    </tr>\n",
              "    <tr>\n",
              "      <th>22</th>\n",
              "      <td>будь здоров!</td>\n",
              "      <td>[0.01, 0.03, 0.0, 0.0, 0.0, 0.96]</td>\n",
              "      <td>tag_yes</td>\n",
              "    </tr>\n",
              "    <tr>\n",
              "      <th>23</th>\n",
              "      <td>положим</td>\n",
              "      <td>[0.01, 0.03, 0.0, 0.0, 0.0, 0.96]</td>\n",
              "      <td>tag_yes</td>\n",
              "    </tr>\n",
              "    <tr>\n",
              "      <th>24</th>\n",
              "      <td>представьтесь пожалуйста?</td>\n",
              "      <td>[0.0, 0.0, 0.0, 0.0, 0.99, 0.01]</td>\n",
              "      <td>tag_who_is</td>\n",
              "    </tr>\n",
              "    <tr>\n",
              "      <th>25</th>\n",
              "      <td>кто здесь?</td>\n",
              "      <td>[0.0, 0.0, 0.0, 0.0, 1.0, 0.0]</td>\n",
              "      <td>tag_who_is</td>\n",
              "    </tr>\n",
              "    <tr>\n",
              "      <th>26</th>\n",
              "      <td>нет, в другой раз</td>\n",
              "      <td>[0.0, 0.0, 1.0, 0.0, 0.0, 0.0]</td>\n",
              "      <td>tag_not_now</td>\n",
              "    </tr>\n",
              "    <tr>\n",
              "      <th>27</th>\n",
              "      <td>жаль, но нет</td>\n",
              "      <td>[0.0, 1.0, 0.0, 0.0, 0.0, 0.0]</td>\n",
              "      <td>tag_no</td>\n",
              "    </tr>\n",
              "    <tr>\n",
              "      <th>28</th>\n",
              "      <td>еще раз</td>\n",
              "      <td>[0.0, 0.0, 0.0, 0.0, 1.0, 0.0]</td>\n",
              "      <td>tag_who_is</td>\n",
              "    </tr>\n",
              "    <tr>\n",
              "      <th>29</th>\n",
              "      <td>к прискорбию нет</td>\n",
              "      <td>[0.02, 0.97, 0.0, 0.0, 0.0, 0.0]</td>\n",
              "      <td>tag_no</td>\n",
              "    </tr>\n",
              "  </tbody>\n",
              "</table>\n",
              "</div>"
            ],
            "text/plain": [
              "                                           massege  ...             class\n",
              "0                                   зачем это надо  ...           tag_yes\n",
              "1                                               ну  ...           tag_yes\n",
              "2                               какая организация?  ...           tag_yes\n",
              "3                                     во имя чего?  ...           tag_yes\n",
              "4                                          вы тут?  ...           tag_yes\n",
              "5                                       да ну вас!  ...           tag_yes\n",
              "6               приветствую, а что за организация?  ...  tag_what_company\n",
              "7                                        да хорошо  ...           tag_yes\n",
              "8                                 с какой радости?  ...           tag_yes\n",
              "9                                    и что дальше?  ...           tag_yes\n",
              "10                                скажите вторично  ...        tag_who_is\n",
              "11                             вне всяких сомнений  ...           tag_yes\n",
              "12                                        не понял  ...        tag_who_is\n",
              "13                                 да нет наверное  ...            tag_no\n",
              "14  алло, я больше не хочу получать звонки от вас!  ...   tag_do_not_call\n",
              "15                                    сыт по горло  ...           tag_yes\n",
              "16                                    скорее всего  ...            tag_no\n",
              "17                                  не, не годится  ...            tag_no\n",
              "18                            а какая цель звонка?  ...           tag_yes\n",
              "19                                       допустимо  ...           tag_yes\n",
              "20                                           зачем  ...           tag_yes\n",
              "21                                        вероятно  ...           tag_yes\n",
              "22                                    будь здоров!  ...           tag_yes\n",
              "23                                         положим  ...           tag_yes\n",
              "24                       представьтесь пожалуйста?  ...        tag_who_is\n",
              "25                                      кто здесь?  ...        tag_who_is\n",
              "26                               нет, в другой раз  ...       tag_not_now\n",
              "27                                    жаль, но нет  ...            tag_no\n",
              "28                                         еще раз  ...        tag_who_is\n",
              "29                                к прискорбию нет  ...            tag_no\n",
              "\n",
              "[30 rows x 3 columns]"
            ]
          },
          "metadata": {
            "tags": []
          },
          "execution_count": 317
        }
      ]
    },
    {
      "cell_type": "code",
      "metadata": {
        "colab": {
          "base_uri": "https://localhost:8080/",
          "height": 935
        },
        "id": "-xnnyXHVxxzW",
        "outputId": "ae463509-1d5f-4bc3-c455-20b85a14e96d"
      },
      "source": [
        ""
      ],
      "execution_count": null,
      "outputs": [
        {
          "output_type": "execute_result",
          "data": {
            "text/html": [
              "<div>\n",
              "<style scoped>\n",
              "    .dataframe tbody tr th:only-of-type {\n",
              "        vertical-align: middle;\n",
              "    }\n",
              "\n",
              "    .dataframe tbody tr th {\n",
              "        vertical-align: top;\n",
              "    }\n",
              "\n",
              "    .dataframe thead th {\n",
              "        text-align: right;\n",
              "    }\n",
              "</style>\n",
              "<table border=\"1\" class=\"dataframe\">\n",
              "  <thead>\n",
              "    <tr style=\"text-align: right;\">\n",
              "      <th></th>\n",
              "      <th>massege</th>\n",
              "      <th>softmax</th>\n",
              "      <th>class</th>\n",
              "    </tr>\n",
              "  </thead>\n",
              "  <tbody>\n",
              "    <tr>\n",
              "      <th>0</th>\n",
              "      <td>зачем это надо</td>\n",
              "      <td>[0.0, 0.0, 0.0, 0.0, 0.15, 0.84]</td>\n",
              "      <td>tag_yes</td>\n",
              "    </tr>\n",
              "    <tr>\n",
              "      <th>1</th>\n",
              "      <td>ну</td>\n",
              "      <td>[0.0, 0.0, 0.0, 0.0, 0.0, 1.0]</td>\n",
              "      <td>tag_yes</td>\n",
              "    </tr>\n",
              "    <tr>\n",
              "      <th>2</th>\n",
              "      <td>какая организация?</td>\n",
              "      <td>[0.0, 0.0, 0.0, 0.03, 0.0, 0.97]</td>\n",
              "      <td>tag_yes</td>\n",
              "    </tr>\n",
              "    <tr>\n",
              "      <th>3</th>\n",
              "      <td>во имя чего?</td>\n",
              "      <td>[0.0, 0.0, 0.0, 0.0, 0.0, 1.0]</td>\n",
              "      <td>tag_yes</td>\n",
              "    </tr>\n",
              "    <tr>\n",
              "      <th>4</th>\n",
              "      <td>вы тут?</td>\n",
              "      <td>[0.0, 0.01, 0.0, 0.0, 0.02, 0.97]</td>\n",
              "      <td>tag_yes</td>\n",
              "    </tr>\n",
              "    <tr>\n",
              "      <th>5</th>\n",
              "      <td>да ну вас!</td>\n",
              "      <td>[0.0, 0.0, 0.0, 0.0, 0.0, 1.0]</td>\n",
              "      <td>tag_yes</td>\n",
              "    </tr>\n",
              "    <tr>\n",
              "      <th>6</th>\n",
              "      <td>приветствую, а что за организация?</td>\n",
              "      <td>[0.0, 0.08, 0.0, 0.67, 0.23, 0.02]</td>\n",
              "      <td>tag_what_company</td>\n",
              "    </tr>\n",
              "    <tr>\n",
              "      <th>7</th>\n",
              "      <td>да хорошо</td>\n",
              "      <td>[0.0, 0.0, 0.0, 0.0, 0.0, 1.0]</td>\n",
              "      <td>tag_yes</td>\n",
              "    </tr>\n",
              "    <tr>\n",
              "      <th>8</th>\n",
              "      <td>с какой радости?</td>\n",
              "      <td>[0.01, 0.02, 0.0, 0.02, 0.01, 0.94]</td>\n",
              "      <td>tag_yes</td>\n",
              "    </tr>\n",
              "    <tr>\n",
              "      <th>9</th>\n",
              "      <td>и что дальше?</td>\n",
              "      <td>[0.0, 0.0, 0.0, 0.0, 0.0, 1.0]</td>\n",
              "      <td>tag_yes</td>\n",
              "    </tr>\n",
              "    <tr>\n",
              "      <th>10</th>\n",
              "      <td>скажите вторично</td>\n",
              "      <td>[0.0, 0.05, 0.0, 0.0, 0.94, 0.0]</td>\n",
              "      <td>tag_who_is</td>\n",
              "    </tr>\n",
              "    <tr>\n",
              "      <th>11</th>\n",
              "      <td>вне всяких сомнений</td>\n",
              "      <td>[0.0, 0.0, 0.0, 0.0, 0.0, 1.0]</td>\n",
              "      <td>tag_yes</td>\n",
              "    </tr>\n",
              "    <tr>\n",
              "      <th>12</th>\n",
              "      <td>не понял</td>\n",
              "      <td>[0.0, 0.0, 0.0, 0.0, 1.0, 0.0]</td>\n",
              "      <td>tag_who_is</td>\n",
              "    </tr>\n",
              "    <tr>\n",
              "      <th>13</th>\n",
              "      <td>да нет наверное</td>\n",
              "      <td>[0.01, 0.53, 0.0, 0.0, 0.0, 0.47]</td>\n",
              "      <td>tag_no</td>\n",
              "    </tr>\n",
              "    <tr>\n",
              "      <th>14</th>\n",
              "      <td>алло, я больше не хочу получать звонки от вас!</td>\n",
              "      <td>[0.87, 0.12, 0.0, 0.0, 0.01, 0.0]</td>\n",
              "      <td>tag_do_not_call</td>\n",
              "    </tr>\n",
              "    <tr>\n",
              "      <th>15</th>\n",
              "      <td>сыт по горло</td>\n",
              "      <td>[0.97, 0.02, 0.0, 0.0, 0.0, 0.0]</td>\n",
              "      <td>tag_do_not_call</td>\n",
              "    </tr>\n",
              "    <tr>\n",
              "      <th>16</th>\n",
              "      <td>скорее всего</td>\n",
              "      <td>[0.0, 0.94, 0.0, 0.0, 0.0, 0.06]</td>\n",
              "      <td>tag_no</td>\n",
              "    </tr>\n",
              "    <tr>\n",
              "      <th>17</th>\n",
              "      <td>не, не годится</td>\n",
              "      <td>[0.0, 0.99, 0.0, 0.0, 0.0, 0.0]</td>\n",
              "      <td>tag_no</td>\n",
              "    </tr>\n",
              "    <tr>\n",
              "      <th>18</th>\n",
              "      <td>а какая цель звонка?</td>\n",
              "      <td>[0.0, 0.0, 0.0, 0.0, 0.0, 1.0]</td>\n",
              "      <td>tag_yes</td>\n",
              "    </tr>\n",
              "    <tr>\n",
              "      <th>19</th>\n",
              "      <td>допустимо</td>\n",
              "      <td>[0.01, 0.02, 0.0, 0.0, 0.0, 0.97]</td>\n",
              "      <td>tag_yes</td>\n",
              "    </tr>\n",
              "    <tr>\n",
              "      <th>20</th>\n",
              "      <td>зачем</td>\n",
              "      <td>[0.0, 0.0, 0.0, 0.0, 0.0, 1.0]</td>\n",
              "      <td>tag_yes</td>\n",
              "    </tr>\n",
              "    <tr>\n",
              "      <th>21</th>\n",
              "      <td>вероятно</td>\n",
              "      <td>[0.01, 0.02, 0.0, 0.0, 0.0, 0.97]</td>\n",
              "      <td>tag_yes</td>\n",
              "    </tr>\n",
              "    <tr>\n",
              "      <th>22</th>\n",
              "      <td>будь здоров!</td>\n",
              "      <td>[0.01, 0.02, 0.0, 0.0, 0.0, 0.97]</td>\n",
              "      <td>tag_yes</td>\n",
              "    </tr>\n",
              "    <tr>\n",
              "      <th>23</th>\n",
              "      <td>положим</td>\n",
              "      <td>[0.01, 0.02, 0.0, 0.0, 0.0, 0.97]</td>\n",
              "      <td>tag_yes</td>\n",
              "    </tr>\n",
              "    <tr>\n",
              "      <th>24</th>\n",
              "      <td>представьтесь пожалуйста?</td>\n",
              "      <td>[0.0, 0.0, 0.0, 0.0, 0.99, 0.0]</td>\n",
              "      <td>tag_who_is</td>\n",
              "    </tr>\n",
              "    <tr>\n",
              "      <th>25</th>\n",
              "      <td>кто здесь?</td>\n",
              "      <td>[0.0, 0.0, 0.0, 0.0, 1.0, 0.0]</td>\n",
              "      <td>tag_who_is</td>\n",
              "    </tr>\n",
              "    <tr>\n",
              "      <th>26</th>\n",
              "      <td>нет, в другой раз</td>\n",
              "      <td>[0.0, 0.0, 1.0, 0.0, 0.0, 0.0]</td>\n",
              "      <td>tag_not_now</td>\n",
              "    </tr>\n",
              "    <tr>\n",
              "      <th>27</th>\n",
              "      <td>жаль, но нет</td>\n",
              "      <td>[0.0, 1.0, 0.0, 0.0, 0.0, 0.0]</td>\n",
              "      <td>tag_no</td>\n",
              "    </tr>\n",
              "    <tr>\n",
              "      <th>28</th>\n",
              "      <td>еще раз</td>\n",
              "      <td>[0.0, 0.0, 0.0, 0.0, 1.0, 0.0]</td>\n",
              "      <td>tag_who_is</td>\n",
              "    </tr>\n",
              "    <tr>\n",
              "      <th>29</th>\n",
              "      <td>к прискорбию нет</td>\n",
              "      <td>[0.0, 1.0, 0.0, 0.0, 0.0, 0.0]</td>\n",
              "      <td>tag_no</td>\n",
              "    </tr>\n",
              "  </tbody>\n",
              "</table>\n",
              "</div>"
            ],
            "text/plain": [
              "                                           massege  ...             class\n",
              "0                                   зачем это надо  ...           tag_yes\n",
              "1                                               ну  ...           tag_yes\n",
              "2                               какая организация?  ...           tag_yes\n",
              "3                                     во имя чего?  ...           tag_yes\n",
              "4                                          вы тут?  ...           tag_yes\n",
              "5                                       да ну вас!  ...           tag_yes\n",
              "6               приветствую, а что за организация?  ...  tag_what_company\n",
              "7                                        да хорошо  ...           tag_yes\n",
              "8                                 с какой радости?  ...           tag_yes\n",
              "9                                    и что дальше?  ...           tag_yes\n",
              "10                                скажите вторично  ...        tag_who_is\n",
              "11                             вне всяких сомнений  ...           tag_yes\n",
              "12                                        не понял  ...        tag_who_is\n",
              "13                                 да нет наверное  ...            tag_no\n",
              "14  алло, я больше не хочу получать звонки от вас!  ...   tag_do_not_call\n",
              "15                                    сыт по горло  ...   tag_do_not_call\n",
              "16                                    скорее всего  ...            tag_no\n",
              "17                                  не, не годится  ...            tag_no\n",
              "18                            а какая цель звонка?  ...           tag_yes\n",
              "19                                       допустимо  ...           tag_yes\n",
              "20                                           зачем  ...           tag_yes\n",
              "21                                        вероятно  ...           tag_yes\n",
              "22                                    будь здоров!  ...           tag_yes\n",
              "23                                         положим  ...           tag_yes\n",
              "24                       представьтесь пожалуйста?  ...        tag_who_is\n",
              "25                                      кто здесь?  ...        tag_who_is\n",
              "26                               нет, в другой раз  ...       tag_not_now\n",
              "27                                    жаль, но нет  ...            tag_no\n",
              "28                                         еще раз  ...        tag_who_is\n",
              "29                                к прискорбию нет  ...            tag_no\n",
              "\n",
              "[30 rows x 3 columns]"
            ]
          },
          "metadata": {
            "tags": []
          },
          "execution_count": 293
        }
      ]
    },
    {
      "cell_type": "code",
      "metadata": {
        "colab": {
          "base_uri": "https://localhost:8080/"
        },
        "id": "USW4lwkarP5y",
        "outputId": "df1f1a83-ddf6-4adc-8db8-051b6cfbb7dd"
      },
      "source": [
        "!pip install pymorphy2"
      ],
      "execution_count": null,
      "outputs": [
        {
          "output_type": "stream",
          "text": [
            "Collecting pymorphy2\n",
            "\u001b[?25l  Downloading https://files.pythonhosted.org/packages/07/57/b2ff2fae3376d4f3c697b9886b64a54b476e1a332c67eee9f88e7f1ae8c9/pymorphy2-0.9.1-py3-none-any.whl (55kB)\n",
            "\r\u001b[K     |██████                          | 10kB 16.7MB/s eta 0:00:01\r\u001b[K     |███████████▉                    | 20kB 21.7MB/s eta 0:00:01\r\u001b[K     |█████████████████▊              | 30kB 22.6MB/s eta 0:00:01\r\u001b[K     |███████████████████████▋        | 40kB 24.7MB/s eta 0:00:01\r\u001b[K     |█████████████████████████████▌  | 51kB 26.0MB/s eta 0:00:01\r\u001b[K     |████████████████████████████████| 61kB 7.4MB/s \n",
            "\u001b[?25hCollecting pymorphy2-dicts-ru<3.0,>=2.4\n",
            "\u001b[?25l  Downloading https://files.pythonhosted.org/packages/3a/79/bea0021eeb7eeefde22ef9e96badf174068a2dd20264b9a378f2be1cdd9e/pymorphy2_dicts_ru-2.4.417127.4579844-py2.py3-none-any.whl (8.2MB)\n",
            "\u001b[K     |████████████████████████████████| 8.2MB 21.4MB/s \n",
            "\u001b[?25hCollecting dawg-python>=0.7.1\n",
            "  Downloading https://files.pythonhosted.org/packages/6a/84/ff1ce2071d4c650ec85745766c0047ccc3b5036f1d03559fd46bb38b5eeb/DAWG_Python-0.7.2-py2.py3-none-any.whl\n",
            "Requirement already satisfied: docopt>=0.6 in /usr/local/lib/python3.7/dist-packages (from pymorphy2) (0.6.2)\n",
            "Installing collected packages: pymorphy2-dicts-ru, dawg-python, pymorphy2\n",
            "Successfully installed dawg-python-0.7.2 pymorphy2-0.9.1 pymorphy2-dicts-ru-2.4.417127.4579844\n"
          ],
          "name": "stdout"
        }
      ]
    },
    {
      "cell_type": "code",
      "metadata": {
        "id": "ayzwBiNfrCyC"
      },
      "source": [
        "import pymorphy2\n",
        "ma = pymorphy2.MorphAnalyzer()\n"
      ],
      "execution_count": null,
      "outputs": []
    },
    {
      "cell_type": "code",
      "metadata": {
        "colab": {
          "base_uri": "https://localhost:8080/"
        },
        "id": "7hksaYm_rZ6-",
        "outputId": "1aa06e49-3f05-4e5c-d65c-91c19b50a180"
      },
      "source": [
        "ma.normal_forms('организаций')"
      ],
      "execution_count": null,
      "outputs": [
        {
          "output_type": "execute_result",
          "data": {
            "text/plain": [
              "['организация']"
            ]
          },
          "metadata": {
            "tags": []
          },
          "execution_count": 136
        }
      ]
    }
  ]
}