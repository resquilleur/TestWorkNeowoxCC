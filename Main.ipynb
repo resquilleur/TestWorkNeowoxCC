{
  "nbformat": 4,
  "nbformat_minor": 0,
  "metadata": {
    "colab": {
      "name": "Main.ipynb",
      "provenance": [],
      "collapsed_sections": [],
      "machine_shape": "hm",
      "include_colab_link": true
    },
    "kernelspec": {
      "name": "python3",
      "display_name": "Python 3"
    },
    "accelerator": "GPU"
  },
  "cells": [
    {
      "cell_type": "markdown",
      "metadata": {
        "id": "view-in-github",
        "colab_type": "text"
      },
      "source": [
        "<a href=\"https://colab.research.google.com/github/resquilleur/TestWorkNeowoxCC/blob/master/Main.ipynb\" target=\"_parent\"><img src=\"https://colab.research.google.com/assets/colab-badge.svg\" alt=\"Open In Colab\"/></a>"
      ]
    },
    {
      "cell_type": "markdown",
      "metadata": {
        "id": "fcl5H2E3jBAb"
      },
      "source": [
        "# Часть 1. Загрузка и обработка данных. Подготовка наборов к обучению."
      ]
    },
    {
      "cell_type": "markdown",
      "metadata": {
        "id": "4cbgwZWWfWpp"
      },
      "source": [
        "## Импорт библиотек"
      ]
    },
    {
      "cell_type": "code",
      "metadata": {
        "id": "ZurfXRpVk0yB",
        "outputId": "0be3a887-4320-4ede-e31c-84ee4bef9502",
        "colab": {
          "base_uri": "https://localhost:8080/"
        }
      },
      "source": [
        "%cd TestWorkNeowoxCC"
      ],
      "execution_count": 5,
      "outputs": [
        {
          "output_type": "stream",
          "text": [
            "/content/TestWorkNeowoxCC\n"
          ],
          "name": "stdout"
        }
      ]
    },
    {
      "cell_type": "code",
      "metadata": {
        "id": "ta-PXpGli7rl"
      },
      "source": [
        "# !pip install pymorphy2"
      ],
      "execution_count": 8,
      "outputs": []
    },
    {
      "cell_type": "code",
      "metadata": {
        "id": "aQPO1M7LjRcG"
      },
      "source": [
        "import pandas as pd\n",
        "import numpy as np\n",
        "import pymorphy2\n",
        "import pickle\n",
        "\n",
        "from sklearn.preprocessing import OneHotEncoder\n",
        "from sklearn.model_selection import train_test_split\n",
        "\n",
        "from tensorflow.keras.preprocessing.text import Tokenizer\n",
        "from tensorflow.keras.preprocessing.sequence import pad_sequences"
      ],
      "execution_count": 9,
      "outputs": []
    },
    {
      "cell_type": "markdown",
      "metadata": {
        "id": "VB0IdG8ijaO2"
      },
      "source": [
        "## Загрузка и обработка наборов данных"
      ]
    },
    {
      "cell_type": "code",
      "metadata": {
        "id": "xa_3eZ7DjbLX",
        "outputId": "fb1ff11c-bfab-4cba-fd92-fb2602762ccd",
        "colab": {
          "base_uri": "https://localhost:8080/",
          "height": 284
        }
      },
      "source": [
        "# загрузим набор данных\n",
        "data_train = pd.read_csv('data/for_test_train.csv').drop(columns=['Unnamed: 0'])\n",
        "# посмотрим кол-во экземпляров по классам\n",
        "data_train.groupby('label').count()"
      ],
      "execution_count": 10,
      "outputs": [
        {
          "output_type": "execute_result",
          "data": {
            "text/html": [
              "<div>\n",
              "<style scoped>\n",
              "    .dataframe tbody tr th:only-of-type {\n",
              "        vertical-align: middle;\n",
              "    }\n",
              "\n",
              "    .dataframe tbody tr th {\n",
              "        vertical-align: top;\n",
              "    }\n",
              "\n",
              "    .dataframe thead th {\n",
              "        text-align: right;\n",
              "    }\n",
              "</style>\n",
              "<table border=\"1\" class=\"dataframe\">\n",
              "  <thead>\n",
              "    <tr style=\"text-align: right;\">\n",
              "      <th></th>\n",
              "      <th>message</th>\n",
              "    </tr>\n",
              "    <tr>\n",
              "      <th>label</th>\n",
              "      <th></th>\n",
              "    </tr>\n",
              "  </thead>\n",
              "  <tbody>\n",
              "    <tr>\n",
              "      <th>tag_do_not_call</th>\n",
              "      <td>85</td>\n",
              "    </tr>\n",
              "    <tr>\n",
              "      <th>tag_no</th>\n",
              "      <td>122</td>\n",
              "    </tr>\n",
              "    <tr>\n",
              "      <th>tag_no_now</th>\n",
              "      <td>1</td>\n",
              "    </tr>\n",
              "    <tr>\n",
              "      <th>tag_not_now</th>\n",
              "      <td>67</td>\n",
              "    </tr>\n",
              "    <tr>\n",
              "      <th>tag_what_company</th>\n",
              "      <td>36</td>\n",
              "    </tr>\n",
              "    <tr>\n",
              "      <th>tag_who_is</th>\n",
              "      <td>50</td>\n",
              "    </tr>\n",
              "    <tr>\n",
              "      <th>tag_yes</th>\n",
              "      <td>191</td>\n",
              "    </tr>\n",
              "  </tbody>\n",
              "</table>\n",
              "</div>"
            ],
            "text/plain": [
              "                  message\n",
              "label                    \n",
              "tag_do_not_call        85\n",
              "tag_no                122\n",
              "tag_no_now              1\n",
              "tag_not_now            67\n",
              "tag_what_company       36\n",
              "tag_who_is             50\n",
              "tag_yes               191"
            ]
          },
          "metadata": {
            "tags": []
          },
          "execution_count": 10
        }
      ]
    },
    {
      "cell_type": "code",
      "metadata": {
        "id": "TPt4QleAjbOn",
        "outputId": "ef2d27d8-f846-47d5-a3d9-594e0ca6ff3e",
        "colab": {
          "base_uri": "https://localhost:8080/",
          "height": 77
        }
      },
      "source": [
        "# видим, что у нас есть всего один экземпляр класса tag_no_now, по смыслу подходит к тегу tag_not_now\n",
        "# я решил объеденить эти классы\n",
        "data_train[data_train['label'] == 'tag_no_now']"
      ],
      "execution_count": 11,
      "outputs": [
        {
          "output_type": "execute_result",
          "data": {
            "text/html": [
              "<div>\n",
              "<style scoped>\n",
              "    .dataframe tbody tr th:only-of-type {\n",
              "        vertical-align: middle;\n",
              "    }\n",
              "\n",
              "    .dataframe tbody tr th {\n",
              "        vertical-align: top;\n",
              "    }\n",
              "\n",
              "    .dataframe thead th {\n",
              "        text-align: right;\n",
              "    }\n",
              "</style>\n",
              "<table border=\"1\" class=\"dataframe\">\n",
              "  <thead>\n",
              "    <tr style=\"text-align: right;\">\n",
              "      <th></th>\n",
              "      <th>message</th>\n",
              "      <th>label</th>\n",
              "    </tr>\n",
              "  </thead>\n",
              "  <tbody>\n",
              "    <tr>\n",
              "      <th>543</th>\n",
              "      <td>ты шутишь, у меня нет времени!</td>\n",
              "      <td>tag_no_now</td>\n",
              "    </tr>\n",
              "  </tbody>\n",
              "</table>\n",
              "</div>"
            ],
            "text/plain": [
              "                            message       label\n",
              "543  ты шутишь, у меня нет времени!  tag_no_now"
            ]
          },
          "metadata": {
            "tags": []
          },
          "execution_count": 11
        }
      ]
    },
    {
      "cell_type": "code",
      "metadata": {
        "id": "fVimyT4xjbRt",
        "outputId": "74768893-77bb-4450-e91c-68009d504d81",
        "colab": {
          "base_uri": "https://localhost:8080/",
          "height": 254
        }
      },
      "source": [
        "# получим индекс нужного тега и переименуем его в правильный тег\n",
        "idx = (data_train['label'] == 'tag_no_now')\n",
        "data_train.loc[idx, 'label'] = 'tag_not_now'\n",
        "data_train.groupby('label').count()"
      ],
      "execution_count": 12,
      "outputs": [
        {
          "output_type": "execute_result",
          "data": {
            "text/html": [
              "<div>\n",
              "<style scoped>\n",
              "    .dataframe tbody tr th:only-of-type {\n",
              "        vertical-align: middle;\n",
              "    }\n",
              "\n",
              "    .dataframe tbody tr th {\n",
              "        vertical-align: top;\n",
              "    }\n",
              "\n",
              "    .dataframe thead th {\n",
              "        text-align: right;\n",
              "    }\n",
              "</style>\n",
              "<table border=\"1\" class=\"dataframe\">\n",
              "  <thead>\n",
              "    <tr style=\"text-align: right;\">\n",
              "      <th></th>\n",
              "      <th>message</th>\n",
              "    </tr>\n",
              "    <tr>\n",
              "      <th>label</th>\n",
              "      <th></th>\n",
              "    </tr>\n",
              "  </thead>\n",
              "  <tbody>\n",
              "    <tr>\n",
              "      <th>tag_do_not_call</th>\n",
              "      <td>85</td>\n",
              "    </tr>\n",
              "    <tr>\n",
              "      <th>tag_no</th>\n",
              "      <td>122</td>\n",
              "    </tr>\n",
              "    <tr>\n",
              "      <th>tag_not_now</th>\n",
              "      <td>68</td>\n",
              "    </tr>\n",
              "    <tr>\n",
              "      <th>tag_what_company</th>\n",
              "      <td>36</td>\n",
              "    </tr>\n",
              "    <tr>\n",
              "      <th>tag_who_is</th>\n",
              "      <td>50</td>\n",
              "    </tr>\n",
              "    <tr>\n",
              "      <th>tag_yes</th>\n",
              "      <td>191</td>\n",
              "    </tr>\n",
              "  </tbody>\n",
              "</table>\n",
              "</div>"
            ],
            "text/plain": [
              "                  message\n",
              "label                    \n",
              "tag_do_not_call        85\n",
              "tag_no                122\n",
              "tag_not_now            68\n",
              "tag_what_company       36\n",
              "tag_who_is             50\n",
              "tag_yes               191"
            ]
          },
          "metadata": {
            "tags": []
          },
          "execution_count": 12
        }
      ]
    },
    {
      "cell_type": "code",
      "metadata": {
        "id": "hcugvT6gjbUa",
        "outputId": "0d8aa02e-87bc-4541-e4c6-024afbfb124f",
        "colab": {
          "base_uri": "https://localhost:8080/",
          "height": 935
        }
      },
      "source": [
        "# загрузим проверочный набор данных\n",
        "data_valid = pd.read_csv('data/for_test_valid.csv', sep=';') # обязательно использовать такой разделитель, иначе не загрузится.\n",
        "data_valid # проверочный набор"
      ],
      "execution_count": 13,
      "outputs": [
        {
          "output_type": "execute_result",
          "data": {
            "text/html": [
              "<div>\n",
              "<style scoped>\n",
              "    .dataframe tbody tr th:only-of-type {\n",
              "        vertical-align: middle;\n",
              "    }\n",
              "\n",
              "    .dataframe tbody tr th {\n",
              "        vertical-align: top;\n",
              "    }\n",
              "\n",
              "    .dataframe thead th {\n",
              "        text-align: right;\n",
              "    }\n",
              "</style>\n",
              "<table border=\"1\" class=\"dataframe\">\n",
              "  <thead>\n",
              "    <tr style=\"text-align: right;\">\n",
              "      <th></th>\n",
              "      <th>Unnamed: 0</th>\n",
              "      <th>message</th>\n",
              "    </tr>\n",
              "  </thead>\n",
              "  <tbody>\n",
              "    <tr>\n",
              "      <th>0</th>\n",
              "      <td>106</td>\n",
              "      <td>зачем это надо</td>\n",
              "    </tr>\n",
              "    <tr>\n",
              "      <th>1</th>\n",
              "      <td>162</td>\n",
              "      <td>ну</td>\n",
              "    </tr>\n",
              "    <tr>\n",
              "      <th>2</th>\n",
              "      <td>602</td>\n",
              "      <td>какая организация?</td>\n",
              "    </tr>\n",
              "    <tr>\n",
              "      <th>3</th>\n",
              "      <td>32</td>\n",
              "      <td>во имя чего?</td>\n",
              "    </tr>\n",
              "    <tr>\n",
              "      <th>4</th>\n",
              "      <td>642</td>\n",
              "      <td>вы тут?</td>\n",
              "    </tr>\n",
              "    <tr>\n",
              "      <th>5</th>\n",
              "      <td>419</td>\n",
              "      <td>да ну вас!</td>\n",
              "    </tr>\n",
              "    <tr>\n",
              "      <th>6</th>\n",
              "      <td>854</td>\n",
              "      <td>приветствую, а что за организация?</td>\n",
              "    </tr>\n",
              "    <tr>\n",
              "      <th>7</th>\n",
              "      <td>59</td>\n",
              "      <td>да хорошо</td>\n",
              "    </tr>\n",
              "    <tr>\n",
              "      <th>8</th>\n",
              "      <td>219</td>\n",
              "      <td>с какой радости?</td>\n",
              "    </tr>\n",
              "    <tr>\n",
              "      <th>9</th>\n",
              "      <td>112</td>\n",
              "      <td>и что дальше?</td>\n",
              "    </tr>\n",
              "    <tr>\n",
              "      <th>10</th>\n",
              "      <td>681</td>\n",
              "      <td>скажите вторично</td>\n",
              "    </tr>\n",
              "    <tr>\n",
              "      <th>11</th>\n",
              "      <td>26</td>\n",
              "      <td>вне всяких сомнений</td>\n",
              "    </tr>\n",
              "    <tr>\n",
              "      <th>12</th>\n",
              "      <td>664</td>\n",
              "      <td>не понял</td>\n",
              "    </tr>\n",
              "    <tr>\n",
              "      <th>13</th>\n",
              "      <td>812</td>\n",
              "      <td>да нет наверное</td>\n",
              "    </tr>\n",
              "    <tr>\n",
              "      <th>14</th>\n",
              "      <td>892</td>\n",
              "      <td>алло, я больше не хочу получать звонки от вас!</td>\n",
              "    </tr>\n",
              "    <tr>\n",
              "      <th>15</th>\n",
              "      <td>781</td>\n",
              "      <td>сыт по горло</td>\n",
              "    </tr>\n",
              "    <tr>\n",
              "      <th>16</th>\n",
              "      <td>230</td>\n",
              "      <td>скорее всего</td>\n",
              "    </tr>\n",
              "    <tr>\n",
              "      <th>17</th>\n",
              "      <td>480</td>\n",
              "      <td>не, не годится</td>\n",
              "    </tr>\n",
              "    <tr>\n",
              "      <th>18</th>\n",
              "      <td>3</td>\n",
              "      <td>а какая цель звонка?</td>\n",
              "    </tr>\n",
              "    <tr>\n",
              "      <th>19</th>\n",
              "      <td>95</td>\n",
              "      <td>допустимо</td>\n",
              "    </tr>\n",
              "    <tr>\n",
              "      <th>20</th>\n",
              "      <td>103</td>\n",
              "      <td>зачем</td>\n",
              "    </tr>\n",
              "    <tr>\n",
              "      <th>21</th>\n",
              "      <td>22</td>\n",
              "      <td>вероятно</td>\n",
              "    </tr>\n",
              "    <tr>\n",
              "      <th>22</th>\n",
              "      <td>394</td>\n",
              "      <td>будь здоров!</td>\n",
              "    </tr>\n",
              "    <tr>\n",
              "      <th>23</th>\n",
              "      <td>191</td>\n",
              "      <td>положим</td>\n",
              "    </tr>\n",
              "    <tr>\n",
              "      <th>24</th>\n",
              "      <td>678</td>\n",
              "      <td>представьтесь пожалуйста?</td>\n",
              "    </tr>\n",
              "    <tr>\n",
              "      <th>25</th>\n",
              "      <td>657</td>\n",
              "      <td>кто здесь?</td>\n",
              "    </tr>\n",
              "    <tr>\n",
              "      <th>26</th>\n",
              "      <td>336</td>\n",
              "      <td>нет, в другой раз</td>\n",
              "    </tr>\n",
              "    <tr>\n",
              "      <th>27</th>\n",
              "      <td>431</td>\n",
              "      <td>жаль, но нет</td>\n",
              "    </tr>\n",
              "    <tr>\n",
              "      <th>28</th>\n",
              "      <td>648</td>\n",
              "      <td>еще раз</td>\n",
              "    </tr>\n",
              "    <tr>\n",
              "      <th>29</th>\n",
              "      <td>445</td>\n",
              "      <td>к прискорбию нет</td>\n",
              "    </tr>\n",
              "  </tbody>\n",
              "</table>\n",
              "</div>"
            ],
            "text/plain": [
              "    Unnamed: 0                                         message\n",
              "0          106                                  зачем это надо\n",
              "1          162                                              ну\n",
              "2          602                              какая организация?\n",
              "3           32                                    во имя чего?\n",
              "4          642                                         вы тут?\n",
              "5          419                                      да ну вас!\n",
              "6          854              приветствую, а что за организация?\n",
              "7           59                                       да хорошо\n",
              "8          219                                с какой радости?\n",
              "9          112                                   и что дальше?\n",
              "10         681                                скажите вторично\n",
              "11          26                             вне всяких сомнений\n",
              "12         664                                        не понял\n",
              "13         812                                 да нет наверное\n",
              "14         892  алло, я больше не хочу получать звонки от вас!\n",
              "15         781                                    сыт по горло\n",
              "16         230                                    скорее всего\n",
              "17         480                                  не, не годится\n",
              "18           3                            а какая цель звонка?\n",
              "19          95                                       допустимо\n",
              "20         103                                           зачем\n",
              "21          22                                        вероятно\n",
              "22         394                                    будь здоров!\n",
              "23         191                                         положим\n",
              "24         678                       представьтесь пожалуйста?\n",
              "25         657                                      кто здесь?\n",
              "26         336                               нет, в другой раз\n",
              "27         431                                    жаль, но нет\n",
              "28         648                                         еще раз\n",
              "29         445                                к прискорбию нет"
            ]
          },
          "metadata": {
            "tags": []
          },
          "execution_count": 13
        }
      ]
    },
    {
      "cell_type": "markdown",
      "metadata": {
        "id": "61dVYva1jpWM"
      },
      "source": [
        "## Аугментация данных"
      ]
    },
    {
      "cell_type": "code",
      "metadata": {
        "id": "g2JKVO_EjbXk",
        "outputId": "20252f44-c530-476b-9c0a-40e052d4d8ac",
        "colab": {
          "base_uri": "https://localhost:8080/",
          "height": 402
        }
      },
      "source": [
        "# видим дисбаланс классов и в целом датасет небольшой, сделаем аугментацию для повышения качество распознования классов\n",
        "aug_data_train = pd.DataFrame() # создадим пустой датафрейм\n",
        "labels = data_train['label'].unique() # список уникальных меток классов\n",
        "\n",
        "# сделаем так, чтобы обязательно попали все примеры, и добавим сгенерированные бутстрапом, так чтобы в сумме оказалось 200 шт каждого класса\n",
        "for label in labels:\n",
        "    n_samples = 0\n",
        "    aug_data_train = pd.concat([aug_data_train, data_train[data_train['label'] == label]], ignore_index=True)\n",
        "    if label not in ['tag_yes', 'tag_no']:\n",
        "        n_samples = 200 - data_train[data_train['label'] == label].count()[0]\n",
        "    aug_data_train = pd.concat([aug_data_train, data_train[data_train['label'] == label].sample(n=n_samples, replace=True, random_state=42)], ignore_index=True)\n",
        "\n",
        "aug_data_train"
      ],
      "execution_count": 14,
      "outputs": [
        {
          "output_type": "execute_result",
          "data": {
            "text/html": [
              "<div>\n",
              "<style scoped>\n",
              "    .dataframe tbody tr th:only-of-type {\n",
              "        vertical-align: middle;\n",
              "    }\n",
              "\n",
              "    .dataframe tbody tr th {\n",
              "        vertical-align: top;\n",
              "    }\n",
              "\n",
              "    .dataframe thead th {\n",
              "        text-align: right;\n",
              "    }\n",
              "</style>\n",
              "<table border=\"1\" class=\"dataframe\">\n",
              "  <thead>\n",
              "    <tr style=\"text-align: right;\">\n",
              "      <th></th>\n",
              "      <th>message</th>\n",
              "      <th>label</th>\n",
              "    </tr>\n",
              "  </thead>\n",
              "  <tbody>\n",
              "    <tr>\n",
              "      <th>0</th>\n",
              "      <td>будьте здоровы!</td>\n",
              "      <td>tag_no</td>\n",
              "    </tr>\n",
              "    <tr>\n",
              "      <th>1</th>\n",
              "      <td>не имеется</td>\n",
              "      <td>tag_no</td>\n",
              "    </tr>\n",
              "    <tr>\n",
              "      <th>2</th>\n",
              "      <td>ни фига</td>\n",
              "      <td>tag_no</td>\n",
              "    </tr>\n",
              "    <tr>\n",
              "      <th>3</th>\n",
              "      <td>вы бредите</td>\n",
              "      <td>tag_no</td>\n",
              "    </tr>\n",
              "    <tr>\n",
              "      <th>4</th>\n",
              "      <td>нет, нашел дурака</td>\n",
              "      <td>tag_no</td>\n",
              "    </tr>\n",
              "    <tr>\n",
              "      <th>...</th>\n",
              "      <td>...</td>\n",
              "      <td>...</td>\n",
              "    </tr>\n",
              "    <tr>\n",
              "      <th>1108</th>\n",
              "      <td>скажите по новой</td>\n",
              "      <td>tag_who_is</td>\n",
              "    </tr>\n",
              "    <tr>\n",
              "      <th>1109</th>\n",
              "      <td>да, алло, я не расслышал</td>\n",
              "      <td>tag_who_is</td>\n",
              "    </tr>\n",
              "    <tr>\n",
              "      <th>1110</th>\n",
              "      <td>да, алло, я не расслышал</td>\n",
              "      <td>tag_who_is</td>\n",
              "    </tr>\n",
              "    <tr>\n",
              "      <th>1111</th>\n",
              "      <td>это кто?</td>\n",
              "      <td>tag_who_is</td>\n",
              "    </tr>\n",
              "    <tr>\n",
              "      <th>1112</th>\n",
              "      <td>я вас не расслышал</td>\n",
              "      <td>tag_who_is</td>\n",
              "    </tr>\n",
              "  </tbody>\n",
              "</table>\n",
              "<p>1113 rows × 2 columns</p>\n",
              "</div>"
            ],
            "text/plain": [
              "                       message       label\n",
              "0              будьте здоровы!      tag_no\n",
              "1                   не имеется      tag_no\n",
              "2                      ни фига      tag_no\n",
              "3                   вы бредите      tag_no\n",
              "4            нет, нашел дурака      tag_no\n",
              "...                        ...         ...\n",
              "1108          скажите по новой  tag_who_is\n",
              "1109  да, алло, я не расслышал  tag_who_is\n",
              "1110  да, алло, я не расслышал  tag_who_is\n",
              "1111                  это кто?  tag_who_is\n",
              "1112        я вас не расслышал  tag_who_is\n",
              "\n",
              "[1113 rows x 2 columns]"
            ]
          },
          "metadata": {
            "tags": []
          },
          "execution_count": 14
        }
      ]
    },
    {
      "cell_type": "markdown",
      "metadata": {
        "id": "sIkUJMBRjvjB"
      },
      "source": [
        "## Формируем наборы"
      ]
    },
    {
      "cell_type": "code",
      "metadata": {
        "id": "dHZWdm4vjwXW",
        "outputId": "a4f50181-1e2d-4644-d922-2a73a146b62c",
        "colab": {
          "base_uri": "https://localhost:8080/"
        }
      },
      "source": [
        "# неагментированные данные\n",
        "x_train_not_aug = data_train['message'].values\n",
        "y_train_not_aug = data_train['label'].values\n",
        "\n",
        "# формируем x_valid\n",
        "x_valid = data_valid['message'].values\n",
        "\n",
        "# формируем x_train, y_train\n",
        "x_train = aug_data_train['message'].values\n",
        "y_train = aug_data_train['label'].values\n",
        "\n",
        "# сделаем one_hot_encoding для набора классов\n",
        "ohe_ytrain = OneHotEncoder()\n",
        "y_train = ohe_ytrain.fit_transform(y_train.reshape(-1,1)).toarray() # аугментированный набор\n",
        "y_train[0]"
      ],
      "execution_count": 15,
      "outputs": [
        {
          "output_type": "execute_result",
          "data": {
            "text/plain": [
              "array([0., 1., 0., 0., 0., 0.])"
            ]
          },
          "metadata": {
            "tags": []
          },
          "execution_count": 15
        }
      ]
    },
    {
      "cell_type": "code",
      "metadata": {
        "id": "rVM34Rrnjwf8"
      },
      "source": [
        "# функция приведения к нормальной форме слова\n",
        "def data_normalized(x_data):\n",
        "    x_data_normal = []\n",
        "    for frase in x_data:\n",
        "        new_frase = ''\n",
        "        words = frase.split()\n",
        "        for word in words:\n",
        "            word = word.replace('!', '').replace(',', '').replace('?', '')\n",
        "            new_frase += f' {ma.normal_forms(word)[0]}'\n",
        "        x_data_normal.append(new_frase)\n",
        "    return np.array(x_data_normal)"
      ],
      "execution_count": 16,
      "outputs": []
    },
    {
      "cell_type": "code",
      "metadata": {
        "id": "UcVMNMjejwkD"
      },
      "source": [
        "# создаем анализатор слов\n",
        "ma = pymorphy2.MorphAnalyzer()\n",
        "\n",
        "# далее у нас будет два варианта набора данных с нормой и без\n",
        "x_valid_norm = data_normalized(x_valid)\n",
        "x_train_norm = data_normalized(x_train)"
      ],
      "execution_count": 17,
      "outputs": []
    },
    {
      "cell_type": "code",
      "metadata": {
        "id": "Ttu6LD5MjwoI"
      },
      "source": [
        "# токенизируем слова без нормирования\n",
        "tokenizer = Tokenizer()\n",
        "tokenizer.fit_on_texts(np.concatenate((x_train, x_valid), axis=0)) # обучим на всех словах, что у нас есть\n",
        "\n",
        "tokenizer_norm = Tokenizer()\n",
        "tokenizer_norm.fit_on_texts(np.concatenate((x_train_norm, x_valid_norm), axis=0)) # обучим на всех словах, что у нас есть\n",
        "\n",
        "# запоним длину словарей + 1 (так как еще 0-ой индекс добавим)\n",
        "vocabulary_len = len(tokenizer.word_index)+1\n",
        "vocabulary_norm_len = len(tokenizer_norm.word_index)+1"
      ],
      "execution_count": 18,
      "outputs": []
    },
    {
      "cell_type": "code",
      "metadata": {
        "id": "UThnOtm8jwr9"
      },
      "source": [
        "# индексы в последовательность, дополним нулями перед последовательностью\n",
        "x_train_seq = tokenizer.texts_to_sequences(x_train)\n",
        "x_train_pad_seq = pad_sequences(x_train_seq, padding='pre')\n",
        "\n",
        "x_train_seq_norm = tokenizer_norm.texts_to_sequences(x_train_norm)\n",
        "x_train_pad_seq_norm = pad_sequences(x_train_seq_norm, padding='pre')\n",
        "\n",
        "x_valid_seq = tokenizer.texts_to_sequences(x_valid)\n",
        "x_valid_pad_seq = pad_sequences(x_valid_seq, padding='pre')\n",
        "\n",
        "x_valid_seq_norm = tokenizer_norm.texts_to_sequences(x_valid_norm)\n",
        "x_valid_pad_seq_norm = pad_sequences(x_valid_seq_norm, padding='pre')"
      ],
      "execution_count": 19,
      "outputs": []
    },
    {
      "cell_type": "code",
      "metadata": {
        "id": "s6XnYUeFjwvg",
        "outputId": "1ffa8ae5-85d5-445b-8c3a-d0453caa9e3e",
        "colab": {
          "base_uri": "https://localhost:8080/"
        }
      },
      "source": [
        "# посмотрим что получилось\n",
        "print(x_train_pad_seq[0])\n",
        "print(x_train[0])\n",
        "\n",
        "print(x_train_pad_seq_norm[0])\n",
        "print(x_train_norm[0])"
      ],
      "execution_count": 20,
      "outputs": [
        {
          "output_type": "stream",
          "text": [
            "[  0   0   0   0   0   0   0 331 332]\n",
            "будьте здоровы!\n",
            "[  0   0   0   0   0   0   0 101 207]\n",
            " быть здоровый\n"
          ],
          "name": "stdout"
        }
      ]
    },
    {
      "cell_type": "code",
      "metadata": {
        "id": "y51GGzAdjwyy"
      },
      "source": [
        "# y_train общий сохраним для семплирования\n",
        "y_train_full = y_train.copy()\n",
        "\n",
        "# разобьем наборы на тестовый и тренировочный\n",
        "# stratify позволяет сохранить баланс классов\n",
        "x_train, x_test, y_train, y_test = train_test_split(x_train_pad_seq, y_train_full, test_size=0.2, stratify=y_train_full) \n",
        "x_train_norm, x_test_norm, y_train_norm, y_test_norm = train_test_split(x_train_pad_seq_norm, y_train_full, test_size=0.2, stratify=y_train_full)"
      ],
      "execution_count": 21,
      "outputs": []
    },
    {
      "cell_type": "markdown",
      "metadata": {
        "id": "ktmFo0Q4kj4e"
      },
      "source": [
        "# Часть 2. Обучение нейросетей"
      ]
    },
    {
      "cell_type": "markdown",
      "metadata": {
        "id": "W2OjtaYSlCG7"
      },
      "source": [
        "## Импорт библиотек"
      ]
    },
    {
      "cell_type": "code",
      "metadata": {
        "id": "tAb77yZ9fzMG"
      },
      "source": [
        "from TestWorkNeowoxCC.model_pack.model import *\n",
        "\n",
        "import pandas as pd\n",
        "import numpy as np\n",
        "\n",
        "from tensorflow.keras.callbacks import ModelCheckpoint"
      ],
      "execution_count": 40,
      "outputs": []
    },
    {
      "cell_type": "markdown",
      "metadata": {
        "id": "-eY-9QT7WRUw"
      },
      "source": [
        "## Создание сети"
      ]
    },
    {
      "cell_type": "code",
      "metadata": {
        "id": "RPTy_dxg_pA1"
      },
      "source": [
        "# используем фабрику для разных архитектур\n",
        "\n",
        "fabric = ModelFabric()\n",
        "model_lstm = fabric.create_model(name='lstm')\n",
        "model_conv = fabric.create_model(name='conv')"
      ],
      "execution_count": 41,
      "outputs": []
    },
    {
      "cell_type": "markdown",
      "metadata": {
        "id": "VPTjKBQ7gxNE"
      },
      "source": [
        "## Обучение"
      ]
    },
    {
      "cell_type": "markdown",
      "metadata": {
        "id": "U0n4dPc8mF3H"
      },
      "source": [
        "Список параметров включает:\n",
        "\n",
        "* params[0] - название сети\n",
        "* params[1] - длина словаря (вход embedding)\n",
        "* params[2] - num classes\n",
        "* params[3] - emb size coef\n",
        "* params[4] - dropout\n",
        "* params[5] - layers filters size\n",
        "* params[6] - Adam learning_rate\n",
        "* params[7] - Adam decay\n",
        "* params[8] - размер batch_size\n",
        "* params[9] - кол-во эпох\n"
      ]
    },
    {
      "cell_type": "code",
      "metadata": {
        "id": "rPauhENMS9EJ"
      },
      "source": [
        "# выберем два набора параметров (лучше всего показали себя на тестах) - тут можно реализовать генетику\n",
        "models_params_list = [['lstm64', vocabulary_len, y_train.shape[1], 1, 7, 6, 1e-3, 1e-6, 16, 30],\n",
        "                      ['lstm128', vocabulary_len, y_train.shape[1], 1, 7, 7, 1e-3, 1e-6, 32, 30]]"
      ],
      "execution_count": 42,
      "outputs": []
    },
    {
      "cell_type": "markdown",
      "metadata": {
        "id": "BDYkL6Rxq9g5"
      },
      "source": [
        "### Обучение на аугментированых данных без нормальной формы"
      ]
    },
    {
      "cell_type": "code",
      "metadata": {
        "id": "MxJOzrBYPx-t"
      },
      "source": [
        "# обучение\n",
        "models = {} # тут будут лежать обученные модели\n",
        "historys = {} # тут будут лежать истрии обучения\n",
        "\n",
        "for params in models_params_list:\n",
        "    \n",
        "    # имя файла у каждой модели свое, сохраним лучшие веса\n",
        "    model_checkpoint_callback = ModelCheckpoint(\n",
        "        filepath=f'data/best_weights_{params[0]}.h5',\n",
        "        save_weights_only=True,\n",
        "        monitor='val_loss',\n",
        "        mode='min',\n",
        "        save_best_only=True)\n",
        "\n",
        "    # генерим нужную архитектуру\n",
        "    model = model_lstm.make_architecture(params[1:6])\n",
        "\n",
        "    # компилируем модель\n",
        "    model.compile(optimizer=Adam(learning_rate=params[6], decay=params[7]), loss='categorical_crossentropy', metrics=['accuracy'])\n",
        "\n",
        "    # обучаем verbose=0\n",
        "    history = model.fit(\n",
        "        x_train,\n",
        "        y_train,\n",
        "        batch_size=params[8],\n",
        "        epochs=params[9],\n",
        "        validation_data=(x_test, y_test),\n",
        "        callbacks=model_checkpoint_callback,\n",
        "        verbose=0\n",
        "        )\n",
        "    \n",
        "    models[params[0]] = model\n",
        "    historys[params[0]] = history"
      ],
      "execution_count": 43,
      "outputs": []
    },
    {
      "cell_type": "markdown",
      "metadata": {
        "id": "6NLHBnbtrQST"
      },
      "source": [
        "### Обучение на аугментированых данных в нормальной форме"
      ]
    },
    {
      "cell_type": "code",
      "metadata": {
        "id": "0s6t9R0WrWet"
      },
      "source": [
        "# обучение\n",
        "models_norm = {} # тут будут лежать обученные модели\n",
        "historys_norm = {} # тут будут лежать истрии обучения\n",
        "\n",
        "for params in models_params_list:\n",
        "    \n",
        "    # имя файла у каждой модели свое, сохраним лучшие веса\n",
        "    model_checkpoint_callback = ModelCheckpoint(\n",
        "        filepath=f'data/best_weights_{params[0]}_norm.h5',\n",
        "        save_weights_only=True,\n",
        "        monitor='val_loss',\n",
        "        mode='min',\n",
        "        save_best_only=True)\n",
        "\n",
        "    # генерим нужную архитектуру\n",
        "    model = model_lstm.make_architecture(params[1:6])\n",
        "\n",
        "    # компилируем модель\n",
        "    model.compile(optimizer=Adam(learning_rate=params[6], decay=params[7]), loss='categorical_crossentropy', metrics=['accuracy'])\n",
        "\n",
        "    # обучаем verbose=0\n",
        "    history = model.fit(\n",
        "        x_train_norm,\n",
        "        y_train_norm,\n",
        "        batch_size=params[8],\n",
        "        epochs=params[9],\n",
        "        validation_data=(x_test_norm, y_test_norm),\n",
        "        callbacks=model_checkpoint_callback,\n",
        "        verbose=0\n",
        "        )\n",
        "    \n",
        "    models_norm[params[0]] = model\n",
        "    historys_norm[params[0]] = history"
      ],
      "execution_count": 44,
      "outputs": []
    },
    {
      "cell_type": "markdown",
      "metadata": {
        "id": "S-ZD0okcXmCr"
      },
      "source": [
        "## Вывод результатов"
      ]
    },
    {
      "cell_type": "markdown",
      "metadata": {
        "id": "HhhISQURvNXA"
      },
      "source": [
        "### Посмотрим графики обучения для анализа"
      ]
    },
    {
      "cell_type": "code",
      "metadata": {
        "id": "9M676WP2tzWB"
      },
      "source": [
        "import matplotlib.pyplot as plt"
      ],
      "execution_count": null,
      "outputs": []
    },
    {
      "cell_type": "code",
      "metadata": {
        "colab": {
          "base_uri": "https://localhost:8080/",
          "height": 574
        },
        "id": "fNLXAHunfPk2",
        "outputId": "06758e19-1624-4720-9558-b3a0dd6a13e4"
      },
      "source": [
        "# посмотрим графики 128 сеть менее переобучилась\n",
        "for key in historys.keys():\n",
        "    print(f'Накопительный график loss по эпохам модели:{key}')\n",
        "    plt.plot(historys[key].history['loss'], \n",
        "            label='loss на обучающем наборе')\n",
        "    plt.plot(historys[key].history['val_loss'], \n",
        "            label='loss на тестовом наборе')\n",
        "    plt.xlabel('Эпоха обучения')\n",
        "    plt.ylabel('loss')\n",
        "    plt.legend()\n",
        "    plt.show()"
      ],
      "execution_count": 56,
      "outputs": [
        {
          "output_type": "stream",
          "text": [
            "Накопительный график loss по эпохам модели:lstm64\n"
          ],
          "name": "stdout"
        },
        {
          "output_type": "display_data",
          "data": {
            "image/png": "[encoded data removed]",
            "text/plain": [
              "<Figure size 432x288 with 1 Axes>"
            ]
          },
          "metadata": {
            "tags": [],
            "needs_background": "light"
          }
        },
        {
          "output_type": "stream",
          "text": [
            "Накопительный график loss по эпохам модели:lstm128\n"
          ],
          "name": "stdout"
        },
        {
          "output_type": "display_data",
          "data": {
            "image/png": "[encoded data removed]",
            "text/plain": [
              "<Figure size 432x288 with 1 Axes>"
            ]
          },
          "metadata": {
            "tags": [],
            "needs_background": "light"
          }
        }
      ]
    },
    {
      "cell_type": "code",
      "metadata": {
        "id": "QGHv0aievU2H",
        "outputId": "9930dba8-5619-49ae-f346-0219e7d41643",
        "colab": {
          "base_uri": "https://localhost:8080/",
          "height": 574
        }
      },
      "source": [
        "# посмотрим графики нормированных данных, как видим у 128 сети нет переобучения\n",
        "for key in historys_norm.keys():\n",
        "    print(f'Накопительный график loss по эпохам модели:{key}')\n",
        "    plt.plot(historys_norm[key].history['loss'], \n",
        "            label='loss на обучающем наборе')\n",
        "    plt.plot(historys_norm[key].history['val_loss'], \n",
        "            label='loss на тестовом наборе')\n",
        "    plt.xlabel('Эпоха обучения')\n",
        "    plt.ylabel('loss')\n",
        "    plt.legend()\n",
        "    plt.show()"
      ],
      "execution_count": 57,
      "outputs": [
        {
          "output_type": "stream",
          "text": [
            "Накопительный график loss по эпохам модели:lstm64\n"
          ],
          "name": "stdout"
        },
        {
          "output_type": "display_data",
          "data": {
            "image/png": "[encoded data removed]",
            "text/plain": [
              "<Figure size 432x288 with 1 Axes>"
            ]
          },
          "metadata": {
            "tags": [],
            "needs_background": "light"
          }
        },
        {
          "output_type": "stream",
          "text": [
            "Накопительный график loss по эпохам модели:lstm128\n"
          ],
          "name": "stdout"
        },
        {
          "output_type": "display_data",
          "data": {
            "image/png": "[encoded data removed]",
            "text/plain": [
              "<Figure size 432x288 with 1 Axes>"
            ]
          },
          "metadata": {
            "tags": [],
            "needs_background": "light"
          }
        }
      ]
    },
    {
      "cell_type": "markdown",
      "metadata": {
        "id": "O3SxNVSqvL3e"
      },
      "source": [
        "### Вывод рузельтатов"
      ]
    },
    {
      "cell_type": "code",
      "metadata": {
        "id": "EIpTNL-6daXk"
      },
      "source": [
        "# загрузим лучшие веса моделей\n",
        "models['lstm128'].load_weights('data/best_weights_lstm128.h5')\n",
        "models_norm['lstm128'].load_weights('data/best_weights_lstm128_norm.h5')"
      ],
      "execution_count": 46,
      "outputs": []
    },
    {
      "cell_type": "code",
      "metadata": {
        "id": "gPgvgm2Ihsut"
      },
      "source": [
        "model2 = models['lstm128']\n",
        "model2_norm = models_norm['lstm128']"
      ],
      "execution_count": 47,
      "outputs": []
    },
    {
      "cell_type": "code",
      "metadata": {
        "id": "H3I0tePQXlIR"
      },
      "source": [
        "# функция вывода результатов получает на вход модель x_test, y_test\n",
        "def getResults(model, x_test, y_test):\n",
        "    pred = model.predict(x_test) # получаем предсказание модели\n",
        "    pred = np.argmax(pred, axis=1) # получаем метку класса с максимальным значением\n",
        "    result = np.zeros((y_test.shape[1], 2)) # сделаем пустой numpy массив для записи результатов\n",
        "\n",
        "    # проходимся по всей длине предсказаний\n",
        "    for i in range(pred.shape[0]):\n",
        "        # получаем индекс элемента, где у нас 1\n",
        "        y_true_class_indx = list(y_test[i]).index(max(list(y_test[i])))\n",
        "        if pred[i] == y_true_class_indx: # если предсказание верно, то увеличиваем счетчик в первом столбце, в строке номера индекса\n",
        "            result[y_true_class_indx, 0] += 1\n",
        "        else: # если не верно, то увеличиваем счетчик второго столбца\n",
        "            result[y_true_class_indx, 1] += 1\n",
        "    \n",
        "    # готовим датафрейм с результатами\n",
        "    result_test_df = pd.DataFrame(result, columns=['true', 'false'])\n",
        "    result_test_df['percent_true'] = result_test_df['true'] / (result_test_df['true'] + result_test_df['false']) * 100 # считаем процент правильных предсказаний\n",
        "    result_test_df['tag_name'] = [x[3:] for x in ohe_ytrain.get_feature_names()]\n",
        "    result_mean = result_test_df['percent_true'].mean()\n",
        "    print(f'Средний процент правильных предсказаний по всем классам составил: {result_mean}')\n",
        "    print(result_test_df)"
      ],
      "execution_count": 48,
      "outputs": []
    },
    {
      "cell_type": "code",
      "metadata": {
        "colab": {
          "base_uri": "https://localhost:8080/"
        },
        "id": "bamxqBu1UYvB",
        "outputId": "53b9f898-9515-4e69-be2b-75b9efeceefb"
      },
      "source": [
        "# результат на изначальном наборе (с 6 классами)\n",
        "getResults(model2, x_test, y_test)"
      ],
      "execution_count": 49,
      "outputs": [
        {
          "output_type": "stream",
          "text": [
            "Средний процент правильных предсказаний по всем классам составил: 91.6798245614035\n",
            "   true  false  percent_true          tag_name\n",
            "0  38.0    2.0     95.000000   tag_do_not_call\n",
            "1  19.0    6.0     76.000000            tag_no\n",
            "2  40.0    0.0    100.000000       tag_not_now\n",
            "3  40.0    0.0    100.000000  tag_what_company\n",
            "4  39.0    1.0     97.500000        tag_who_is\n",
            "5  31.0    7.0     81.578947           tag_yes\n"
          ],
          "name": "stdout"
        }
      ]
    },
    {
      "cell_type": "code",
      "metadata": {
        "id": "O5CYjwossAlh",
        "outputId": "eca3493d-f0da-4e6a-c596-97235b5f1d6b",
        "colab": {
          "base_uri": "https://localhost:8080/"
        }
      },
      "source": [
        "# результат на изначальном наборе (с 6 классами)\n",
        "getResults(model2_norm, x_test_norm, y_test_norm)"
      ],
      "execution_count": 50,
      "outputs": [
        {
          "output_type": "stream",
          "text": [
            "Средний процент правильных предсказаний по всем классам составил: 82.97807017543859\n",
            "   true  false  percent_true          tag_name\n",
            "0  33.0    7.0     82.500000   tag_do_not_call\n",
            "1   7.0   18.0     28.000000            tag_no\n",
            "2  40.0    0.0    100.000000       tag_not_now\n",
            "3  39.0    1.0     97.500000  tag_what_company\n",
            "4  37.0    3.0     92.500000        tag_who_is\n",
            "5  37.0    1.0     97.368421           tag_yes\n"
          ],
          "name": "stdout"
        }
      ]
    },
    {
      "cell_type": "markdown",
      "metadata": {
        "id": "p0j_1SdabPjp"
      },
      "source": [
        "## Формируем табличку с предсказанием классов для проверочного набора"
      ]
    },
    {
      "cell_type": "code",
      "metadata": {
        "colab": {
          "base_uri": "https://localhost:8080/",
          "height": 935
        },
        "id": "8W3VRtm339Hs",
        "outputId": "25f01b9d-73c3-4d02-af43-51bb4eacbc29"
      },
      "source": [
        "valid_pred = model2.predict(x_valid_pad_seq)\n",
        "\n",
        "valid_df = pd.DataFrame()\n",
        "valid_df['massege'] = list(x_valid)\n",
        "valid_df['softmax'] = list(valid_pred.round(2))\n",
        "valid_df['class'] = list(np.argmax(valid_pred, axis=1))\n",
        "\n",
        "valid_df['class'] = np.array([x[3:] for x in ohe_ytrain.get_feature_names()])[valid_df['class']]\n",
        "valid_df"
      ],
      "execution_count": 51,
      "outputs": [
        {
          "output_type": "execute_result",
          "data": {
            "text/html": [
              "<div>\n",
              "<style scoped>\n",
              "    .dataframe tbody tr th:only-of-type {\n",
              "        vertical-align: middle;\n",
              "    }\n",
              "\n",
              "    .dataframe tbody tr th {\n",
              "        vertical-align: top;\n",
              "    }\n",
              "\n",
              "    .dataframe thead th {\n",
              "        text-align: right;\n",
              "    }\n",
              "</style>\n",
              "<table border=\"1\" class=\"dataframe\">\n",
              "  <thead>\n",
              "    <tr style=\"text-align: right;\">\n",
              "      <th></th>\n",
              "      <th>massege</th>\n",
              "      <th>softmax</th>\n",
              "      <th>class</th>\n",
              "    </tr>\n",
              "  </thead>\n",
              "  <tbody>\n",
              "    <tr>\n",
              "      <th>0</th>\n",
              "      <td>зачем это надо</td>\n",
              "      <td>[0.0, 0.02, 0.0, 0.0, 0.39, 0.59]</td>\n",
              "      <td>tag_yes</td>\n",
              "    </tr>\n",
              "    <tr>\n",
              "      <th>1</th>\n",
              "      <td>ну</td>\n",
              "      <td>[0.0, 0.01, 0.0, 0.0, 0.0, 0.99]</td>\n",
              "      <td>tag_yes</td>\n",
              "    </tr>\n",
              "    <tr>\n",
              "      <th>2</th>\n",
              "      <td>какая организация?</td>\n",
              "      <td>[0.03, 0.46, 0.0, 0.03, 0.0, 0.47]</td>\n",
              "      <td>tag_yes</td>\n",
              "    </tr>\n",
              "    <tr>\n",
              "      <th>3</th>\n",
              "      <td>во имя чего?</td>\n",
              "      <td>[0.0, 0.01, 0.0, 0.0, 0.0, 0.99]</td>\n",
              "      <td>tag_yes</td>\n",
              "    </tr>\n",
              "    <tr>\n",
              "      <th>4</th>\n",
              "      <td>вы тут?</td>\n",
              "      <td>[0.02, 0.92, 0.0, 0.0, 0.03, 0.03]</td>\n",
              "      <td>tag_no</td>\n",
              "    </tr>\n",
              "    <tr>\n",
              "      <th>5</th>\n",
              "      <td>да ну вас!</td>\n",
              "      <td>[0.03, 0.01, 0.0, 0.0, 0.01, 0.96]</td>\n",
              "      <td>tag_yes</td>\n",
              "    </tr>\n",
              "    <tr>\n",
              "      <th>6</th>\n",
              "      <td>приветствую, а что за организация?</td>\n",
              "      <td>[0.0, 0.11, 0.0, 0.85, 0.01, 0.02]</td>\n",
              "      <td>tag_what_company</td>\n",
              "    </tr>\n",
              "    <tr>\n",
              "      <th>7</th>\n",
              "      <td>да хорошо</td>\n",
              "      <td>[0.02, 0.06, 0.0, 0.0, 0.0, 0.92]</td>\n",
              "      <td>tag_yes</td>\n",
              "    </tr>\n",
              "    <tr>\n",
              "      <th>8</th>\n",
              "      <td>с какой радости?</td>\n",
              "      <td>[0.0, 0.01, 0.0, 0.0, 0.0, 0.99]</td>\n",
              "      <td>tag_yes</td>\n",
              "    </tr>\n",
              "    <tr>\n",
              "      <th>9</th>\n",
              "      <td>и что дальше?</td>\n",
              "      <td>[0.0, 0.01, 0.0, 0.0, 0.0, 0.99]</td>\n",
              "      <td>tag_yes</td>\n",
              "    </tr>\n",
              "    <tr>\n",
              "      <th>10</th>\n",
              "      <td>скажите вторично</td>\n",
              "      <td>[0.01, 0.25, 0.01, 0.0, 0.71, 0.03]</td>\n",
              "      <td>tag_who_is</td>\n",
              "    </tr>\n",
              "    <tr>\n",
              "      <th>11</th>\n",
              "      <td>вне всяких сомнений</td>\n",
              "      <td>[0.0, 0.01, 0.0, 0.0, 0.0, 0.99]</td>\n",
              "      <td>tag_yes</td>\n",
              "    </tr>\n",
              "    <tr>\n",
              "      <th>12</th>\n",
              "      <td>не понял</td>\n",
              "      <td>[0.0, 0.0, 0.0, 0.0, 0.99, 0.0]</td>\n",
              "      <td>tag_who_is</td>\n",
              "    </tr>\n",
              "    <tr>\n",
              "      <th>13</th>\n",
              "      <td>да нет наверное</td>\n",
              "      <td>[0.03, 0.75, 0.0, 0.0, 0.0, 0.22]</td>\n",
              "      <td>tag_no</td>\n",
              "    </tr>\n",
              "    <tr>\n",
              "      <th>14</th>\n",
              "      <td>алло, я больше не хочу получать звонки от вас!</td>\n",
              "      <td>[1.0, 0.0, 0.0, 0.0, 0.0, 0.0]</td>\n",
              "      <td>tag_do_not_call</td>\n",
              "    </tr>\n",
              "    <tr>\n",
              "      <th>15</th>\n",
              "      <td>сыт по горло</td>\n",
              "      <td>[0.59, 0.27, 0.02, 0.0, 0.03, 0.09]</td>\n",
              "      <td>tag_do_not_call</td>\n",
              "    </tr>\n",
              "    <tr>\n",
              "      <th>16</th>\n",
              "      <td>скорее всего</td>\n",
              "      <td>[0.01, 0.76, 0.0, 0.0, 0.0, 0.23]</td>\n",
              "      <td>tag_no</td>\n",
              "    </tr>\n",
              "    <tr>\n",
              "      <th>17</th>\n",
              "      <td>не, не годится</td>\n",
              "      <td>[0.31, 0.5, 0.19, 0.0, 0.0, 0.0]</td>\n",
              "      <td>tag_no</td>\n",
              "    </tr>\n",
              "    <tr>\n",
              "      <th>18</th>\n",
              "      <td>а какая цель звонка?</td>\n",
              "      <td>[0.0, 0.02, 0.0, 0.0, 0.0, 0.98]</td>\n",
              "      <td>tag_yes</td>\n",
              "    </tr>\n",
              "    <tr>\n",
              "      <th>19</th>\n",
              "      <td>допустимо</td>\n",
              "      <td>[0.03, 0.19, 0.04, 0.0, 0.0, 0.74]</td>\n",
              "      <td>tag_yes</td>\n",
              "    </tr>\n",
              "    <tr>\n",
              "      <th>20</th>\n",
              "      <td>зачем</td>\n",
              "      <td>[0.0, 0.0, 0.0, 0.0, 0.0, 1.0]</td>\n",
              "      <td>tag_yes</td>\n",
              "    </tr>\n",
              "    <tr>\n",
              "      <th>21</th>\n",
              "      <td>вероятно</td>\n",
              "      <td>[0.05, 0.29, 0.06, 0.0, 0.02, 0.58]</td>\n",
              "      <td>tag_yes</td>\n",
              "    </tr>\n",
              "    <tr>\n",
              "      <th>22</th>\n",
              "      <td>будь здоров!</td>\n",
              "      <td>[0.04, 0.44, 0.05, 0.0, 0.19, 0.27]</td>\n",
              "      <td>tag_no</td>\n",
              "    </tr>\n",
              "    <tr>\n",
              "      <th>23</th>\n",
              "      <td>положим</td>\n",
              "      <td>[0.18, 0.41, 0.01, 0.0, 0.04, 0.36]</td>\n",
              "      <td>tag_no</td>\n",
              "    </tr>\n",
              "    <tr>\n",
              "      <th>24</th>\n",
              "      <td>представьтесь пожалуйста?</td>\n",
              "      <td>[0.0, 0.01, 0.0, 0.0, 0.98, 0.01]</td>\n",
              "      <td>tag_who_is</td>\n",
              "    </tr>\n",
              "    <tr>\n",
              "      <th>25</th>\n",
              "      <td>кто здесь?</td>\n",
              "      <td>[0.0, 0.0, 0.0, 0.0, 1.0, 0.0]</td>\n",
              "      <td>tag_who_is</td>\n",
              "    </tr>\n",
              "    <tr>\n",
              "      <th>26</th>\n",
              "      <td>нет, в другой раз</td>\n",
              "      <td>[0.0, 0.0, 0.99, 0.0, 0.0, 0.0]</td>\n",
              "      <td>tag_not_now</td>\n",
              "    </tr>\n",
              "    <tr>\n",
              "      <th>27</th>\n",
              "      <td>жаль, но нет</td>\n",
              "      <td>[0.0, 1.0, 0.0, 0.0, 0.0, 0.0]</td>\n",
              "      <td>tag_no</td>\n",
              "    </tr>\n",
              "    <tr>\n",
              "      <th>28</th>\n",
              "      <td>еще раз</td>\n",
              "      <td>[0.0, 0.0, 0.0, 0.0, 1.0, 0.0]</td>\n",
              "      <td>tag_who_is</td>\n",
              "    </tr>\n",
              "    <tr>\n",
              "      <th>29</th>\n",
              "      <td>к прискорбию нет</td>\n",
              "      <td>[0.03, 0.96, 0.0, 0.0, 0.0, 0.0]</td>\n",
              "      <td>tag_no</td>\n",
              "    </tr>\n",
              "  </tbody>\n",
              "</table>\n",
              "</div>"
            ],
            "text/plain": [
              "                                           massege  ...             class\n",
              "0                                   зачем это надо  ...           tag_yes\n",
              "1                                               ну  ...           tag_yes\n",
              "2                               какая организация?  ...           tag_yes\n",
              "3                                     во имя чего?  ...           tag_yes\n",
              "4                                          вы тут?  ...            tag_no\n",
              "5                                       да ну вас!  ...           tag_yes\n",
              "6               приветствую, а что за организация?  ...  tag_what_company\n",
              "7                                        да хорошо  ...           tag_yes\n",
              "8                                 с какой радости?  ...           tag_yes\n",
              "9                                    и что дальше?  ...           tag_yes\n",
              "10                                скажите вторично  ...        tag_who_is\n",
              "11                             вне всяких сомнений  ...           tag_yes\n",
              "12                                        не понял  ...        tag_who_is\n",
              "13                                 да нет наверное  ...            tag_no\n",
              "14  алло, я больше не хочу получать звонки от вас!  ...   tag_do_not_call\n",
              "15                                    сыт по горло  ...   tag_do_not_call\n",
              "16                                    скорее всего  ...            tag_no\n",
              "17                                  не, не годится  ...            tag_no\n",
              "18                            а какая цель звонка?  ...           tag_yes\n",
              "19                                       допустимо  ...           tag_yes\n",
              "20                                           зачем  ...           tag_yes\n",
              "21                                        вероятно  ...           tag_yes\n",
              "22                                    будь здоров!  ...            tag_no\n",
              "23                                         положим  ...            tag_no\n",
              "24                       представьтесь пожалуйста?  ...        tag_who_is\n",
              "25                                      кто здесь?  ...        tag_who_is\n",
              "26                               нет, в другой раз  ...       tag_not_now\n",
              "27                                    жаль, но нет  ...            tag_no\n",
              "28                                         еще раз  ...        tag_who_is\n",
              "29                                к прискорбию нет  ...            tag_no\n",
              "\n",
              "[30 rows x 3 columns]"
            ]
          },
          "metadata": {
            "tags": []
          },
          "execution_count": 51
        }
      ]
    },
    {
      "cell_type": "code",
      "metadata": {
        "id": "l15IQT0TsYCP",
        "outputId": "249debe4-3994-4e09-e027-63ba4cd83994",
        "colab": {
          "base_uri": "https://localhost:8080/",
          "height": 935
        }
      },
      "source": [
        "valid_pred = model2_norm.predict(x_valid_pad_seq_norm)\n",
        "\n",
        "valid_df = pd.DataFrame()\n",
        "valid_df['massege'] = list(x_valid)\n",
        "valid_df['softmax'] = list(valid_pred.round(2))\n",
        "valid_df['class'] = list(np.argmax(valid_pred, axis=1))\n",
        "\n",
        "valid_df['class'] = np.array([x[3:] for x in ohe_ytrain.get_feature_names()])[valid_df['class']]\n",
        "valid_df"
      ],
      "execution_count": 52,
      "outputs": [
        {
          "output_type": "execute_result",
          "data": {
            "text/html": [
              "<div>\n",
              "<style scoped>\n",
              "    .dataframe tbody tr th:only-of-type {\n",
              "        vertical-align: middle;\n",
              "    }\n",
              "\n",
              "    .dataframe tbody tr th {\n",
              "        vertical-align: top;\n",
              "    }\n",
              "\n",
              "    .dataframe thead th {\n",
              "        text-align: right;\n",
              "    }\n",
              "</style>\n",
              "<table border=\"1\" class=\"dataframe\">\n",
              "  <thead>\n",
              "    <tr style=\"text-align: right;\">\n",
              "      <th></th>\n",
              "      <th>massege</th>\n",
              "      <th>softmax</th>\n",
              "      <th>class</th>\n",
              "    </tr>\n",
              "  </thead>\n",
              "  <tbody>\n",
              "    <tr>\n",
              "      <th>0</th>\n",
              "      <td>зачем это надо</td>\n",
              "      <td>[0.0, 0.02, 0.0, 0.0, 0.26, 0.71]</td>\n",
              "      <td>tag_yes</td>\n",
              "    </tr>\n",
              "    <tr>\n",
              "      <th>1</th>\n",
              "      <td>ну</td>\n",
              "      <td>[0.01, 0.02, 0.0, 0.0, 0.0, 0.97]</td>\n",
              "      <td>tag_yes</td>\n",
              "    </tr>\n",
              "    <tr>\n",
              "      <th>2</th>\n",
              "      <td>какая организация?</td>\n",
              "      <td>[0.0, 0.02, 0.0, 0.61, 0.0, 0.37]</td>\n",
              "      <td>tag_what_company</td>\n",
              "    </tr>\n",
              "    <tr>\n",
              "      <th>3</th>\n",
              "      <td>во имя чего?</td>\n",
              "      <td>[0.0, 0.16, 0.03, 0.0, 0.0, 0.8]</td>\n",
              "      <td>tag_yes</td>\n",
              "    </tr>\n",
              "    <tr>\n",
              "      <th>4</th>\n",
              "      <td>вы тут?</td>\n",
              "      <td>[0.0, 0.02, 0.0, 0.0, 0.0, 0.97]</td>\n",
              "      <td>tag_yes</td>\n",
              "    </tr>\n",
              "    <tr>\n",
              "      <th>5</th>\n",
              "      <td>да ну вас!</td>\n",
              "      <td>[0.01, 0.07, 0.0, 0.0, 0.01, 0.91]</td>\n",
              "      <td>tag_yes</td>\n",
              "    </tr>\n",
              "    <tr>\n",
              "      <th>6</th>\n",
              "      <td>приветствую, а что за организация?</td>\n",
              "      <td>[0.0, 0.0, 0.0, 1.0, 0.0, 0.0]</td>\n",
              "      <td>tag_what_company</td>\n",
              "    </tr>\n",
              "    <tr>\n",
              "      <th>7</th>\n",
              "      <td>да хорошо</td>\n",
              "      <td>[0.0, 0.03, 0.0, 0.0, 0.0, 0.96]</td>\n",
              "      <td>tag_yes</td>\n",
              "    </tr>\n",
              "    <tr>\n",
              "      <th>8</th>\n",
              "      <td>с какой радости?</td>\n",
              "      <td>[0.0, 0.02, 0.0, 0.0, 0.0, 0.98]</td>\n",
              "      <td>tag_yes</td>\n",
              "    </tr>\n",
              "    <tr>\n",
              "      <th>9</th>\n",
              "      <td>и что дальше?</td>\n",
              "      <td>[0.0, 0.01, 0.0, 0.0, 0.0, 0.99]</td>\n",
              "      <td>tag_yes</td>\n",
              "    </tr>\n",
              "    <tr>\n",
              "      <th>10</th>\n",
              "      <td>скажите вторично</td>\n",
              "      <td>[0.02, 0.23, 0.0, 0.0, 0.12, 0.63]</td>\n",
              "      <td>tag_yes</td>\n",
              "    </tr>\n",
              "    <tr>\n",
              "      <th>11</th>\n",
              "      <td>вне всяких сомнений</td>\n",
              "      <td>[0.0, 0.01, 0.0, 0.0, 0.0, 0.99]</td>\n",
              "      <td>tag_yes</td>\n",
              "    </tr>\n",
              "    <tr>\n",
              "      <th>12</th>\n",
              "      <td>не понял</td>\n",
              "      <td>[0.0, 0.04, 0.0, 0.0, 0.95, 0.01]</td>\n",
              "      <td>tag_who_is</td>\n",
              "    </tr>\n",
              "    <tr>\n",
              "      <th>13</th>\n",
              "      <td>да нет наверное</td>\n",
              "      <td>[0.01, 0.17, 0.01, 0.0, 0.0, 0.82]</td>\n",
              "      <td>tag_yes</td>\n",
              "    </tr>\n",
              "    <tr>\n",
              "      <th>14</th>\n",
              "      <td>алло, я больше не хочу получать звонки от вас!</td>\n",
              "      <td>[0.52, 0.02, 0.0, 0.42, 0.04, 0.0]</td>\n",
              "      <td>tag_do_not_call</td>\n",
              "    </tr>\n",
              "    <tr>\n",
              "      <th>15</th>\n",
              "      <td>сыт по горло</td>\n",
              "      <td>[0.73, 0.05, 0.01, 0.0, 0.01, 0.21]</td>\n",
              "      <td>tag_do_not_call</td>\n",
              "    </tr>\n",
              "    <tr>\n",
              "      <th>16</th>\n",
              "      <td>скорее всего</td>\n",
              "      <td>[0.01, 0.12, 0.0, 0.0, 0.0, 0.87]</td>\n",
              "      <td>tag_yes</td>\n",
              "    </tr>\n",
              "    <tr>\n",
              "      <th>17</th>\n",
              "      <td>не, не годится</td>\n",
              "      <td>[0.07, 0.3, 0.59, 0.0, 0.0, 0.03]</td>\n",
              "      <td>tag_not_now</td>\n",
              "    </tr>\n",
              "    <tr>\n",
              "      <th>18</th>\n",
              "      <td>а какая цель звонка?</td>\n",
              "      <td>[0.01, 0.03, 0.0, 0.0, 0.0, 0.96]</td>\n",
              "      <td>tag_yes</td>\n",
              "    </tr>\n",
              "    <tr>\n",
              "      <th>19</th>\n",
              "      <td>допустимо</td>\n",
              "      <td>[0.01, 0.21, 0.01, 0.0, 0.0, 0.76]</td>\n",
              "      <td>tag_yes</td>\n",
              "    </tr>\n",
              "    <tr>\n",
              "      <th>20</th>\n",
              "      <td>зачем</td>\n",
              "      <td>[0.0, 0.01, 0.0, 0.0, 0.0, 0.99]</td>\n",
              "      <td>tag_yes</td>\n",
              "    </tr>\n",
              "    <tr>\n",
              "      <th>21</th>\n",
              "      <td>вероятно</td>\n",
              "      <td>[0.04, 0.16, 0.01, 0.0, 0.0, 0.78]</td>\n",
              "      <td>tag_yes</td>\n",
              "    </tr>\n",
              "    <tr>\n",
              "      <th>22</th>\n",
              "      <td>будь здоров!</td>\n",
              "      <td>[0.01, 0.69, 0.0, 0.0, 0.01, 0.29]</td>\n",
              "      <td>tag_no</td>\n",
              "    </tr>\n",
              "    <tr>\n",
              "      <th>23</th>\n",
              "      <td>положим</td>\n",
              "      <td>[0.02, 0.07, 0.0, 0.0, 0.0, 0.91]</td>\n",
              "      <td>tag_yes</td>\n",
              "    </tr>\n",
              "    <tr>\n",
              "      <th>24</th>\n",
              "      <td>представьтесь пожалуйста?</td>\n",
              "      <td>[0.05, 0.03, 0.0, 0.0, 0.36, 0.55]</td>\n",
              "      <td>tag_yes</td>\n",
              "    </tr>\n",
              "    <tr>\n",
              "      <th>25</th>\n",
              "      <td>кто здесь?</td>\n",
              "      <td>[0.0, 0.01, 0.0, 0.0, 0.97, 0.01]</td>\n",
              "      <td>tag_who_is</td>\n",
              "    </tr>\n",
              "    <tr>\n",
              "      <th>26</th>\n",
              "      <td>нет, в другой раз</td>\n",
              "      <td>[0.0, 0.01, 0.99, 0.0, 0.0, 0.0]</td>\n",
              "      <td>tag_not_now</td>\n",
              "    </tr>\n",
              "    <tr>\n",
              "      <th>27</th>\n",
              "      <td>жаль, но нет</td>\n",
              "      <td>[0.0, 0.97, 0.01, 0.0, 0.0, 0.01]</td>\n",
              "      <td>tag_no</td>\n",
              "    </tr>\n",
              "    <tr>\n",
              "      <th>28</th>\n",
              "      <td>еще раз</td>\n",
              "      <td>[0.0, 0.0, 0.0, 0.0, 0.99, 0.0]</td>\n",
              "      <td>tag_who_is</td>\n",
              "    </tr>\n",
              "    <tr>\n",
              "      <th>29</th>\n",
              "      <td>к прискорбию нет</td>\n",
              "      <td>[0.03, 0.95, 0.01, 0.0, 0.0, 0.02]</td>\n",
              "      <td>tag_no</td>\n",
              "    </tr>\n",
              "  </tbody>\n",
              "</table>\n",
              "</div>"
            ],
            "text/plain": [
              "                                           massege  ...             class\n",
              "0                                   зачем это надо  ...           tag_yes\n",
              "1                                               ну  ...           tag_yes\n",
              "2                               какая организация?  ...  tag_what_company\n",
              "3                                     во имя чего?  ...           tag_yes\n",
              "4                                          вы тут?  ...           tag_yes\n",
              "5                                       да ну вас!  ...           tag_yes\n",
              "6               приветствую, а что за организация?  ...  tag_what_company\n",
              "7                                        да хорошо  ...           tag_yes\n",
              "8                                 с какой радости?  ...           tag_yes\n",
              "9                                    и что дальше?  ...           tag_yes\n",
              "10                                скажите вторично  ...           tag_yes\n",
              "11                             вне всяких сомнений  ...           tag_yes\n",
              "12                                        не понял  ...        tag_who_is\n",
              "13                                 да нет наверное  ...           tag_yes\n",
              "14  алло, я больше не хочу получать звонки от вас!  ...   tag_do_not_call\n",
              "15                                    сыт по горло  ...   tag_do_not_call\n",
              "16                                    скорее всего  ...           tag_yes\n",
              "17                                  не, не годится  ...       tag_not_now\n",
              "18                            а какая цель звонка?  ...           tag_yes\n",
              "19                                       допустимо  ...           tag_yes\n",
              "20                                           зачем  ...           tag_yes\n",
              "21                                        вероятно  ...           tag_yes\n",
              "22                                    будь здоров!  ...            tag_no\n",
              "23                                         положим  ...           tag_yes\n",
              "24                       представьтесь пожалуйста?  ...           tag_yes\n",
              "25                                      кто здесь?  ...        tag_who_is\n",
              "26                               нет, в другой раз  ...       tag_not_now\n",
              "27                                    жаль, но нет  ...            tag_no\n",
              "28                                         еще раз  ...        tag_who_is\n",
              "29                                к прискорбию нет  ...            tag_no\n",
              "\n",
              "[30 rows x 3 columns]"
            ]
          },
          "metadata": {
            "tags": []
          },
          "execution_count": 52
        }
      ]
    }
  ]
}