{
  "nbformat": 4,
  "nbformat_minor": 0,
  "metadata": {
    "colab": {
      "name": "DataPrepare.ipynb",
      "provenance": [],
      "collapsed_sections": [],
      "machine_shape": "hm",
      "include_colab_link": true
    },
    "kernelspec": {
      "name": "python3",
      "display_name": "Python 3"
    },
    "accelerator": "GPU"
  },
  "cells": [
    {
      "cell_type": "markdown",
      "metadata": {
        "id": "view-in-github",
        "colab_type": "text"
      },
      "source": [
        "<a href=\"https://colab.research.google.com/github/resquilleur/TestWorkNeowoxCC/blob/master/DataPrepare.ipynb\" target=\"_parent\"><img src=\"https://colab.research.google.com/assets/colab-badge.svg\" alt=\"Open In Colab\"/></a>"
      ]
    },
    {
      "cell_type": "code",
      "metadata": {
        "id": "UVHJEB7I7yWB"
      },
      "source": [
        "# git clone\n",
        "\n",
        "%cd TestWorkNeowoxCC"
      ],
      "execution_count": null,
      "outputs": []
    },
    {
      "cell_type": "markdown",
      "metadata": {
        "id": "4cbgwZWWfWpp"
      },
      "source": [
        "# Импорт библиотек"
      ]
    },
    {
      "cell_type": "code",
      "metadata": {
        "id": "tAb77yZ9fzMG"
      },
      "source": [
        "import pandas as pd\n",
        "import numpy as np\n",
        "import pymorphy2\n",
        "import pickle\n",
        "\n",
        "from sklearn.preprocessing import OneHotEncoder\n",
        "from sklearn.model_selection import train_test_split\n",
        "\n",
        "from tensorflow.keras.preprocessing.text import Tokenizer\n",
        "from tensorflow.keras.preprocessing.sequence import pad_sequences"
      ],
      "execution_count": null,
      "outputs": []
    },
    {
      "cell_type": "markdown",
      "metadata": {
        "id": "ZkGXMKzbXRlp"
      },
      "source": [
        "## Загрузка и обработка наборов данных"
      ]
    },
    {
      "cell_type": "code",
      "metadata": {
        "colab": {
          "base_uri": "https://localhost:8080/",
          "height": 284
        },
        "id": "XhLtrAJnLDIL",
        "outputId": "2ad00ab4-b044-4b1f-8d93-1e6f58e1b3f0"
      },
      "source": [
        "# загрузим набор данных\n",
        "data_train = pd.read_csv('data/for_test_train.csv').drop(columns=['Unnamed: 0'])\n",
        "# посмотрим кол-во экземпляров по классам\n",
        "data_train.groupby('label').count()"
      ],
      "execution_count": null,
      "outputs": [
        {
          "output_type": "execute_result",
          "data": {
            "text/html": [
              "<div>\n",
              "<style scoped>\n",
              "    .dataframe tbody tr th:only-of-type {\n",
              "        vertical-align: middle;\n",
              "    }\n",
              "\n",
              "    .dataframe tbody tr th {\n",
              "        vertical-align: top;\n",
              "    }\n",
              "\n",
              "    .dataframe thead th {\n",
              "        text-align: right;\n",
              "    }\n",
              "</style>\n",
              "<table border=\"1\" class=\"dataframe\">\n",
              "  <thead>\n",
              "    <tr style=\"text-align: right;\">\n",
              "      <th></th>\n",
              "      <th>message</th>\n",
              "    </tr>\n",
              "    <tr>\n",
              "      <th>label</th>\n",
              "      <th></th>\n",
              "    </tr>\n",
              "  </thead>\n",
              "  <tbody>\n",
              "    <tr>\n",
              "      <th>tag_do_not_call</th>\n",
              "      <td>85</td>\n",
              "    </tr>\n",
              "    <tr>\n",
              "      <th>tag_no</th>\n",
              "      <td>122</td>\n",
              "    </tr>\n",
              "    <tr>\n",
              "      <th>tag_no_now</th>\n",
              "      <td>1</td>\n",
              "    </tr>\n",
              "    <tr>\n",
              "      <th>tag_not_now</th>\n",
              "      <td>67</td>\n",
              "    </tr>\n",
              "    <tr>\n",
              "      <th>tag_what_company</th>\n",
              "      <td>36</td>\n",
              "    </tr>\n",
              "    <tr>\n",
              "      <th>tag_who_is</th>\n",
              "      <td>50</td>\n",
              "    </tr>\n",
              "    <tr>\n",
              "      <th>tag_yes</th>\n",
              "      <td>191</td>\n",
              "    </tr>\n",
              "  </tbody>\n",
              "</table>\n",
              "</div>"
            ],
            "text/plain": [
              "                  message\n",
              "label                    \n",
              "tag_do_not_call        85\n",
              "tag_no                122\n",
              "tag_no_now              1\n",
              "tag_not_now            67\n",
              "tag_what_company       36\n",
              "tag_who_is             50\n",
              "tag_yes               191"
            ]
          },
          "metadata": {
            "tags": []
          },
          "execution_count": 178
        }
      ]
    },
    {
      "cell_type": "code",
      "metadata": {
        "colab": {
          "base_uri": "https://localhost:8080/",
          "height": 77
        },
        "id": "GHZUWf87R8Fm",
        "outputId": "4b08fca3-f5a2-4204-af7d-ef94f1a216e6"
      },
      "source": [
        "# видим, что у нас есть всего один экземпляр класса tag_no_now, по смыслу подходит к тегу tag_not_now\n",
        "# я решил объеденить эти классы\n",
        "data_train[data_train['label'] == 'tag_no_now']"
      ],
      "execution_count": null,
      "outputs": [
        {
          "output_type": "execute_result",
          "data": {
            "text/html": [
              "<div>\n",
              "<style scoped>\n",
              "    .dataframe tbody tr th:only-of-type {\n",
              "        vertical-align: middle;\n",
              "    }\n",
              "\n",
              "    .dataframe tbody tr th {\n",
              "        vertical-align: top;\n",
              "    }\n",
              "\n",
              "    .dataframe thead th {\n",
              "        text-align: right;\n",
              "    }\n",
              "</style>\n",
              "<table border=\"1\" class=\"dataframe\">\n",
              "  <thead>\n",
              "    <tr style=\"text-align: right;\">\n",
              "      <th></th>\n",
              "      <th>message</th>\n",
              "      <th>label</th>\n",
              "    </tr>\n",
              "  </thead>\n",
              "  <tbody>\n",
              "    <tr>\n",
              "      <th>543</th>\n",
              "      <td>ты шутишь, у меня нет времени!</td>\n",
              "      <td>tag_no_now</td>\n",
              "    </tr>\n",
              "  </tbody>\n",
              "</table>\n",
              "</div>"
            ],
            "text/plain": [
              "                            message       label\n",
              "543  ты шутишь, у меня нет времени!  tag_no_now"
            ]
          },
          "metadata": {
            "tags": []
          },
          "execution_count": 179
        }
      ]
    },
    {
      "cell_type": "code",
      "metadata": {
        "colab": {
          "base_uri": "https://localhost:8080/",
          "height": 254
        },
        "id": "f2HyI9wqPwJz",
        "outputId": "1ee40024-9741-4dea-cc2f-fe9e4d916d37"
      },
      "source": [
        "# получим индекс нужного тега и переименуем его в правильный тег\n",
        "idx = (data_train['label'] == 'tag_no_now')\n",
        "data_train.loc[idx, 'label'] = 'tag_not_now'\n",
        "data_train.groupby('label').count()"
      ],
      "execution_count": null,
      "outputs": [
        {
          "output_type": "execute_result",
          "data": {
            "text/html": [
              "<div>\n",
              "<style scoped>\n",
              "    .dataframe tbody tr th:only-of-type {\n",
              "        vertical-align: middle;\n",
              "    }\n",
              "\n",
              "    .dataframe tbody tr th {\n",
              "        vertical-align: top;\n",
              "    }\n",
              "\n",
              "    .dataframe thead th {\n",
              "        text-align: right;\n",
              "    }\n",
              "</style>\n",
              "<table border=\"1\" class=\"dataframe\">\n",
              "  <thead>\n",
              "    <tr style=\"text-align: right;\">\n",
              "      <th></th>\n",
              "      <th>message</th>\n",
              "    </tr>\n",
              "    <tr>\n",
              "      <th>label</th>\n",
              "      <th></th>\n",
              "    </tr>\n",
              "  </thead>\n",
              "  <tbody>\n",
              "    <tr>\n",
              "      <th>tag_do_not_call</th>\n",
              "      <td>85</td>\n",
              "    </tr>\n",
              "    <tr>\n",
              "      <th>tag_no</th>\n",
              "      <td>122</td>\n",
              "    </tr>\n",
              "    <tr>\n",
              "      <th>tag_not_now</th>\n",
              "      <td>68</td>\n",
              "    </tr>\n",
              "    <tr>\n",
              "      <th>tag_what_company</th>\n",
              "      <td>36</td>\n",
              "    </tr>\n",
              "    <tr>\n",
              "      <th>tag_who_is</th>\n",
              "      <td>50</td>\n",
              "    </tr>\n",
              "    <tr>\n",
              "      <th>tag_yes</th>\n",
              "      <td>191</td>\n",
              "    </tr>\n",
              "  </tbody>\n",
              "</table>\n",
              "</div>"
            ],
            "text/plain": [
              "                  message\n",
              "label                    \n",
              "tag_do_not_call        85\n",
              "tag_no                122\n",
              "tag_not_now            68\n",
              "tag_what_company       36\n",
              "tag_who_is             50\n",
              "tag_yes               191"
            ]
          },
          "metadata": {
            "tags": []
          },
          "execution_count": 180
        }
      ]
    },
    {
      "cell_type": "code",
      "metadata": {
        "colab": {
          "base_uri": "https://localhost:8080/",
          "height": 935
        },
        "id": "uZGisVkmLtUX",
        "outputId": "008b64e8-e086-4f4b-c225-5aa9306875f6"
      },
      "source": [
        "# загрузим проверочный набор данных\n",
        "data_valid = pd.read_csv('data/for_test_valid.csv', sep=';') # обязательно использовать такой разделитель, иначе не загрузится.\n",
        "data_valid # проверочный набор"
      ],
      "execution_count": null,
      "outputs": [
        {
          "output_type": "execute_result",
          "data": {
            "text/html": [
              "<div>\n",
              "<style scoped>\n",
              "    .dataframe tbody tr th:only-of-type {\n",
              "        vertical-align: middle;\n",
              "    }\n",
              "\n",
              "    .dataframe tbody tr th {\n",
              "        vertical-align: top;\n",
              "    }\n",
              "\n",
              "    .dataframe thead th {\n",
              "        text-align: right;\n",
              "    }\n",
              "</style>\n",
              "<table border=\"1\" class=\"dataframe\">\n",
              "  <thead>\n",
              "    <tr style=\"text-align: right;\">\n",
              "      <th></th>\n",
              "      <th>Unnamed: 0</th>\n",
              "      <th>message</th>\n",
              "    </tr>\n",
              "  </thead>\n",
              "  <tbody>\n",
              "    <tr>\n",
              "      <th>0</th>\n",
              "      <td>106</td>\n",
              "      <td>зачем это надо</td>\n",
              "    </tr>\n",
              "    <tr>\n",
              "      <th>1</th>\n",
              "      <td>162</td>\n",
              "      <td>ну</td>\n",
              "    </tr>\n",
              "    <tr>\n",
              "      <th>2</th>\n",
              "      <td>602</td>\n",
              "      <td>какая организация?</td>\n",
              "    </tr>\n",
              "    <tr>\n",
              "      <th>3</th>\n",
              "      <td>32</td>\n",
              "      <td>во имя чего?</td>\n",
              "    </tr>\n",
              "    <tr>\n",
              "      <th>4</th>\n",
              "      <td>642</td>\n",
              "      <td>вы тут?</td>\n",
              "    </tr>\n",
              "    <tr>\n",
              "      <th>5</th>\n",
              "      <td>419</td>\n",
              "      <td>да ну вас!</td>\n",
              "    </tr>\n",
              "    <tr>\n",
              "      <th>6</th>\n",
              "      <td>854</td>\n",
              "      <td>приветствую, а что за организация?</td>\n",
              "    </tr>\n",
              "    <tr>\n",
              "      <th>7</th>\n",
              "      <td>59</td>\n",
              "      <td>да хорошо</td>\n",
              "    </tr>\n",
              "    <tr>\n",
              "      <th>8</th>\n",
              "      <td>219</td>\n",
              "      <td>с какой радости?</td>\n",
              "    </tr>\n",
              "    <tr>\n",
              "      <th>9</th>\n",
              "      <td>112</td>\n",
              "      <td>и что дальше?</td>\n",
              "    </tr>\n",
              "    <tr>\n",
              "      <th>10</th>\n",
              "      <td>681</td>\n",
              "      <td>скажите вторично</td>\n",
              "    </tr>\n",
              "    <tr>\n",
              "      <th>11</th>\n",
              "      <td>26</td>\n",
              "      <td>вне всяких сомнений</td>\n",
              "    </tr>\n",
              "    <tr>\n",
              "      <th>12</th>\n",
              "      <td>664</td>\n",
              "      <td>не понял</td>\n",
              "    </tr>\n",
              "    <tr>\n",
              "      <th>13</th>\n",
              "      <td>812</td>\n",
              "      <td>да нет наверное</td>\n",
              "    </tr>\n",
              "    <tr>\n",
              "      <th>14</th>\n",
              "      <td>892</td>\n",
              "      <td>алло, я больше не хочу получать звонки от вас!</td>\n",
              "    </tr>\n",
              "    <tr>\n",
              "      <th>15</th>\n",
              "      <td>781</td>\n",
              "      <td>сыт по горло</td>\n",
              "    </tr>\n",
              "    <tr>\n",
              "      <th>16</th>\n",
              "      <td>230</td>\n",
              "      <td>скорее всего</td>\n",
              "    </tr>\n",
              "    <tr>\n",
              "      <th>17</th>\n",
              "      <td>480</td>\n",
              "      <td>не, не годится</td>\n",
              "    </tr>\n",
              "    <tr>\n",
              "      <th>18</th>\n",
              "      <td>3</td>\n",
              "      <td>а какая цель звонка?</td>\n",
              "    </tr>\n",
              "    <tr>\n",
              "      <th>19</th>\n",
              "      <td>95</td>\n",
              "      <td>допустимо</td>\n",
              "    </tr>\n",
              "    <tr>\n",
              "      <th>20</th>\n",
              "      <td>103</td>\n",
              "      <td>зачем</td>\n",
              "    </tr>\n",
              "    <tr>\n",
              "      <th>21</th>\n",
              "      <td>22</td>\n",
              "      <td>вероятно</td>\n",
              "    </tr>\n",
              "    <tr>\n",
              "      <th>22</th>\n",
              "      <td>394</td>\n",
              "      <td>будь здоров!</td>\n",
              "    </tr>\n",
              "    <tr>\n",
              "      <th>23</th>\n",
              "      <td>191</td>\n",
              "      <td>положим</td>\n",
              "    </tr>\n",
              "    <tr>\n",
              "      <th>24</th>\n",
              "      <td>678</td>\n",
              "      <td>представьтесь пожалуйста?</td>\n",
              "    </tr>\n",
              "    <tr>\n",
              "      <th>25</th>\n",
              "      <td>657</td>\n",
              "      <td>кто здесь?</td>\n",
              "    </tr>\n",
              "    <tr>\n",
              "      <th>26</th>\n",
              "      <td>336</td>\n",
              "      <td>нет, в другой раз</td>\n",
              "    </tr>\n",
              "    <tr>\n",
              "      <th>27</th>\n",
              "      <td>431</td>\n",
              "      <td>жаль, но нет</td>\n",
              "    </tr>\n",
              "    <tr>\n",
              "      <th>28</th>\n",
              "      <td>648</td>\n",
              "      <td>еще раз</td>\n",
              "    </tr>\n",
              "    <tr>\n",
              "      <th>29</th>\n",
              "      <td>445</td>\n",
              "      <td>к прискорбию нет</td>\n",
              "    </tr>\n",
              "  </tbody>\n",
              "</table>\n",
              "</div>"
            ],
            "text/plain": [
              "    Unnamed: 0                                         message\n",
              "0          106                                  зачем это надо\n",
              "1          162                                              ну\n",
              "2          602                              какая организация?\n",
              "3           32                                    во имя чего?\n",
              "4          642                                         вы тут?\n",
              "5          419                                      да ну вас!\n",
              "6          854              приветствую, а что за организация?\n",
              "7           59                                       да хорошо\n",
              "8          219                                с какой радости?\n",
              "9          112                                   и что дальше?\n",
              "10         681                                скажите вторично\n",
              "11          26                             вне всяких сомнений\n",
              "12         664                                        не понял\n",
              "13         812                                 да нет наверное\n",
              "14         892  алло, я больше не хочу получать звонки от вас!\n",
              "15         781                                    сыт по горло\n",
              "16         230                                    скорее всего\n",
              "17         480                                  не, не годится\n",
              "18           3                            а какая цель звонка?\n",
              "19          95                                       допустимо\n",
              "20         103                                           зачем\n",
              "21          22                                        вероятно\n",
              "22         394                                    будь здоров!\n",
              "23         191                                         положим\n",
              "24         678                       представьтесь пожалуйста?\n",
              "25         657                                      кто здесь?\n",
              "26         336                               нет, в другой раз\n",
              "27         431                                    жаль, но нет\n",
              "28         648                                         еще раз\n",
              "29         445                                к прискорбию нет"
            ]
          },
          "metadata": {
            "tags": []
          },
          "execution_count": 181
        }
      ]
    },
    {
      "cell_type": "markdown",
      "metadata": {
        "id": "ZpbbIcwCJCSB"
      },
      "source": [
        "## Аугментация данных"
      ]
    },
    {
      "cell_type": "code",
      "metadata": {
        "colab": {
          "base_uri": "https://localhost:8080/",
          "height": 402
        },
        "id": "O2Oy_1PLr1eJ",
        "outputId": "0a213681-9bb4-41f5-bf90-72f34df71070"
      },
      "source": [
        "# видим дисбаланс классов и в целом датасет небольшой, сделаем аугментацию для повышения качество распознования классов\n",
        "aug_data_train = pd.DataFrame() # создадим пустой датафрейм\n",
        "labels = data_train['label'].unique() # список уникальных меток классов\n",
        "\n",
        "# сделаем так, чтобы обязательно попали все примеры, и добавим сгенерированные бутстрапом, так чтобы в сумме оказалось 200 шт каждого класса\n",
        "for label in labels:\n",
        "    n_samples = 0\n",
        "    aug_data_train = pd.concat([aug_data_train, data_train[data_train['label'] == label]], ignore_index=True)\n",
        "    if label not in ['tag_yes', 'tag_no']:\n",
        "        n_samples = 200 - data_train[data_train['label'] == label].count()[0]\n",
        "    aug_data_train = pd.concat([aug_data_train, data_train[data_train['label'] == label].sample(n=n_samples, replace=True, random_state=42)], ignore_index=True)\n",
        "\n",
        "aug_data_train"
      ],
      "execution_count": null,
      "outputs": [
        {
          "output_type": "execute_result",
          "data": {
            "text/html": [
              "<div>\n",
              "<style scoped>\n",
              "    .dataframe tbody tr th:only-of-type {\n",
              "        vertical-align: middle;\n",
              "    }\n",
              "\n",
              "    .dataframe tbody tr th {\n",
              "        vertical-align: top;\n",
              "    }\n",
              "\n",
              "    .dataframe thead th {\n",
              "        text-align: right;\n",
              "    }\n",
              "</style>\n",
              "<table border=\"1\" class=\"dataframe\">\n",
              "  <thead>\n",
              "    <tr style=\"text-align: right;\">\n",
              "      <th></th>\n",
              "      <th>message</th>\n",
              "      <th>label</th>\n",
              "    </tr>\n",
              "  </thead>\n",
              "  <tbody>\n",
              "    <tr>\n",
              "      <th>0</th>\n",
              "      <td>будьте здоровы!</td>\n",
              "      <td>tag_no</td>\n",
              "    </tr>\n",
              "    <tr>\n",
              "      <th>1</th>\n",
              "      <td>не имеется</td>\n",
              "      <td>tag_no</td>\n",
              "    </tr>\n",
              "    <tr>\n",
              "      <th>2</th>\n",
              "      <td>ни фига</td>\n",
              "      <td>tag_no</td>\n",
              "    </tr>\n",
              "    <tr>\n",
              "      <th>3</th>\n",
              "      <td>вы бредите</td>\n",
              "      <td>tag_no</td>\n",
              "    </tr>\n",
              "    <tr>\n",
              "      <th>4</th>\n",
              "      <td>нет, нашел дурака</td>\n",
              "      <td>tag_no</td>\n",
              "    </tr>\n",
              "    <tr>\n",
              "      <th>...</th>\n",
              "      <td>...</td>\n",
              "      <td>...</td>\n",
              "    </tr>\n",
              "    <tr>\n",
              "      <th>1108</th>\n",
              "      <td>скажите по новой</td>\n",
              "      <td>tag_who_is</td>\n",
              "    </tr>\n",
              "    <tr>\n",
              "      <th>1109</th>\n",
              "      <td>да, алло, я не расслышал</td>\n",
              "      <td>tag_who_is</td>\n",
              "    </tr>\n",
              "    <tr>\n",
              "      <th>1110</th>\n",
              "      <td>да, алло, я не расслышал</td>\n",
              "      <td>tag_who_is</td>\n",
              "    </tr>\n",
              "    <tr>\n",
              "      <th>1111</th>\n",
              "      <td>это кто?</td>\n",
              "      <td>tag_who_is</td>\n",
              "    </tr>\n",
              "    <tr>\n",
              "      <th>1112</th>\n",
              "      <td>я вас не расслышал</td>\n",
              "      <td>tag_who_is</td>\n",
              "    </tr>\n",
              "  </tbody>\n",
              "</table>\n",
              "<p>1113 rows × 2 columns</p>\n",
              "</div>"
            ],
            "text/plain": [
              "                       message       label\n",
              "0              будьте здоровы!      tag_no\n",
              "1                   не имеется      tag_no\n",
              "2                      ни фига      tag_no\n",
              "3                   вы бредите      tag_no\n",
              "4            нет, нашел дурака      tag_no\n",
              "...                        ...         ...\n",
              "1108          скажите по новой  tag_who_is\n",
              "1109  да, алло, я не расслышал  tag_who_is\n",
              "1110  да, алло, я не расслышал  tag_who_is\n",
              "1111                  это кто?  tag_who_is\n",
              "1112        я вас не расслышал  tag_who_is\n",
              "\n",
              "[1113 rows x 2 columns]"
            ]
          },
          "metadata": {
            "tags": []
          },
          "execution_count": 182
        }
      ]
    },
    {
      "cell_type": "markdown",
      "metadata": {
        "id": "XfHL3jEBJs-O"
      },
      "source": [
        "## Формируем наборы"
      ]
    },
    {
      "cell_type": "code",
      "metadata": {
        "colab": {
          "base_uri": "https://localhost:8080/"
        },
        "id": "U2VjlMD7T9Js",
        "outputId": "f3dd3def-3669-4a45-965e-06a4077e4c22"
      },
      "source": [
        "# неагментированные данные\n",
        "x_train_not_aug = data_train['message'].values\n",
        "y_train_not_aug = data_train['label'].values\n",
        "\n",
        "# формируем x_valid\n",
        "x_valid = data_valid['message'].values\n",
        "\n",
        "# формируем x_train, y_train\n",
        "x_train = aug_data_train['message'].values\n",
        "y_train = aug_data_train['label'].values\n",
        "\n",
        "# сделаем one_hot_encoding для набора классов\n",
        "ohe_ytrain = OneHotEncoder()\n",
        "y_train = ohe_ytrain.fit_transform(y_train.reshape(-1,1)).toarray() # аугментированный набор\n",
        "y_train[0]"
      ],
      "execution_count": null,
      "outputs": [
        {
          "output_type": "execute_result",
          "data": {
            "text/plain": [
              "array([0., 1., 0., 0., 0., 0.])"
            ]
          },
          "metadata": {
            "tags": []
          },
          "execution_count": 183
        }
      ]
    },
    {
      "cell_type": "code",
      "metadata": {
        "id": "FeoILfSIrq9n"
      },
      "source": [
        "# функция приведения к нормальной форме слова\n",
        "def data_normalized(x_data):\n",
        "    x_data_normal = []\n",
        "    for frase in x_data:\n",
        "        new_frase = ''\n",
        "        words = frase.split()\n",
        "        for word in words:\n",
        "            word = word.replace('!', '').replace(',', '').replace('?', '')\n",
        "            new_frase += f' {ma.normal_forms(word)[0]}'\n",
        "        x_data_normal.append(new_frase)\n",
        "    return np.array(x_data_normal)"
      ],
      "execution_count": null,
      "outputs": []
    },
    {
      "cell_type": "code",
      "metadata": {
        "id": "IypZffZYLYH2"
      },
      "source": [
        "# создаем анализатор слов\n",
        "ma = pymorphy2.MorphAnalyzer()\n",
        "\n",
        "# далее у нас будет два варианта набора данных с нормой и без\n",
        "x_valid_norm = data_normalized(x_valid)\n",
        "x_train_norm = data_normalized(x_train)"
      ],
      "execution_count": null,
      "outputs": []
    },
    {
      "cell_type": "code",
      "metadata": {
        "id": "RhFHIeovMcD_"
      },
      "source": [
        "# токенизируем слова без нормирования\n",
        "tokenizer = Tokenizer()\n",
        "tokenizer.fit_on_texts(np.concatenate((x_train, x_valid), axis=0)) # обучим на всех словах, что у нас есть\n",
        "\n",
        "tokenizer_norm = Tokenizer()\n",
        "tokenizer_norm.fit_on_texts(np.concatenate((x_train_norm, x_valid_norm), axis=0)) # обучим на всех словах, что у нас есть\n",
        "\n",
        "# сохраним токенайзеры для вывода результатов\n",
        "with open('data/tokenizer.pickle', 'wb') as handle:\n",
        "    pickle.dump(tokenizer, handle, protocol=pickle.HIGHEST_PROTOCOL)\n",
        "\n",
        "with open('data/tokenizer_norm.pickle', 'wb') as handle:\n",
        "    pickle.dump(tokenizer_norm, handle, protocol=pickle.HIGHEST_PROTOCOL)"
      ],
      "execution_count": null,
      "outputs": []
    },
    {
      "cell_type": "code",
      "metadata": {
        "id": "-tViffEdwY9E"
      },
      "source": [
        "# индексы в последовательность, дополним нулями перед последовательностью\n",
        "x_train_seq = tokenizer.texts_to_sequences(x_train)\n",
        "x_train_pad_seq = pad_sequences(x_train_seq, padding='pre')\n",
        "\n",
        "x_train_seq_norm = tokenizer_norm.texts_to_sequences(x_train_norm)\n",
        "x_train_pad_seq_norm = pad_sequences(x_train_seq_norm, padding='pre')\n",
        "\n",
        "x_valid_seq = tokenizer.texts_to_sequences(x_valid)\n",
        "x_valid_pad_seq = pad_sequences(x_valid_seq, padding='pre')\n",
        "\n",
        "x_valid_seq_norm = tokenizer_norm.texts_to_sequences(x_valid_norm)\n",
        "x_valid_pad_seq_norm = pad_sequences(x_valid_seq_norm, padding='pre')"
      ],
      "execution_count": null,
      "outputs": []
    },
    {
      "cell_type": "code",
      "metadata": {
        "colab": {
          "base_uri": "https://localhost:8080/"
        },
        "id": "dWB5QBI8U8_4",
        "outputId": "c44e018c-f780-4e17-df8a-d97d143a61c3"
      },
      "source": [
        "# посмотрим что получилось\n",
        "print(x_train_pad_seq[0])\n",
        "print(x_train[0])\n",
        "\n",
        "print(x_train_pad_seq_norm[0])\n",
        "print(x_train_norm[0])"
      ],
      "execution_count": null,
      "outputs": [
        {
          "output_type": "stream",
          "text": [
            "[  0   0   0   0   0   0   0 331 332]\n",
            "будьте здоровы!\n",
            "[  0   0   0   0   0   0   0 101 207]\n",
            " быть здоровый\n"
          ],
          "name": "stdout"
        }
      ]
    },
    {
      "cell_type": "code",
      "metadata": {
        "id": "e9QsCw3_n_Re"
      },
      "source": [
        "# y_train общий сохраним для семплирования\n",
        "y_train_full = y_train.copy()"
      ],
      "execution_count": null,
      "outputs": []
    },
    {
      "cell_type": "code",
      "metadata": {
        "colab": {
          "base_uri": "https://localhost:8080/"
        },
        "id": "7nDeQYo2o4Qu",
        "outputId": "9008a832-772d-467a-fadc-26a56663f8ee"
      },
      "source": [
        "y_train_full.shape"
      ],
      "execution_count": null,
      "outputs": [
        {
          "output_type": "execute_result",
          "data": {
            "text/plain": [
              "(1113, 6)"
            ]
          },
          "metadata": {
            "tags": []
          },
          "execution_count": 190
        }
      ]
    },
    {
      "cell_type": "code",
      "metadata": {
        "id": "H-mpf5UjaD9v"
      },
      "source": [
        "# разобьем наборы на тестовый и тренировочный\n",
        "x_train, x_test, y_train, y_test = train_test_split(x_train_pad_seq, y_train_full, test_size=0.2, stratify=y_train_full) # stratify позволяет сохранить баланс классов\n",
        "x_train_norm, x_test_norm, y_train_norm, y_test_norm = train_test_split(x_train_pad_seq_norm, y_train_full, test_size=0.2, stratify=y_train_full) # stratify позволяет сохранить баланс классов"
      ],
      "execution_count": null,
      "outputs": []
    },
    {
      "cell_type": "markdown",
      "metadata": {
        "id": "IJa1oC6spG72"
      },
      "source": [
        "## Сохранение наборов для использывания в обучение\n",
        "\n",
        "Подготовил наборы:\n",
        "* x_train, x_test, y_train, y_test - это аугментированные, но *не* нормализованные наборы\n",
        "\n",
        "* x_train_norm, x_test_norm, y_train_norm, y_test_norm - это аугментированные, нормализованные наборы\n",
        "\n",
        "* x_valid_pad_seq, x_valid_pad_seq_norm - аналогично проверочные наборы"
      ]
    },
    {
      "cell_type": "code",
      "metadata": {
        "id": "nxEgGBoxq668"
      },
      "source": [
        "numpy_data_list = [x_train, x_test, y_train, y_test, x_train_norm, x_test_norm, y_train_norm, y_test_norm, x_valid_pad_seq, x_valid_pad_seq_norm]\n",
        "list_name = ['x_train', 'x_test', 'y_train', 'y_test', 'x_train_norm', 'x_test_norm', 'y_train_norm', 'y_test_norm', 'x_valid_pad_seq', 'x_valid_pad_seq_norm']"
      ],
      "execution_count": null,
      "outputs": []
    },
    {
      "cell_type": "code",
      "metadata": {
        "id": "jlS9F08_pFgm"
      },
      "source": [
        "# функция записи\n",
        "def numpy_save(data, list_name):\n",
        "    with open(f'data/{list_name}.npy', 'wb') as f:\n",
        "        np.save(f, data)"
      ],
      "execution_count": null,
      "outputs": []
    },
    {
      "cell_type": "code",
      "metadata": {
        "id": "X92gbw7Orod3"
      },
      "source": [
        "# сохраним все на диск\n",
        "for np_data, name in zip(numpy_data_list, list_name):\n",
        "    numpy_save(np_data, name)"
      ],
      "execution_count": null,
      "outputs": []
    }
  ]
}