{
  "nbformat": 4,
  "nbformat_minor": 0,
  "metadata": {
    "colab": {
      "name": "Main.ipynb",
      "provenance": [],
      "collapsed_sections": [],
      "machine_shape": "hm",
      "include_colab_link": true
    },
    "kernelspec": {
      "name": "python3",
      "display_name": "Python 3"
    },
    "accelerator": "GPU"
  },
  "cells": [
    {
      "cell_type": "markdown",
      "metadata": {
        "id": "view-in-github",
        "colab_type": "text"
      },
      "source": [
        "<a href=\"https://colab.research.google.com/github/resquilleur/TestWorkNeowoxCC/blob/master/Main.ipynb\" target=\"_parent\"><img src=\"https://colab.research.google.com/assets/colab-badge.svg\" alt=\"Open In Colab\"/></a>"
      ]
    },
    {
      "cell_type": "markdown",
      "metadata": {
        "id": "fcl5H2E3jBAb"
      },
      "source": [
        "# Часть 1. Загрузка и обработка данных. Подготовка наборов к обучению."
      ]
    },
    {
      "cell_type": "markdown",
      "metadata": {
        "id": "4cbgwZWWfWpp"
      },
      "source": [
        "## Импорт библиотек"
      ]
    },
    {
      "cell_type": "code",
      "metadata": {
        "id": "ZurfXRpVk0yB"
      },
      "source": [
        "%cd TestWorkNeowoxCC"
      ],
      "execution_count": null,
      "outputs": []
    },
    {
      "cell_type": "code",
      "metadata": {
        "id": "ta-PXpGli7rl"
      },
      "source": [
        "# !pip install pymorphy2"
      ],
      "execution_count": null,
      "outputs": []
    },
    {
      "cell_type": "code",
      "metadata": {
        "id": "aQPO1M7LjRcG"
      },
      "source": [
        "import pandas as pd\n",
        "import numpy as np\n",
        "import pymorphy2\n",
        "import pickle\n",
        "\n",
        "from sklearn.preprocessing import OneHotEncoder\n",
        "from sklearn.model_selection import train_test_split\n",
        "\n",
        "from tensorflow.keras.preprocessing.text import Tokenizer\n",
        "from tensorflow.keras.preprocessing.sequence import pad_sequences"
      ],
      "execution_count": null,
      "outputs": []
    },
    {
      "cell_type": "markdown",
      "metadata": {
        "id": "VB0IdG8ijaO2"
      },
      "source": [
        "## Загрузка и обработка наборов данных"
      ]
    },
    {
      "cell_type": "code",
      "metadata": {
        "id": "xa_3eZ7DjbLX"
      },
      "source": [
        "# загрузим набор данных\n",
        "data_train = pd.read_csv('data/for_test_train.csv').drop(columns=['Unnamed: 0'])\n",
        "# посмотрим кол-во экземпляров по классам\n",
        "data_train.groupby('label').count()"
      ],
      "execution_count": null,
      "outputs": []
    },
    {
      "cell_type": "code",
      "metadata": {
        "id": "TPt4QleAjbOn"
      },
      "source": [
        "# видим, что у нас есть всего один экземпляр класса tag_no_now, по смыслу подходит к тегу tag_not_now\n",
        "# я решил объеденить эти классы\n",
        "data_train[data_train['label'] == 'tag_no_now']"
      ],
      "execution_count": null,
      "outputs": []
    },
    {
      "cell_type": "code",
      "metadata": {
        "id": "fVimyT4xjbRt"
      },
      "source": [
        "# получим индекс нужного тега и переименуем его в правильный тег\n",
        "idx = (data_train['label'] == 'tag_no_now')\n",
        "data_train.loc[idx, 'label'] = 'tag_not_now'\n",
        "data_train.groupby('label').count()"
      ],
      "execution_count": null,
      "outputs": []
    },
    {
      "cell_type": "code",
      "metadata": {
        "id": "hcugvT6gjbUa"
      },
      "source": [
        "# загрузим проверочный набор данных\n",
        "data_valid = pd.read_csv('data/for_test_valid.csv', sep=';') # обязательно использовать такой разделитель, иначе не загрузится.\n",
        "data_valid # проверочный набор"
      ],
      "execution_count": null,
      "outputs": []
    },
    {
      "cell_type": "markdown",
      "metadata": {
        "id": "61dVYva1jpWM"
      },
      "source": [
        "## Аугментация данных"
      ]
    },
    {
      "cell_type": "code",
      "metadata": {
        "id": "g2JKVO_EjbXk"
      },
      "source": [
        "# видим дисбаланс классов и в целом датасет небольшой, сделаем аугментацию для повышения качество распознования классов\n",
        "aug_data_train = pd.DataFrame() # создадим пустой датафрейм\n",
        "labels = data_train['label'].unique() # список уникальных меток классов\n",
        "\n",
        "# сделаем так, чтобы обязательно попали все примеры, и добавим сгенерированные бутстрапом, так чтобы в сумме оказалось 200 шт каждого класса\n",
        "for label in labels:\n",
        "    n_samples = 0\n",
        "    aug_data_train = pd.concat([aug_data_train, data_train[data_train['label'] == label]], ignore_index=True)\n",
        "    if label not in ['tag_yes', 'tag_no']:\n",
        "        n_samples = 200 - data_train[data_train['label'] == label].count()[0]\n",
        "    aug_data_train = pd.concat([aug_data_train, data_train[data_train['label'] == label].sample(n=n_samples, replace=True, random_state=42)], ignore_index=True)\n",
        "\n",
        "aug_data_train"
      ],
      "execution_count": null,
      "outputs": []
    },
    {
      "cell_type": "markdown",
      "metadata": {
        "id": "sIkUJMBRjvjB"
      },
      "source": [
        "## Формируем наборы"
      ]
    },
    {
      "cell_type": "code",
      "metadata": {
        "id": "dHZWdm4vjwXW"
      },
      "source": [
        "# неагментированные данные\n",
        "x_train_not_aug = data_train['message'].values\n",
        "y_train_not_aug = data_train['label'].values\n",
        "\n",
        "# формируем x_valid\n",
        "x_valid = data_valid['message'].values\n",
        "\n",
        "# формируем x_train, y_train\n",
        "x_train = aug_data_train['message'].values\n",
        "y_train = aug_data_train['label'].values\n",
        "\n",
        "# сделаем one_hot_encoding для набора классов\n",
        "ohe_ytrain = OneHotEncoder()\n",
        "y_train = ohe_ytrain.fit_transform(y_train.reshape(-1,1)).toarray() # аугментированный набор\n",
        "y_train[0]"
      ],
      "execution_count": null,
      "outputs": []
    },
    {
      "cell_type": "code",
      "metadata": {
        "id": "rVM34Rrnjwf8"
      },
      "source": [
        "# функция приведения к нормальной форме слова\n",
        "def data_normalized(x_data):\n",
        "    x_data_normal = []\n",
        "    for frase in x_data:\n",
        "        new_frase = ''\n",
        "        words = frase.split()\n",
        "        for word in words:\n",
        "            word = word.replace('!', '').replace(',', '').replace('?', '')\n",
        "            new_frase += f' {ma.normal_forms(word)[0]}'\n",
        "        x_data_normal.append(new_frase)\n",
        "    return np.array(x_data_normal)"
      ],
      "execution_count": null,
      "outputs": []
    },
    {
      "cell_type": "code",
      "metadata": {
        "id": "UcVMNMjejwkD"
      },
      "source": [
        "# создаем анализатор слов\n",
        "ma = pymorphy2.MorphAnalyzer()\n",
        "\n",
        "# далее у нас будет два варианта набора данных с нормой и без\n",
        "x_valid_norm = data_normalized(x_valid)\n",
        "x_train_norm = data_normalized(x_train)"
      ],
      "execution_count": null,
      "outputs": []
    },
    {
      "cell_type": "code",
      "metadata": {
        "id": "Ttu6LD5MjwoI"
      },
      "source": [
        "# токенизируем слова без нормирования\n",
        "tokenizer = Tokenizer()\n",
        "tokenizer.fit_on_texts(np.concatenate((x_train, x_valid), axis=0)) # обучим на всех словах, что у нас есть\n",
        "\n",
        "tokenizer_norm = Tokenizer()\n",
        "tokenizer_norm.fit_on_texts(np.concatenate((x_train_norm, x_valid_norm), axis=0)) # обучим на всех словах, что у нас есть\n",
        "\n",
        "# запоним длину словарей + 1 (так как еще 0-ой индекс добавим)\n",
        "vocabulary_len = len(tokenizer.word_index)+1\n",
        "vocabulary_norm_len = len(tokenizer_norm.word_index)+1"
      ],
      "execution_count": null,
      "outputs": []
    },
    {
      "cell_type": "code",
      "metadata": {
        "id": "UThnOtm8jwr9"
      },
      "source": [
        "# индексы в последовательность, дополним нулями перед последовательностью\n",
        "x_train_seq = tokenizer.texts_to_sequences(x_train)\n",
        "x_train_pad_seq = pad_sequences(x_train_seq, padding='pre')\n",
        "\n",
        "x_train_seq_norm = tokenizer_norm.texts_to_sequences(x_train_norm)\n",
        "x_train_pad_seq_norm = pad_sequences(x_train_seq_norm, padding='pre')\n",
        "\n",
        "x_valid_seq = tokenizer.texts_to_sequences(x_valid)\n",
        "x_valid_pad_seq = pad_sequences(x_valid_seq, padding='pre')\n",
        "\n",
        "x_valid_seq_norm = tokenizer_norm.texts_to_sequences(x_valid_norm)\n",
        "x_valid_pad_seq_norm = pad_sequences(x_valid_seq_norm, padding='pre')"
      ],
      "execution_count": null,
      "outputs": []
    },
    {
      "cell_type": "code",
      "metadata": {
        "id": "s6XnYUeFjwvg"
      },
      "source": [
        "# посмотрим что получилось\n",
        "print(x_train_pad_seq[0])\n",
        "print(x_train[0])\n",
        "\n",
        "print(x_train_pad_seq_norm[0])\n",
        "print(x_train_norm[0])"
      ],
      "execution_count": null,
      "outputs": []
    },
    {
      "cell_type": "code",
      "metadata": {
        "id": "y51GGzAdjwyy"
      },
      "source": [
        "# y_train общий сохраним для семплирования\n",
        "y_train_full = y_train.copy()\n",
        "\n",
        "# разобьем наборы на тестовый и тренировочный\n",
        "# stratify позволяет сохранить баланс классов\n",
        "x_train, x_test, y_train, y_test = train_test_split(x_train_pad_seq, y_train_full, test_size=0.2, stratify=y_train_full) \n",
        "x_train_norm, x_test_norm, y_train_norm, y_test_norm = train_test_split(x_train_pad_seq_norm, y_train_full, test_size=0.2, stratify=y_train_full)"
      ],
      "execution_count": null,
      "outputs": []
    },
    {
      "cell_type": "markdown",
      "metadata": {
        "id": "ktmFo0Q4kj4e"
      },
      "source": [
        "# Часть 2. Обучение нейросетей"
      ]
    },
    {
      "cell_type": "markdown",
      "metadata": {
        "id": "W2OjtaYSlCG7"
      },
      "source": [
        "## Импорт библиотек"
      ]
    },
    {
      "cell_type": "code",
      "metadata": {
        "id": "tAb77yZ9fzMG"
      },
      "source": [
        "from TestWorkNeowoxCC.model_pack.model import *\n",
        "\n",
        "import pandas as pd\n",
        "import numpy as np\n",
        "\n",
        "from tensorflow.keras.callbacks import ModelCheckpoint"
      ],
      "execution_count": null,
      "outputs": []
    },
    {
      "cell_type": "markdown",
      "metadata": {
        "id": "-eY-9QT7WRUw"
      },
      "source": [
        "## Создание сети"
      ]
    },
    {
      "cell_type": "code",
      "metadata": {
        "id": "RPTy_dxg_pA1"
      },
      "source": [
        "# используем фабрику для разных архитектур\n",
        "\n",
        "fabric = ModelFabric()\n",
        "model_lstm = fabric.create_model(name='lstm')\n",
        "model_conv = fabric.create_model(name='conv')"
      ],
      "execution_count": null,
      "outputs": []
    },
    {
      "cell_type": "markdown",
      "metadata": {
        "id": "VPTjKBQ7gxNE"
      },
      "source": [
        "## Обучение на аугментированных данных"
      ]
    },
    {
      "cell_type": "markdown",
      "metadata": {
        "id": "U0n4dPc8mF3H"
      },
      "source": [
        "Список параметров включает:\n",
        "\n",
        "* params[0] - название сети\n",
        "* params[1] - длина словаря (вход embedding)\n",
        "* params[2] - num classes\n",
        "* params[3] - emb size coef\n",
        "* params[4] - dropout\n",
        "* params[5] - layers filters size\n",
        "* params[6] - Adam learning_rate\n",
        "* params[7] - Adam decay\n",
        "* params[8] - размер batch_size\n",
        "* params[9] - кол-во эпох\n"
      ]
    },
    {
      "cell_type": "code",
      "metadata": {
        "id": "rPauhENMS9EJ"
      },
      "source": [
        "# выберем два набора параметров (лучше всего показали себя на тестах) - тут можно реализовать генетику\n",
        "models_params_list = [['lstm64', vocabulary_len, y_train.shape[1], 1, 7, 6, 1e-3, 1e-6, 16, 30],\n",
        "                      ['lstm128', vocabulary_len, y_train.shape[1], 1, 7, 7, 1e-3, 1e-6, 32, 30]]"
      ],
      "execution_count": null,
      "outputs": []
    },
    {
      "cell_type": "code",
      "metadata": {
        "id": "MxJOzrBYPx-t",
        "colab": {
          "base_uri": "https://localhost:8080/"
        },
        "outputId": "87110703-7e13-4a7f-846b-e407926b23d3"
      },
      "source": [
        "# обучение\n",
        "models = {} # тут будут лежать обученные модели\n",
        "historys = {} # тут будут лежать истрии обучения\n",
        "\n",
        "for params in models_params_list:\n",
        "    \n",
        "    # имя файла у каждой модели свое, сохраним лучшие веса\n",
        "    model_checkpoint_callback = ModelCheckpoint(\n",
        "        filepath=f'data/best_weights_{params[0]}.h5',\n",
        "        save_weights_only=True,\n",
        "        monitor='val_loss',\n",
        "        mode='min',\n",
        "        save_best_only=True)\n",
        "\n",
        "    # генерим нужную архитектуру\n",
        "    model = model_lstm.make_architecture(params[1:6])\n",
        "\n",
        "    # компилируем модель\n",
        "    model.compile(optimizer=Adam(learning_rate=params[6], decay=params[7]), loss='categorical_crossentropy', metrics=['accuracy'])\n",
        "\n",
        "    # обучаем verbose=0\n",
        "    history = model.fit(\n",
        "        x_train,\n",
        "        y_train,\n",
        "        batch_size=params[8],\n",
        "        epochs=params[9],\n",
        "        validation_data=(x_test, y_test),\n",
        "        callbacks=model_checkpoint_callback,\n",
        "        verbose=0\n",
        "        )\n",
        "    \n",
        "    models[params[0]] = model\n",
        "    historys[params[0]] = history"
      ],
      "execution_count": null,
      "outputs": [
        {
          "output_type": "stream",
          "text": [
            "Epoch 1/30\n",
            "56/56 [==============================] - 5s 24ms/step - loss: 1.8324 - accuracy: 0.1943 - val_loss: 1.7649 - val_accuracy: 0.2332\n",
            "Epoch 2/30\n",
            "56/56 [==============================] - 1s 15ms/step - loss: 1.7132 - accuracy: 0.2810 - val_loss: 1.7277 - val_accuracy: 0.3274\n",
            "Epoch 3/30\n",
            "56/56 [==============================] - 1s 18ms/step - loss: 1.6002 - accuracy: 0.3707 - val_loss: 1.6727 - val_accuracy: 0.3184\n",
            "Epoch 4/30\n",
            "56/56 [==============================] - 1s 17ms/step - loss: 1.4777 - accuracy: 0.4605 - val_loss: 1.6147 - val_accuracy: 0.3049\n",
            "Epoch 5/30\n",
            "56/56 [==============================] - 1s 17ms/step - loss: 1.2897 - accuracy: 0.5215 - val_loss: 1.5622 - val_accuracy: 0.3632\n",
            "Epoch 6/30\n",
            "56/56 [==============================] - 1s 17ms/step - loss: 1.1743 - accuracy: 0.5771 - val_loss: 1.4657 - val_accuracy: 0.3991\n",
            "Epoch 7/30\n",
            "56/56 [==============================] - 1s 17ms/step - loss: 0.9918 - accuracy: 0.6571 - val_loss: 1.2301 - val_accuracy: 0.5157\n",
            "Epoch 8/30\n",
            "56/56 [==============================] - 1s 16ms/step - loss: 0.9038 - accuracy: 0.6861 - val_loss: 0.8380 - val_accuracy: 0.6816\n",
            "Epoch 9/30\n",
            "56/56 [==============================] - 1s 16ms/step - loss: 0.7873 - accuracy: 0.7154 - val_loss: 0.6354 - val_accuracy: 0.7623\n",
            "Epoch 10/30\n",
            "56/56 [==============================] - 1s 16ms/step - loss: 0.6809 - accuracy: 0.7556 - val_loss: 0.4884 - val_accuracy: 0.8117\n",
            "Epoch 11/30\n",
            "56/56 [==============================] - 1s 17ms/step - loss: 0.6144 - accuracy: 0.7734 - val_loss: 0.4599 - val_accuracy: 0.8072\n",
            "Epoch 12/30\n",
            "56/56 [==============================] - 1s 17ms/step - loss: 0.5460 - accuracy: 0.8179 - val_loss: 0.4033 - val_accuracy: 0.8520\n",
            "Epoch 13/30\n",
            "56/56 [==============================] - 1s 18ms/step - loss: 0.5070 - accuracy: 0.8276 - val_loss: 0.3802 - val_accuracy: 0.8744\n",
            "Epoch 14/30\n",
            "56/56 [==============================] - 1s 15ms/step - loss: 0.4747 - accuracy: 0.8374 - val_loss: 0.3741 - val_accuracy: 0.8789\n",
            "Epoch 15/30\n",
            "56/56 [==============================] - 1s 15ms/step - loss: 0.4253 - accuracy: 0.8710 - val_loss: 0.3746 - val_accuracy: 0.8789\n",
            "Epoch 16/30\n",
            "56/56 [==============================] - 1s 19ms/step - loss: 0.4314 - accuracy: 0.8519 - val_loss: 0.3787 - val_accuracy: 0.8789\n",
            "Epoch 17/30\n",
            "56/56 [==============================] - 1s 16ms/step - loss: 0.3490 - accuracy: 0.8772 - val_loss: 0.3705 - val_accuracy: 0.8789\n",
            "Epoch 18/30\n",
            "56/56 [==============================] - 1s 16ms/step - loss: 0.3284 - accuracy: 0.8982 - val_loss: 0.3864 - val_accuracy: 0.8789\n",
            "Epoch 19/30\n",
            "56/56 [==============================] - 1s 17ms/step - loss: 0.2638 - accuracy: 0.9137 - val_loss: 0.3734 - val_accuracy: 0.8834\n",
            "Epoch 20/30\n",
            "56/56 [==============================] - 1s 16ms/step - loss: 0.2662 - accuracy: 0.8989 - val_loss: 0.3613 - val_accuracy: 0.8879\n",
            "Epoch 21/30\n",
            "56/56 [==============================] - 1s 16ms/step - loss: 0.2423 - accuracy: 0.9354 - val_loss: 0.3814 - val_accuracy: 0.8879\n",
            "Epoch 22/30\n",
            "56/56 [==============================] - 1s 16ms/step - loss: 0.2228 - accuracy: 0.9353 - val_loss: 0.4108 - val_accuracy: 0.8879\n",
            "Epoch 23/30\n",
            "56/56 [==============================] - 1s 15ms/step - loss: 0.2230 - accuracy: 0.9274 - val_loss: 0.3878 - val_accuracy: 0.8789\n",
            "Epoch 24/30\n",
            "56/56 [==============================] - 1s 16ms/step - loss: 0.2711 - accuracy: 0.9168 - val_loss: 0.3984 - val_accuracy: 0.8924\n",
            "Epoch 25/30\n",
            "56/56 [==============================] - 1s 16ms/step - loss: 0.1947 - accuracy: 0.9356 - val_loss: 0.4067 - val_accuracy: 0.8879\n",
            "Epoch 26/30\n",
            "56/56 [==============================] - 1s 17ms/step - loss: 0.1829 - accuracy: 0.9478 - val_loss: 0.4038 - val_accuracy: 0.8969\n",
            "Epoch 27/30\n",
            "56/56 [==============================] - 1s 16ms/step - loss: 0.1971 - accuracy: 0.9372 - val_loss: 0.3951 - val_accuracy: 0.9013\n",
            "Epoch 28/30\n",
            "56/56 [==============================] - 1s 17ms/step - loss: 0.1920 - accuracy: 0.9412 - val_loss: 0.4022 - val_accuracy: 0.8879\n",
            "Epoch 29/30\n",
            "56/56 [==============================] - 1s 17ms/step - loss: 0.1696 - accuracy: 0.9365 - val_loss: 0.4002 - val_accuracy: 0.8879\n",
            "Epoch 30/30\n",
            "56/56 [==============================] - 1s 15ms/step - loss: 0.1414 - accuracy: 0.9514 - val_loss: 0.4210 - val_accuracy: 0.9013\n",
            "Epoch 1/30\n",
            "28/28 [==============================] - 5s 44ms/step - loss: 1.8321 - accuracy: 0.1845 - val_loss: 1.7691 - val_accuracy: 0.2377\n",
            "Epoch 2/30\n",
            "28/28 [==============================] - 1s 25ms/step - loss: 1.6660 - accuracy: 0.3413 - val_loss: 1.7477 - val_accuracy: 0.2287\n",
            "Epoch 3/30\n",
            "28/28 [==============================] - 1s 24ms/step - loss: 1.5930 - accuracy: 0.3796 - val_loss: 1.7573 - val_accuracy: 0.1704\n",
            "Epoch 4/30\n",
            "28/28 [==============================] - 1s 24ms/step - loss: 1.4319 - accuracy: 0.4617 - val_loss: 1.7924 - val_accuracy: 0.1704\n",
            "Epoch 5/30\n",
            "28/28 [==============================] - 1s 24ms/step - loss: 1.2953 - accuracy: 0.5140 - val_loss: 1.7907 - val_accuracy: 0.1794\n",
            "Epoch 6/30\n",
            "28/28 [==============================] - 1s 25ms/step - loss: 1.1362 - accuracy: 0.5943 - val_loss: 1.8324 - val_accuracy: 0.1749\n",
            "Epoch 7/30\n",
            "28/28 [==============================] - 1s 24ms/step - loss: 0.9460 - accuracy: 0.6846 - val_loss: 1.7719 - val_accuracy: 0.2422\n",
            "Epoch 8/30\n",
            "28/28 [==============================] - 1s 24ms/step - loss: 0.8612 - accuracy: 0.7085 - val_loss: 1.6940 - val_accuracy: 0.2960\n",
            "Epoch 9/30\n",
            "28/28 [==============================] - 1s 25ms/step - loss: 0.7503 - accuracy: 0.7297 - val_loss: 1.6632 - val_accuracy: 0.3632\n",
            "Epoch 10/30\n",
            "28/28 [==============================] - 1s 26ms/step - loss: 0.6691 - accuracy: 0.7665 - val_loss: 1.4674 - val_accuracy: 0.4170\n",
            "Epoch 11/30\n",
            "28/28 [==============================] - 1s 24ms/step - loss: 0.5810 - accuracy: 0.7816 - val_loss: 1.1648 - val_accuracy: 0.5874\n",
            "Epoch 12/30\n",
            "28/28 [==============================] - 1s 25ms/step - loss: 0.5484 - accuracy: 0.8305 - val_loss: 1.0097 - val_accuracy: 0.5830\n",
            "Epoch 13/30\n",
            "28/28 [==============================] - 1s 26ms/step - loss: 0.4322 - accuracy: 0.8598 - val_loss: 0.8778 - val_accuracy: 0.7175\n",
            "Epoch 14/30\n",
            "28/28 [==============================] - 1s 25ms/step - loss: 0.3719 - accuracy: 0.8866 - val_loss: 0.6157 - val_accuracy: 0.8027\n",
            "Epoch 15/30\n",
            "28/28 [==============================] - 1s 24ms/step - loss: 0.3709 - accuracy: 0.8728 - val_loss: 0.5309 - val_accuracy: 0.7937\n",
            "Epoch 16/30\n",
            "28/28 [==============================] - 1s 25ms/step - loss: 0.3407 - accuracy: 0.8946 - val_loss: 0.4043 - val_accuracy: 0.8430\n",
            "Epoch 17/30\n",
            "28/28 [==============================] - 1s 24ms/step - loss: 0.3260 - accuracy: 0.8876 - val_loss: 0.3238 - val_accuracy: 0.8879\n",
            "Epoch 18/30\n",
            "28/28 [==============================] - 1s 26ms/step - loss: 0.2704 - accuracy: 0.9032 - val_loss: 0.3338 - val_accuracy: 0.8744\n",
            "Epoch 19/30\n",
            "28/28 [==============================] - 1s 25ms/step - loss: 0.2650 - accuracy: 0.9090 - val_loss: 0.2962 - val_accuracy: 0.9103\n",
            "Epoch 20/30\n",
            "28/28 [==============================] - 1s 25ms/step - loss: 0.2077 - accuracy: 0.9416 - val_loss: 0.3130 - val_accuracy: 0.9103\n",
            "Epoch 21/30\n",
            "28/28 [==============================] - 1s 23ms/step - loss: 0.1853 - accuracy: 0.9457 - val_loss: 0.3213 - val_accuracy: 0.9148\n",
            "Epoch 22/30\n",
            "28/28 [==============================] - 1s 25ms/step - loss: 0.1790 - accuracy: 0.9459 - val_loss: 0.3161 - val_accuracy: 0.9148\n",
            "Epoch 23/30\n",
            "28/28 [==============================] - 1s 25ms/step - loss: 0.1832 - accuracy: 0.9379 - val_loss: 0.3679 - val_accuracy: 0.8924\n",
            "Epoch 24/30\n",
            "28/28 [==============================] - 1s 26ms/step - loss: 0.1679 - accuracy: 0.9438 - val_loss: 0.3519 - val_accuracy: 0.9013\n",
            "Epoch 25/30\n",
            "28/28 [==============================] - 1s 24ms/step - loss: 0.1758 - accuracy: 0.9322 - val_loss: 0.3491 - val_accuracy: 0.9103\n",
            "Epoch 26/30\n",
            "28/28 [==============================] - 1s 24ms/step - loss: 0.1305 - accuracy: 0.9617 - val_loss: 0.3643 - val_accuracy: 0.9103\n",
            "Epoch 27/30\n",
            "28/28 [==============================] - 1s 24ms/step - loss: 0.1412 - accuracy: 0.9583 - val_loss: 0.3838 - val_accuracy: 0.9013\n",
            "Epoch 28/30\n",
            "28/28 [==============================] - 1s 25ms/step - loss: 0.1452 - accuracy: 0.9593 - val_loss: 0.3999 - val_accuracy: 0.9013\n",
            "Epoch 29/30\n",
            "28/28 [==============================] - 1s 24ms/step - loss: 0.1316 - accuracy: 0.9659 - val_loss: 0.4116 - val_accuracy: 0.9013\n",
            "Epoch 30/30\n",
            "28/28 [==============================] - 1s 24ms/step - loss: 0.0958 - accuracy: 0.9762 - val_loss: 0.3869 - val_accuracy: 0.9103\n"
          ],
          "name": "stdout"
        }
      ]
    },
    {
      "cell_type": "code",
      "metadata": {
        "colab": {
          "base_uri": "https://localhost:8080/",
          "height": 296
        },
        "id": "fNLXAHunfPk2",
        "outputId": "6ad8bcdd-733d-4529-b3c5-f995f9ec540b"
      },
      "source": [
        "  import matplotlib.pyplot as plt\n",
        "  print('Накопительный график loss по эпохам')\n",
        "  plt.plot(history.history['loss'], \n",
        "          label='loss на обучающем наборе')\n",
        "  plt.plot(history.history['val_loss'], \n",
        "          label='loss на проверочном наборе')\n",
        "  plt.xlabel('Эпоха обучения')\n",
        "  plt.ylabel('loss')\n",
        "  plt.legend()\n",
        "  plt.show()"
      ],
      "execution_count": null,
      "outputs": [
        {
          "output_type": "stream",
          "text": [
            "Накопительный график loss по эпохам\n"
          ],
          "name": "stdout"
        },
        {
          "output_type": "display_data",
          "data": {
            "image/png": "[encoded data removed]",
            "text/plain": [
              "<Figure size 432x288 with 1 Axes>"
            ]
          },
          "metadata": {
            "tags": [],
            "needs_background": "light"
          }
        }
      ]
    },
    {
      "cell_type": "markdown",
      "metadata": {
        "id": "S-ZD0okcXmCr"
      },
      "source": [
        "## Вывод результатов"
      ]
    },
    {
      "cell_type": "code",
      "metadata": {
        "id": "EIpTNL-6daXk"
      },
      "source": [
        "# загрузим лучшие веса\n",
        "models['lstm128'].load_weights('data/best_weightslstm128.h5')"
      ],
      "execution_count": null,
      "outputs": []
    },
    {
      "cell_type": "code",
      "metadata": {
        "id": "gPgvgm2Ihsut"
      },
      "source": [
        "model2 = models['lstm128']"
      ],
      "execution_count": null,
      "outputs": []
    },
    {
      "cell_type": "code",
      "metadata": {
        "id": "H3I0tePQXlIR"
      },
      "source": [
        "# функция вывода результатов получает на вход модель x_test, y_test\n",
        "def getResults(model, x_test, y_test):\n",
        "    pred = model.predict(x_test) # получаем предсказание модели\n",
        "    pred = np.argmax(pred, axis=1) # получаем метку класса с максимальным значением\n",
        "    result = np.zeros((y_test.shape[1], 2)) # сделаем пустой numpy массив для записи результатов\n",
        "\n",
        "    # проходимся по всей длине предсказаний\n",
        "    for i in range(pred.shape[0]):\n",
        "        # получаем индекс элемента, где у нас 1\n",
        "        y_true_class_indx = list(y_test[i]).index(max(list(y_test[i])))\n",
        "        if pred[i] == y_true_class_indx: # если предсказание верно, то увеличиваем счетчик в первом столбце, в строке номера индекса\n",
        "            result[y_true_class_indx, 0] += 1\n",
        "        else: # если не верно, то увеличиваем счетчик второго столбца\n",
        "            result[y_true_class_indx, 1] += 1\n",
        "    \n",
        "    # готовим датафрейм с результатами\n",
        "    result_test_df = pd.DataFrame(result, columns=['true', 'false'])\n",
        "    result_test_df['percent_true'] = result_test_df['true'] / (result_test_df['true'] + result_test_df['false']) * 100 # считаем процент правильных предсказаний\n",
        "    result_test_df['tag_name'] = [x[3:] for x in ohe_ytrain.get_feature_names()]\n",
        "    result_mean = result_test_df['percent_true'].mean()\n",
        "    print(f'Средний процент правильных предсказаний по всем классам составил: {result_mean}')\n",
        "    print(result_test_df)"
      ],
      "execution_count": null,
      "outputs": []
    },
    {
      "cell_type": "code",
      "metadata": {
        "colab": {
          "base_uri": "https://localhost:8080/",
          "height": 296
        },
        "id": "bamxqBu1UYvB",
        "outputId": "ef17e68c-e87b-4478-d01d-4326cde03340"
      },
      "source": [
        "# результат на изначальном наборе (с 6 классами)\n",
        "getResults(model2, x_train, y_train)"
      ],
      "execution_count": null,
      "outputs": [
        {
          "output_type": "error",
          "ename": "NameError",
          "evalue": "ignored",
          "traceback": [
            "\u001b[0;31m---------------------------------------------------------------------------\u001b[0m",
            "\u001b[0;31mNameError\u001b[0m                                 Traceback (most recent call last)",
            "\u001b[0;32m<ipython-input-56-a569b8ddb447>\u001b[0m in \u001b[0;36m<module>\u001b[0;34m()\u001b[0m\n\u001b[1;32m      1\u001b[0m \u001b[0;31m# результат на изначальном наборе (с 6 классами)\u001b[0m\u001b[0;34m\u001b[0m\u001b[0;34m\u001b[0m\u001b[0;34m\u001b[0m\u001b[0m\n\u001b[0;32m----> 2\u001b[0;31m \u001b[0mgetResults\u001b[0m\u001b[0;34m(\u001b[0m\u001b[0mmodel2\u001b[0m\u001b[0;34m,\u001b[0m \u001b[0mx_train\u001b[0m\u001b[0;34m,\u001b[0m \u001b[0my_train\u001b[0m\u001b[0;34m)\u001b[0m\u001b[0;34m\u001b[0m\u001b[0;34m\u001b[0m\u001b[0m\n\u001b[0m",
            "\u001b[0;32m<ipython-input-50-eb344fc6c0ce>\u001b[0m in \u001b[0;36mgetResults\u001b[0;34m(model, x_test, y_test)\u001b[0m\n\u001b[1;32m     17\u001b[0m     \u001b[0mresult_test_df\u001b[0m \u001b[0;34m=\u001b[0m \u001b[0mpd\u001b[0m\u001b[0;34m.\u001b[0m\u001b[0mDataFrame\u001b[0m\u001b[0;34m(\u001b[0m\u001b[0mresult\u001b[0m\u001b[0;34m,\u001b[0m \u001b[0mcolumns\u001b[0m\u001b[0;34m=\u001b[0m\u001b[0;34m[\u001b[0m\u001b[0;34m'true'\u001b[0m\u001b[0;34m,\u001b[0m \u001b[0;34m'false'\u001b[0m\u001b[0;34m]\u001b[0m\u001b[0;34m)\u001b[0m\u001b[0;34m\u001b[0m\u001b[0;34m\u001b[0m\u001b[0m\n\u001b[1;32m     18\u001b[0m     \u001b[0mresult_test_df\u001b[0m\u001b[0;34m[\u001b[0m\u001b[0;34m'percent_true'\u001b[0m\u001b[0;34m]\u001b[0m \u001b[0;34m=\u001b[0m \u001b[0mresult_test_df\u001b[0m\u001b[0;34m[\u001b[0m\u001b[0;34m'true'\u001b[0m\u001b[0;34m]\u001b[0m \u001b[0;34m/\u001b[0m \u001b[0;34m(\u001b[0m\u001b[0mresult_test_df\u001b[0m\u001b[0;34m[\u001b[0m\u001b[0;34m'true'\u001b[0m\u001b[0;34m]\u001b[0m \u001b[0;34m+\u001b[0m \u001b[0mresult_test_df\u001b[0m\u001b[0;34m[\u001b[0m\u001b[0;34m'false'\u001b[0m\u001b[0;34m]\u001b[0m\u001b[0;34m)\u001b[0m \u001b[0;34m*\u001b[0m \u001b[0;36m100\u001b[0m \u001b[0;31m# считаем процент правильных предсказаний\u001b[0m\u001b[0;34m\u001b[0m\u001b[0;34m\u001b[0m\u001b[0m\n\u001b[0;32m---> 19\u001b[0;31m     \u001b[0mresult_test_df\u001b[0m\u001b[0;34m[\u001b[0m\u001b[0;34m'tag_name'\u001b[0m\u001b[0;34m]\u001b[0m \u001b[0;34m=\u001b[0m \u001b[0;34m[\u001b[0m\u001b[0mx\u001b[0m\u001b[0;34m[\u001b[0m\u001b[0;36m3\u001b[0m\u001b[0;34m:\u001b[0m\u001b[0;34m]\u001b[0m \u001b[0;32mfor\u001b[0m \u001b[0mx\u001b[0m \u001b[0;32min\u001b[0m \u001b[0mohe_ytrain\u001b[0m\u001b[0;34m.\u001b[0m\u001b[0mget_feature_names\u001b[0m\u001b[0;34m(\u001b[0m\u001b[0;34m)\u001b[0m\u001b[0;34m]\u001b[0m\u001b[0;34m\u001b[0m\u001b[0;34m\u001b[0m\u001b[0m\n\u001b[0m\u001b[1;32m     20\u001b[0m     \u001b[0mresult_mean\u001b[0m \u001b[0;34m=\u001b[0m \u001b[0mresult_test_df\u001b[0m\u001b[0;34m[\u001b[0m\u001b[0;34m'percent_true'\u001b[0m\u001b[0;34m]\u001b[0m\u001b[0;34m.\u001b[0m\u001b[0mmean\u001b[0m\u001b[0;34m(\u001b[0m\u001b[0;34m)\u001b[0m\u001b[0;34m\u001b[0m\u001b[0;34m\u001b[0m\u001b[0m\n\u001b[1;32m     21\u001b[0m     \u001b[0mprint\u001b[0m\u001b[0;34m(\u001b[0m\u001b[0;34mf'Средний процент правильных предсказаний по всем классам составил: {result_mean}'\u001b[0m\u001b[0;34m)\u001b[0m\u001b[0;34m\u001b[0m\u001b[0;34m\u001b[0m\u001b[0m\n",
            "\u001b[0;31mNameError\u001b[0m: name 'ohe_ytrain' is not defined"
          ]
        }
      ]
    },
    {
      "cell_type": "markdown",
      "metadata": {
        "id": "p0j_1SdabPjp"
      },
      "source": [
        "## Формируем табличку с предсказанием классов для проверочного набора"
      ]
    },
    {
      "cell_type": "code",
      "metadata": {
        "colab": {
          "base_uri": "https://localhost:8080/",
          "height": 935
        },
        "id": "8W3VRtm339Hs",
        "outputId": "338262a9-0fdf-4170-d976-8763019ba8ef"
      },
      "source": [
        "x_valid_data = data_valid['message'].values\n",
        "\n",
        "# x_valid_normal = []\n",
        "\n",
        "# for frase in x_valid_data:\n",
        "#     new_frase = ''\n",
        "#     words = frase.split()\n",
        "#     for word in words:\n",
        "#         word = word.replace('!', '').replace(',', '').replace('?', '')\n",
        "#         new_frase += f' {ma.normal_forms(word)[0]}'\n",
        "#     x_valid_normal.append(new_frase)   \n",
        "\n",
        "x_valid = tokenizer.texts_to_sequences(x_valid_data)\n",
        "x_valid = pad_sequences(x_valid, padding='pre')\n",
        "valid_pred = model2.predict(x_valid)\n",
        "\n",
        "valid_df = pd.DataFrame()\n",
        "valid_df['massege'] = list(x_valid_data)\n",
        "valid_df['softmax'] = list(valid_pred.round(2))\n",
        "valid_df['class'] = list(np.argmax(valid_pred, axis=1))\n",
        "\n",
        "valid_df['class'] = np.array([x[3:] for x in ohe_ytrain.get_feature_names()])[valid_df['class']]\n",
        "valid_df"
      ],
      "execution_count": null,
      "outputs": [
        {
          "output_type": "execute_result",
          "data": {
            "text/html": [
              "<div>\n",
              "<style scoped>\n",
              "    .dataframe tbody tr th:only-of-type {\n",
              "        vertical-align: middle;\n",
              "    }\n",
              "\n",
              "    .dataframe tbody tr th {\n",
              "        vertical-align: top;\n",
              "    }\n",
              "\n",
              "    .dataframe thead th {\n",
              "        text-align: right;\n",
              "    }\n",
              "</style>\n",
              "<table border=\"1\" class=\"dataframe\">\n",
              "  <thead>\n",
              "    <tr style=\"text-align: right;\">\n",
              "      <th></th>\n",
              "      <th>massege</th>\n",
              "      <th>softmax</th>\n",
              "      <th>class</th>\n",
              "    </tr>\n",
              "  </thead>\n",
              "  <tbody>\n",
              "    <tr>\n",
              "      <th>0</th>\n",
              "      <td>зачем это надо</td>\n",
              "      <td>[0.0, 0.0, 0.0, 0.0, 0.36, 0.63]</td>\n",
              "      <td>tag_yes</td>\n",
              "    </tr>\n",
              "    <tr>\n",
              "      <th>1</th>\n",
              "      <td>ну</td>\n",
              "      <td>[0.0, 0.0, 0.0, 0.0, 0.0, 1.0]</td>\n",
              "      <td>tag_yes</td>\n",
              "    </tr>\n",
              "    <tr>\n",
              "      <th>2</th>\n",
              "      <td>какая организация?</td>\n",
              "      <td>[0.02, 0.33, 0.0, 0.26, 0.01, 0.38]</td>\n",
              "      <td>tag_yes</td>\n",
              "    </tr>\n",
              "    <tr>\n",
              "      <th>3</th>\n",
              "      <td>во имя чего?</td>\n",
              "      <td>[0.0, 0.0, 0.0, 0.0, 0.0, 1.0]</td>\n",
              "      <td>tag_yes</td>\n",
              "    </tr>\n",
              "    <tr>\n",
              "      <th>4</th>\n",
              "      <td>вы тут?</td>\n",
              "      <td>[0.01, 0.08, 0.0, 0.0, 0.0, 0.9]</td>\n",
              "      <td>tag_yes</td>\n",
              "    </tr>\n",
              "    <tr>\n",
              "      <th>5</th>\n",
              "      <td>да ну вас!</td>\n",
              "      <td>[0.01, 0.01, 0.0, 0.0, 0.0, 0.98]</td>\n",
              "      <td>tag_yes</td>\n",
              "    </tr>\n",
              "    <tr>\n",
              "      <th>6</th>\n",
              "      <td>приветствую, а что за организация?</td>\n",
              "      <td>[0.0, 0.03, 0.0, 0.95, 0.01, 0.01]</td>\n",
              "      <td>tag_what_company</td>\n",
              "    </tr>\n",
              "    <tr>\n",
              "      <th>7</th>\n",
              "      <td>да хорошо</td>\n",
              "      <td>[0.0, 0.0, 0.0, 0.0, 0.0, 1.0]</td>\n",
              "      <td>tag_yes</td>\n",
              "    </tr>\n",
              "    <tr>\n",
              "      <th>8</th>\n",
              "      <td>с какой радости?</td>\n",
              "      <td>[0.0, 0.0, 0.0, 0.0, 0.0, 1.0]</td>\n",
              "      <td>tag_yes</td>\n",
              "    </tr>\n",
              "    <tr>\n",
              "      <th>9</th>\n",
              "      <td>и что дальше?</td>\n",
              "      <td>[0.0, 0.03, 0.0, 0.0, 0.01, 0.96]</td>\n",
              "      <td>tag_yes</td>\n",
              "    </tr>\n",
              "    <tr>\n",
              "      <th>10</th>\n",
              "      <td>скажите вторично</td>\n",
              "      <td>[0.0, 0.03, 0.0, 0.0, 0.96, 0.01]</td>\n",
              "      <td>tag_who_is</td>\n",
              "    </tr>\n",
              "    <tr>\n",
              "      <th>11</th>\n",
              "      <td>вне всяких сомнений</td>\n",
              "      <td>[0.0, 0.0, 0.0, 0.0, 0.0, 1.0]</td>\n",
              "      <td>tag_yes</td>\n",
              "    </tr>\n",
              "    <tr>\n",
              "      <th>12</th>\n",
              "      <td>не понял</td>\n",
              "      <td>[0.0, 0.0, 0.0, 0.0, 1.0, 0.0]</td>\n",
              "      <td>tag_who_is</td>\n",
              "    </tr>\n",
              "    <tr>\n",
              "      <th>13</th>\n",
              "      <td>да нет наверное</td>\n",
              "      <td>[0.0, 0.87, 0.0, 0.0, 0.0, 0.12]</td>\n",
              "      <td>tag_no</td>\n",
              "    </tr>\n",
              "    <tr>\n",
              "      <th>14</th>\n",
              "      <td>алло, я больше не хочу получать звонки от вас!</td>\n",
              "      <td>[0.89, 0.08, 0.0, 0.01, 0.02, 0.0]</td>\n",
              "      <td>tag_do_not_call</td>\n",
              "    </tr>\n",
              "    <tr>\n",
              "      <th>15</th>\n",
              "      <td>сыт по горло</td>\n",
              "      <td>[0.15, 0.04, 0.0, 0.0, 0.0, 0.81]</td>\n",
              "      <td>tag_yes</td>\n",
              "    </tr>\n",
              "    <tr>\n",
              "      <th>16</th>\n",
              "      <td>скорее всего</td>\n",
              "      <td>[0.04, 0.76, 0.0, 0.0, 0.0, 0.2]</td>\n",
              "      <td>tag_no</td>\n",
              "    </tr>\n",
              "    <tr>\n",
              "      <th>17</th>\n",
              "      <td>не, не годится</td>\n",
              "      <td>[0.21, 0.78, 0.01, 0.0, 0.0, 0.0]</td>\n",
              "      <td>tag_no</td>\n",
              "    </tr>\n",
              "    <tr>\n",
              "      <th>18</th>\n",
              "      <td>а какая цель звонка?</td>\n",
              "      <td>[0.0, 0.03, 0.0, 0.0, 0.01, 0.95]</td>\n",
              "      <td>tag_yes</td>\n",
              "    </tr>\n",
              "    <tr>\n",
              "      <th>19</th>\n",
              "      <td>допустимо</td>\n",
              "      <td>[0.01, 0.03, 0.0, 0.0, 0.0, 0.96]</td>\n",
              "      <td>tag_yes</td>\n",
              "    </tr>\n",
              "    <tr>\n",
              "      <th>20</th>\n",
              "      <td>зачем</td>\n",
              "      <td>[0.0, 0.0, 0.0, 0.0, 0.0, 1.0]</td>\n",
              "      <td>tag_yes</td>\n",
              "    </tr>\n",
              "    <tr>\n",
              "      <th>21</th>\n",
              "      <td>вероятно</td>\n",
              "      <td>[0.01, 0.03, 0.0, 0.0, 0.0, 0.96]</td>\n",
              "      <td>tag_yes</td>\n",
              "    </tr>\n",
              "    <tr>\n",
              "      <th>22</th>\n",
              "      <td>будь здоров!</td>\n",
              "      <td>[0.01, 0.03, 0.0, 0.0, 0.0, 0.96]</td>\n",
              "      <td>tag_yes</td>\n",
              "    </tr>\n",
              "    <tr>\n",
              "      <th>23</th>\n",
              "      <td>положим</td>\n",
              "      <td>[0.01, 0.03, 0.0, 0.0, 0.0, 0.96]</td>\n",
              "      <td>tag_yes</td>\n",
              "    </tr>\n",
              "    <tr>\n",
              "      <th>24</th>\n",
              "      <td>представьтесь пожалуйста?</td>\n",
              "      <td>[0.0, 0.0, 0.0, 0.0, 0.99, 0.01]</td>\n",
              "      <td>tag_who_is</td>\n",
              "    </tr>\n",
              "    <tr>\n",
              "      <th>25</th>\n",
              "      <td>кто здесь?</td>\n",
              "      <td>[0.0, 0.0, 0.0, 0.0, 1.0, 0.0]</td>\n",
              "      <td>tag_who_is</td>\n",
              "    </tr>\n",
              "    <tr>\n",
              "      <th>26</th>\n",
              "      <td>нет, в другой раз</td>\n",
              "      <td>[0.0, 0.0, 1.0, 0.0, 0.0, 0.0]</td>\n",
              "      <td>tag_not_now</td>\n",
              "    </tr>\n",
              "    <tr>\n",
              "      <th>27</th>\n",
              "      <td>жаль, но нет</td>\n",
              "      <td>[0.0, 1.0, 0.0, 0.0, 0.0, 0.0]</td>\n",
              "      <td>tag_no</td>\n",
              "    </tr>\n",
              "    <tr>\n",
              "      <th>28</th>\n",
              "      <td>еще раз</td>\n",
              "      <td>[0.0, 0.0, 0.0, 0.0, 1.0, 0.0]</td>\n",
              "      <td>tag_who_is</td>\n",
              "    </tr>\n",
              "    <tr>\n",
              "      <th>29</th>\n",
              "      <td>к прискорбию нет</td>\n",
              "      <td>[0.02, 0.97, 0.0, 0.0, 0.0, 0.0]</td>\n",
              "      <td>tag_no</td>\n",
              "    </tr>\n",
              "  </tbody>\n",
              "</table>\n",
              "</div>"
            ],
            "text/plain": [
              "                                           massege  ...             class\n",
              "0                                   зачем это надо  ...           tag_yes\n",
              "1                                               ну  ...           tag_yes\n",
              "2                               какая организация?  ...           tag_yes\n",
              "3                                     во имя чего?  ...           tag_yes\n",
              "4                                          вы тут?  ...           tag_yes\n",
              "5                                       да ну вас!  ...           tag_yes\n",
              "6               приветствую, а что за организация?  ...  tag_what_company\n",
              "7                                        да хорошо  ...           tag_yes\n",
              "8                                 с какой радости?  ...           tag_yes\n",
              "9                                    и что дальше?  ...           tag_yes\n",
              "10                                скажите вторично  ...        tag_who_is\n",
              "11                             вне всяких сомнений  ...           tag_yes\n",
              "12                                        не понял  ...        tag_who_is\n",
              "13                                 да нет наверное  ...            tag_no\n",
              "14  алло, я больше не хочу получать звонки от вас!  ...   tag_do_not_call\n",
              "15                                    сыт по горло  ...           tag_yes\n",
              "16                                    скорее всего  ...            tag_no\n",
              "17                                  не, не годится  ...            tag_no\n",
              "18                            а какая цель звонка?  ...           tag_yes\n",
              "19                                       допустимо  ...           tag_yes\n",
              "20                                           зачем  ...           tag_yes\n",
              "21                                        вероятно  ...           tag_yes\n",
              "22                                    будь здоров!  ...           tag_yes\n",
              "23                                         положим  ...           tag_yes\n",
              "24                       представьтесь пожалуйста?  ...        tag_who_is\n",
              "25                                      кто здесь?  ...        tag_who_is\n",
              "26                               нет, в другой раз  ...       tag_not_now\n",
              "27                                    жаль, но нет  ...            tag_no\n",
              "28                                         еще раз  ...        tag_who_is\n",
              "29                                к прискорбию нет  ...            tag_no\n",
              "\n",
              "[30 rows x 3 columns]"
            ]
          },
          "metadata": {
            "tags": []
          },
          "execution_count": 317
        }
      ]
    },
    {
      "cell_type": "code",
      "metadata": {
        "colab": {
          "base_uri": "https://localhost:8080/",
          "height": 935
        },
        "id": "-xnnyXHVxxzW",
        "outputId": "ae463509-1d5f-4bc3-c455-20b85a14e96d"
      },
      "source": [
        ""
      ],
      "execution_count": null,
      "outputs": [
        {
          "output_type": "execute_result",
          "data": {
            "text/html": [
              "<div>\n",
              "<style scoped>\n",
              "    .dataframe tbody tr th:only-of-type {\n",
              "        vertical-align: middle;\n",
              "    }\n",
              "\n",
              "    .dataframe tbody tr th {\n",
              "        vertical-align: top;\n",
              "    }\n",
              "\n",
              "    .dataframe thead th {\n",
              "        text-align: right;\n",
              "    }\n",
              "</style>\n",
              "<table border=\"1\" class=\"dataframe\">\n",
              "  <thead>\n",
              "    <tr style=\"text-align: right;\">\n",
              "      <th></th>\n",
              "      <th>massege</th>\n",
              "      <th>softmax</th>\n",
              "      <th>class</th>\n",
              "    </tr>\n",
              "  </thead>\n",
              "  <tbody>\n",
              "    <tr>\n",
              "      <th>0</th>\n",
              "      <td>зачем это надо</td>\n",
              "      <td>[0.0, 0.0, 0.0, 0.0, 0.15, 0.84]</td>\n",
              "      <td>tag_yes</td>\n",
              "    </tr>\n",
              "    <tr>\n",
              "      <th>1</th>\n",
              "      <td>ну</td>\n",
              "      <td>[0.0, 0.0, 0.0, 0.0, 0.0, 1.0]</td>\n",
              "      <td>tag_yes</td>\n",
              "    </tr>\n",
              "    <tr>\n",
              "      <th>2</th>\n",
              "      <td>какая организация?</td>\n",
              "      <td>[0.0, 0.0, 0.0, 0.03, 0.0, 0.97]</td>\n",
              "      <td>tag_yes</td>\n",
              "    </tr>\n",
              "    <tr>\n",
              "      <th>3</th>\n",
              "      <td>во имя чего?</td>\n",
              "      <td>[0.0, 0.0, 0.0, 0.0, 0.0, 1.0]</td>\n",
              "      <td>tag_yes</td>\n",
              "    </tr>\n",
              "    <tr>\n",
              "      <th>4</th>\n",
              "      <td>вы тут?</td>\n",
              "      <td>[0.0, 0.01, 0.0, 0.0, 0.02, 0.97]</td>\n",
              "      <td>tag_yes</td>\n",
              "    </tr>\n",
              "    <tr>\n",
              "      <th>5</th>\n",
              "      <td>да ну вас!</td>\n",
              "      <td>[0.0, 0.0, 0.0, 0.0, 0.0, 1.0]</td>\n",
              "      <td>tag_yes</td>\n",
              "    </tr>\n",
              "    <tr>\n",
              "      <th>6</th>\n",
              "      <td>приветствую, а что за организация?</td>\n",
              "      <td>[0.0, 0.08, 0.0, 0.67, 0.23, 0.02]</td>\n",
              "      <td>tag_what_company</td>\n",
              "    </tr>\n",
              "    <tr>\n",
              "      <th>7</th>\n",
              "      <td>да хорошо</td>\n",
              "      <td>[0.0, 0.0, 0.0, 0.0, 0.0, 1.0]</td>\n",
              "      <td>tag_yes</td>\n",
              "    </tr>\n",
              "    <tr>\n",
              "      <th>8</th>\n",
              "      <td>с какой радости?</td>\n",
              "      <td>[0.01, 0.02, 0.0, 0.02, 0.01, 0.94]</td>\n",
              "      <td>tag_yes</td>\n",
              "    </tr>\n",
              "    <tr>\n",
              "      <th>9</th>\n",
              "      <td>и что дальше?</td>\n",
              "      <td>[0.0, 0.0, 0.0, 0.0, 0.0, 1.0]</td>\n",
              "      <td>tag_yes</td>\n",
              "    </tr>\n",
              "    <tr>\n",
              "      <th>10</th>\n",
              "      <td>скажите вторично</td>\n",
              "      <td>[0.0, 0.05, 0.0, 0.0, 0.94, 0.0]</td>\n",
              "      <td>tag_who_is</td>\n",
              "    </tr>\n",
              "    <tr>\n",
              "      <th>11</th>\n",
              "      <td>вне всяких сомнений</td>\n",
              "      <td>[0.0, 0.0, 0.0, 0.0, 0.0, 1.0]</td>\n",
              "      <td>tag_yes</td>\n",
              "    </tr>\n",
              "    <tr>\n",
              "      <th>12</th>\n",
              "      <td>не понял</td>\n",
              "      <td>[0.0, 0.0, 0.0, 0.0, 1.0, 0.0]</td>\n",
              "      <td>tag_who_is</td>\n",
              "    </tr>\n",
              "    <tr>\n",
              "      <th>13</th>\n",
              "      <td>да нет наверное</td>\n",
              "      <td>[0.01, 0.53, 0.0, 0.0, 0.0, 0.47]</td>\n",
              "      <td>tag_no</td>\n",
              "    </tr>\n",
              "    <tr>\n",
              "      <th>14</th>\n",
              "      <td>алло, я больше не хочу получать звонки от вас!</td>\n",
              "      <td>[0.87, 0.12, 0.0, 0.0, 0.01, 0.0]</td>\n",
              "      <td>tag_do_not_call</td>\n",
              "    </tr>\n",
              "    <tr>\n",
              "      <th>15</th>\n",
              "      <td>сыт по горло</td>\n",
              "      <td>[0.97, 0.02, 0.0, 0.0, 0.0, 0.0]</td>\n",
              "      <td>tag_do_not_call</td>\n",
              "    </tr>\n",
              "    <tr>\n",
              "      <th>16</th>\n",
              "      <td>скорее всего</td>\n",
              "      <td>[0.0, 0.94, 0.0, 0.0, 0.0, 0.06]</td>\n",
              "      <td>tag_no</td>\n",
              "    </tr>\n",
              "    <tr>\n",
              "      <th>17</th>\n",
              "      <td>не, не годится</td>\n",
              "      <td>[0.0, 0.99, 0.0, 0.0, 0.0, 0.0]</td>\n",
              "      <td>tag_no</td>\n",
              "    </tr>\n",
              "    <tr>\n",
              "      <th>18</th>\n",
              "      <td>а какая цель звонка?</td>\n",
              "      <td>[0.0, 0.0, 0.0, 0.0, 0.0, 1.0]</td>\n",
              "      <td>tag_yes</td>\n",
              "    </tr>\n",
              "    <tr>\n",
              "      <th>19</th>\n",
              "      <td>допустимо</td>\n",
              "      <td>[0.01, 0.02, 0.0, 0.0, 0.0, 0.97]</td>\n",
              "      <td>tag_yes</td>\n",
              "    </tr>\n",
              "    <tr>\n",
              "      <th>20</th>\n",
              "      <td>зачем</td>\n",
              "      <td>[0.0, 0.0, 0.0, 0.0, 0.0, 1.0]</td>\n",
              "      <td>tag_yes</td>\n",
              "    </tr>\n",
              "    <tr>\n",
              "      <th>21</th>\n",
              "      <td>вероятно</td>\n",
              "      <td>[0.01, 0.02, 0.0, 0.0, 0.0, 0.97]</td>\n",
              "      <td>tag_yes</td>\n",
              "    </tr>\n",
              "    <tr>\n",
              "      <th>22</th>\n",
              "      <td>будь здоров!</td>\n",
              "      <td>[0.01, 0.02, 0.0, 0.0, 0.0, 0.97]</td>\n",
              "      <td>tag_yes</td>\n",
              "    </tr>\n",
              "    <tr>\n",
              "      <th>23</th>\n",
              "      <td>положим</td>\n",
              "      <td>[0.01, 0.02, 0.0, 0.0, 0.0, 0.97]</td>\n",
              "      <td>tag_yes</td>\n",
              "    </tr>\n",
              "    <tr>\n",
              "      <th>24</th>\n",
              "      <td>представьтесь пожалуйста?</td>\n",
              "      <td>[0.0, 0.0, 0.0, 0.0, 0.99, 0.0]</td>\n",
              "      <td>tag_who_is</td>\n",
              "    </tr>\n",
              "    <tr>\n",
              "      <th>25</th>\n",
              "      <td>кто здесь?</td>\n",
              "      <td>[0.0, 0.0, 0.0, 0.0, 1.0, 0.0]</td>\n",
              "      <td>tag_who_is</td>\n",
              "    </tr>\n",
              "    <tr>\n",
              "      <th>26</th>\n",
              "      <td>нет, в другой раз</td>\n",
              "      <td>[0.0, 0.0, 1.0, 0.0, 0.0, 0.0]</td>\n",
              "      <td>tag_not_now</td>\n",
              "    </tr>\n",
              "    <tr>\n",
              "      <th>27</th>\n",
              "      <td>жаль, но нет</td>\n",
              "      <td>[0.0, 1.0, 0.0, 0.0, 0.0, 0.0]</td>\n",
              "      <td>tag_no</td>\n",
              "    </tr>\n",
              "    <tr>\n",
              "      <th>28</th>\n",
              "      <td>еще раз</td>\n",
              "      <td>[0.0, 0.0, 0.0, 0.0, 1.0, 0.0]</td>\n",
              "      <td>tag_who_is</td>\n",
              "    </tr>\n",
              "    <tr>\n",
              "      <th>29</th>\n",
              "      <td>к прискорбию нет</td>\n",
              "      <td>[0.0, 1.0, 0.0, 0.0, 0.0, 0.0]</td>\n",
              "      <td>tag_no</td>\n",
              "    </tr>\n",
              "  </tbody>\n",
              "</table>\n",
              "</div>"
            ],
            "text/plain": [
              "                                           massege  ...             class\n",
              "0                                   зачем это надо  ...           tag_yes\n",
              "1                                               ну  ...           tag_yes\n",
              "2                               какая организация?  ...           tag_yes\n",
              "3                                     во имя чего?  ...           tag_yes\n",
              "4                                          вы тут?  ...           tag_yes\n",
              "5                                       да ну вас!  ...           tag_yes\n",
              "6               приветствую, а что за организация?  ...  tag_what_company\n",
              "7                                        да хорошо  ...           tag_yes\n",
              "8                                 с какой радости?  ...           tag_yes\n",
              "9                                    и что дальше?  ...           tag_yes\n",
              "10                                скажите вторично  ...        tag_who_is\n",
              "11                             вне всяких сомнений  ...           tag_yes\n",
              "12                                        не понял  ...        tag_who_is\n",
              "13                                 да нет наверное  ...            tag_no\n",
              "14  алло, я больше не хочу получать звонки от вас!  ...   tag_do_not_call\n",
              "15                                    сыт по горло  ...   tag_do_not_call\n",
              "16                                    скорее всего  ...            tag_no\n",
              "17                                  не, не годится  ...            tag_no\n",
              "18                            а какая цель звонка?  ...           tag_yes\n",
              "19                                       допустимо  ...           tag_yes\n",
              "20                                           зачем  ...           tag_yes\n",
              "21                                        вероятно  ...           tag_yes\n",
              "22                                    будь здоров!  ...           tag_yes\n",
              "23                                         положим  ...           tag_yes\n",
              "24                       представьтесь пожалуйста?  ...        tag_who_is\n",
              "25                                      кто здесь?  ...        tag_who_is\n",
              "26                               нет, в другой раз  ...       tag_not_now\n",
              "27                                    жаль, но нет  ...            tag_no\n",
              "28                                         еще раз  ...        tag_who_is\n",
              "29                                к прискорбию нет  ...            tag_no\n",
              "\n",
              "[30 rows x 3 columns]"
            ]
          },
          "metadata": {
            "tags": []
          },
          "execution_count": 293
        }
      ]
    },
    {
      "cell_type": "code",
      "metadata": {
        "colab": {
          "base_uri": "https://localhost:8080/"
        },
        "id": "USW4lwkarP5y",
        "outputId": "df1f1a83-ddf6-4adc-8db8-051b6cfbb7dd"
      },
      "source": [
        "!pip install pymorphy2"
      ],
      "execution_count": null,
      "outputs": [
        {
          "output_type": "stream",
          "text": [
            "Collecting pymorphy2\n",
            "\u001b[?25l  Downloading https://files.pythonhosted.org/packages/07/57/b2ff2fae3376d4f3c697b9886b64a54b476e1a332c67eee9f88e7f1ae8c9/pymorphy2-0.9.1-py3-none-any.whl (55kB)\n",
            "\r\u001b[K     |██████                          | 10kB 16.7MB/s eta 0:00:01\r\u001b[K     |███████████▉                    | 20kB 21.7MB/s eta 0:00:01\r\u001b[K     |█████████████████▊              | 30kB 22.6MB/s eta 0:00:01\r\u001b[K     |███████████████████████▋        | 40kB 24.7MB/s eta 0:00:01\r\u001b[K     |█████████████████████████████▌  | 51kB 26.0MB/s eta 0:00:01\r\u001b[K     |████████████████████████████████| 61kB 7.4MB/s \n",
            "\u001b[?25hCollecting pymorphy2-dicts-ru<3.0,>=2.4\n",
            "\u001b[?25l  Downloading https://files.pythonhosted.org/packages/3a/79/bea0021eeb7eeefde22ef9e96badf174068a2dd20264b9a378f2be1cdd9e/pymorphy2_dicts_ru-2.4.417127.4579844-py2.py3-none-any.whl (8.2MB)\n",
            "\u001b[K     |████████████████████████████████| 8.2MB 21.4MB/s \n",
            "\u001b[?25hCollecting dawg-python>=0.7.1\n",
            "  Downloading https://files.pythonhosted.org/packages/6a/84/ff1ce2071d4c650ec85745766c0047ccc3b5036f1d03559fd46bb38b5eeb/DAWG_Python-0.7.2-py2.py3-none-any.whl\n",
            "Requirement already satisfied: docopt>=0.6 in /usr/local/lib/python3.7/dist-packages (from pymorphy2) (0.6.2)\n",
            "Installing collected packages: pymorphy2-dicts-ru, dawg-python, pymorphy2\n",
            "Successfully installed dawg-python-0.7.2 pymorphy2-0.9.1 pymorphy2-dicts-ru-2.4.417127.4579844\n"
          ],
          "name": "stdout"
        }
      ]
    },
    {
      "cell_type": "code",
      "metadata": {
        "id": "ayzwBiNfrCyC"
      },
      "source": [
        "import pymorphy2\n",
        "ma = pymorphy2.MorphAnalyzer()\n"
      ],
      "execution_count": null,
      "outputs": []
    },
    {
      "cell_type": "code",
      "metadata": {
        "colab": {
          "base_uri": "https://localhost:8080/"
        },
        "id": "7hksaYm_rZ6-",
        "outputId": "1aa06e49-3f05-4e5c-d65c-91c19b50a180"
      },
      "source": [
        "ma.normal_forms('организаций')"
      ],
      "execution_count": null,
      "outputs": [
        {
          "output_type": "execute_result",
          "data": {
            "text/plain": [
              "['организация']"
            ]
          },
          "metadata": {
            "tags": []
          },
          "execution_count": 136
        }
      ]
    }
  ]
}